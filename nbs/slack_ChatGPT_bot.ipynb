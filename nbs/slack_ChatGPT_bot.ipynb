{
 "cells": [
  {
   "attachments": {},
   "cell_type": "markdown",
   "metadata": {},
   "source": [
    "### Experiment with `Slack_ChatGPT_Bot` code to update script"
   ]
  },
  {
   "cell_type": "code",
   "execution_count": 1,
   "metadata": {},
   "outputs": [],
   "source": [
    "import credentials\n",
    "OPENAI_API_KEY  = credentials.openai_api\n",
    "\n",
    "import openai\n",
    "openai.api_key = OPENAI_API_KEY"
   ]
  },
  {
   "cell_type": "code",
   "execution_count": 2,
   "metadata": {},
   "outputs": [],
   "source": [
    "prompt = 'You are working at a team building event organizer company. Your job is to come up with a plan for 14 data scientists who are having a company retreat for 1 whole day. Please include sport activites as well as board games. Include some time for lunch, dinner and snacks. Give a detailed summary, approx 6-8 items'"
   ]
  },
  {
   "cell_type": "code",
   "execution_count": 3,
   "metadata": {},
   "outputs": [],
   "source": [
    "response = openai.Completion.create(\n",
    "    engine=\"text-davinci-003\",\n",
    "    prompt=prompt,\n",
    "    max_tokens=1024,\n",
    "    n=1,\n",
    "    stop=None,\n",
    "    temperature=0.5).choices[0].text"
   ]
  },
  {
   "cell_type": "code",
   "execution_count": 5,
   "metadata": {},
   "outputs": [
    {
     "name": "stdout",
     "output_type": "stream",
     "text": [
      "\n",
      "\n",
      "1. Morning Yoga: Start the day with a relaxing yoga session to get the team energized and ready for the day. \n",
      "\n",
      "2. Team Building Activity: Have the team participate in a team building activity that encourages collaboration and cooperation. This could include a scavenger hunt, a game of charades, or a game of 20 questions.\n",
      "\n",
      "3. Lunch: Give the team a break for lunch. Provide a catered lunch or have the team make their own sandwiches. \n",
      "\n",
      "4. Board Games: Have the team break into smaller groups and play board games like Monopoly, Scrabble, or Clue.\n",
      "\n",
      "5. Networking Hour: Give the team an hour to network and get to know each other better. This could include icebreaker games or a group discussion.\n",
      "\n",
      "6. Outdoor Activity: Get the team outside for some physical activity. This could include a game of soccer, a nature hike, or a game of frisbee. \n",
      "\n",
      "7. Dinner: Give the team a break for dinner. Provide a catered dinner or have the team make their own pizzas. \n",
      "\n",
      "8. Movie Night: After dinner, have a movie night with popcorn and snacks. \n",
      "\n",
      "9. Team Building Exercise: Have the team participate in a team building exercise that encourages problem solving and communication. This could include a game of capture the flag or a game of laser tag. \n",
      "\n",
      "10. Snack Break: Give the team a break for snacks. Provide a snack bar or have the team make their own snacks. \n",
      "\n",
      "11. Team Building Activity: Have the team participate in a team building activity that encourages collaboration and cooperation. This could include a scavenger hunt, a game of charades, or a game of 20 questions.\n",
      "\n",
      "12. Board Games: Have the team break into smaller groups and play board games like Monopoly, Scrabble, or Clue.\n",
      "\n",
      "13. Outdoor Activity: Get the team outside for some physical activity. This could include a game of soccer, a nature hike, or a game of frisbee. \n",
      "\n",
      "14. Closing Ceremony: End the day with a closing ceremony. This could include a group discussion or a presentation of the day's activities.\n"
     ]
    }
   ],
   "source": [
    "print(response)"
   ]
  },
  {
   "cell_type": "code",
   "execution_count": null,
   "metadata": {},
   "outputs": [],
   "source": []
  },
  {
   "attachments": {},
   "cell_type": "markdown",
   "metadata": {},
   "source": [
    "Now switch to ChatGPT"
   ]
  },
  {
   "cell_type": "code",
   "execution_count": 11,
   "metadata": {},
   "outputs": [],
   "source": [
    "response = openai.ChatCompletion.create(\n",
    "    model=\"gpt-3.5-turbo\",\n",
    "    messages=[{'role' : 'user', 'content' : prompt}],\n",
    "    temperature=0.5)['choices'][0]['message']['content']\n",
    "\n",
    "\n",
    "#    max_tokens=1024,\n",
    "#    n=1,\n",
    "#    stop=None,"
   ]
  },
  {
   "cell_type": "code",
   "execution_count": 12,
   "metadata": {},
   "outputs": [
    {
     "name": "stdout",
     "output_type": "stream",
     "text": [
      "1. Scavenger Hunt: Divide the data scientists into teams and send them on a scavenger hunt around the retreat location. This will encourage teamwork, communication, and problem-solving skills.\n",
      "\n",
      "2. Volleyball: Set up a volleyball net for the data scientists to play a friendly game. This will promote physical activity and team bonding.\n",
      "\n",
      "3. Board Games: Set up a board game area where the data scientists can play games like Settlers of Catan, Monopoly, or Risk. This will provide a fun and relaxing break from physical activities while still promoting teamwork and strategic thinking.\n",
      "\n",
      "4. Yoga: Hire a yoga instructor to lead a yoga session for the data scientists. This will promote relaxation, mindfulness, and physical activity.\n",
      "\n",
      "5. Lunch: Provide a catered lunch for the data scientists. This will give them time to refuel and socialize with each other.\n",
      "\n",
      "6. Hiking: Organize a group hike through the retreat location. This will promote physical activity, team bonding, and appreciation for nature.\n",
      "\n",
      "7. Snacks: Provide healthy snacks like fruit, nuts, and granola bars throughout the day. This will give the data scientists energy and keep them fueled for activities.\n",
      "\n",
      "8. Dinner: Host a catered dinner for the data scientists. This will give them time to relax and socialize with each other after a long day of activities.\n",
      "\n",
      "Overall, the plan for the 14 data scientists includes a variety of activities that promote teamwork, physical activity, and relaxation. The day will include a scavenger hunt, volleyball, board games, yoga, hiking, and catered meals. Healthy snacks will be provided throughout the day to keep the data scientists fueled and energized.\n"
     ]
    }
   ],
   "source": [
    "print(response)"
   ]
  },
  {
   "cell_type": "code",
   "execution_count": null,
   "metadata": {},
   "outputs": [],
   "source": []
  },
  {
   "cell_type": "code",
   "execution_count": null,
   "metadata": {},
   "outputs": [],
   "source": []
  }
 ],
 "metadata": {
  "kernelspec": {
   "display_name": "openAI_venv",
   "language": "python",
   "name": "python3"
  },
  "language_info": {
   "codemirror_mode": {
    "name": "ipython",
    "version": 3
   },
   "file_extension": ".py",
   "mimetype": "text/x-python",
   "name": "python",
   "nbconvert_exporter": "python",
   "pygments_lexer": "ipython3",
   "version": "3.9.7"
  },
  "orig_nbformat": 4
 },
 "nbformat": 4,
 "nbformat_minor": 2
}
