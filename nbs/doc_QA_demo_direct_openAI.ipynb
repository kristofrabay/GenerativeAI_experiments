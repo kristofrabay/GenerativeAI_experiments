{
 "cells": [
  {
   "attachments": {},
   "cell_type": "markdown",
   "metadata": {},
   "source": [
    "## Kommunikáljunk dokumentumainkkal az `OpenAI` segítségével\n",
    "\n",
    "- Fájl: WARRANT TO PURCHASE SHARES OF CAPITAL STOCK\n",
    "- Feldolgozó algoritmus: GPT-4 (`gpt-4-0314`)\n",
    "\n",
    "Példák\n",
    "1. QA (Kérdéseket teszünk fel a szerződésről)\n",
    "2. Instrukció (Átírunk, hozzáadunk szövegrészeket)\n",
    "3. Információ-kinyerés (Kulcsszavakat, dátumokat, szerződő feleket beazonosítjuk)\n",
    "4. Kivonatolás (Röviden összefoglaljuk a szerződés tartalmát)"
   ]
  },
  {
   "cell_type": "code",
   "execution_count": 1,
   "metadata": {},
   "outputs": [],
   "source": [
    "import credentials\n",
    "import time\n",
    "import re\n",
    "import os\n",
    "os.environ[\"OPENAI_API_KEY\"] = credentials.openai_api\n",
    "\n",
    "import openai\n",
    "import tiktoken\n",
    "\n",
    "from langchain.document_loaders import PyPDFLoader"
   ]
  },
  {
   "cell_type": "code",
   "execution_count": null,
   "metadata": {},
   "outputs": [],
   "source": []
  },
  {
   "attachments": {},
   "cell_type": "markdown",
   "metadata": {},
   "source": [
    "### 1. QA (kérdezzünk a szövegről!)"
   ]
  },
  {
   "cell_type": "code",
   "execution_count": 2,
   "metadata": {},
   "outputs": [],
   "source": [
    "loader = PyPDFLoader(\"../docs/Law_Insider_eidos-therapeutics-inc_contract_Filed_23-03-2018_Contract.pdf\")\n",
    "docs = loader.load_and_split()"
   ]
  },
  {
   "cell_type": "code",
   "execution_count": 6,
   "metadata": {},
   "outputs": [
    {
     "data": {
      "text/plain": [
       "9"
      ]
     },
     "execution_count": 6,
     "metadata": {},
     "output_type": "execute_result"
    }
   ],
   "source": [
    "len(docs)"
   ]
  },
  {
   "attachments": {},
   "cell_type": "markdown",
   "metadata": {},
   "source": [
    "9 részre tagolta a PDF-et automatikusan, sok modell ugyanis nem képes befogadni egészben szövegeket. A `GPT-4` 'kontextusa' 8 000 token, ami azt jelenti, hogy a `prompt` + `completion` összesen nem haladhatja meg a ~8 000 szót. Ebbe biztosan beférünk, tehát az egész szerződést egyszerre be tudjuk adni neki"
   ]
  },
  {
   "cell_type": "code",
   "execution_count": 10,
   "metadata": {},
   "outputs": [
    {
     "name": "stdout",
     "output_type": "stream",
     "text": [
      "Szavak száma: 3156\n",
      "Karakterek száma: 19158\n"
     ]
    }
   ],
   "source": [
    "teljes_szoveg = ' '.join([i.page_content for i in docs])\n",
    "\n",
    "print('Szavak száma:', len(teljes_szoveg.split()))\n",
    "print('Karakterek száma:', len(teljes_szoveg))"
   ]
  },
  {
   "cell_type": "code",
   "execution_count": null,
   "metadata": {},
   "outputs": [],
   "source": []
  },
  {
   "attachments": {},
   "cell_type": "markdown",
   "metadata": {},
   "source": [
    "Milyen árazásra számítsunk?\n",
    "\n",
    "GPT-4\n",
    "- prompt:       $0.03 / 1K tokens\n",
    "- completion:   $0.06 / 1K tokens"
   ]
  },
  {
   "cell_type": "code",
   "execution_count": 7,
   "metadata": {},
   "outputs": [
    {
     "name": "stdout",
     "output_type": "stream",
     "text": [
      "4533\n",
      "38\n"
     ]
    }
   ],
   "source": [
    "gpt_4_token_encoding = tiktoken.get_encoding(\"cl100k_base\")\n",
    "teljes_szoveg_tokenek = gpt_4_token_encoding.encode(teljes_szoveg)\n",
    "\n",
    "prompt_template = \"\"\"Use the following pieces of context to answer the users question. \n",
    "                     If you don't know the answer, just say that you don't know, don't try to make up an answer\"\"\"\n",
    "prompt_tokenek = gpt_4_token_encoding.encode(prompt_template)\n",
    "\n",
    "print(len(teljes_szoveg_tokenek))\n",
    "print(len(prompt_tokenek))"
   ]
  },
  {
   "attachments": {},
   "cell_type": "markdown",
   "metadata": {},
   "source": [
    "- Input tokenek száma: 4533 + 38 = 4571\n",
    "- Output (completion / válasz) tokenek becslése: ~100\n",
    "\n",
    "- Teljes költség = (4571 * 0.03 / 1000) + (100 * 0.06 / 1000) = 0.14313$ = 14.3 cent / megválaszolt kérdés\n",
    "- Ebből \n",
    "    - prompt: 13.7 cent\n",
    "    - completion: 0.6 cent\n",
    "\n",
    "\n",
    "Durván 50 Ft-ba kerül 1 kérdés és megválaszolása `GPT-4` modellel. Ez azért van, mert jelenleg a teljes dokumentumot megadjuk neki kontextusként. Hatékonyabb módszer, ha kiválasztjuk a legrelevánsabb szövegrészeket, és csak azokat pakoljuk be a prompt-ba. "
   ]
  },
  {
   "cell_type": "code",
   "execution_count": null,
   "metadata": {},
   "outputs": [],
   "source": []
  },
  {
   "cell_type": "code",
   "execution_count": 11,
   "metadata": {},
   "outputs": [],
   "source": [
    "def direct_OpenAI_QA(context, question, model = 'gpt-4'):\n",
    "\n",
    "    prompt = f\"\"\"Use the following pieces of context to answer the users question. \n",
    "    If you don't know the answer, just say that you don't know, don't try to make up an answer\n",
    "\n",
    "    {context}\n",
    "\n",
    "    Question: \n",
    "    {question}\n",
    "\n",
    "    Answer:\"\"\"\n",
    "\n",
    "    message = [{\"role\": \"user\", \"content\": prompt}]\n",
    "\n",
    "    result = openai.ChatCompletion.create(model=model,  \n",
    "                                          messages = message, \n",
    "                                          temperature=0, \n",
    "                                          top_p=1)\n",
    "    \n",
    "    completion = result['choices'][0]['message']['content']\n",
    "    usage_info = result['usage'].to_dict()\n",
    "\n",
    "    return completion, usage_info"
   ]
  },
  {
   "cell_type": "code",
   "execution_count": null,
   "metadata": {},
   "outputs": [],
   "source": []
  },
  {
   "cell_type": "code",
   "execution_count": 12,
   "metadata": {},
   "outputs": [],
   "source": [
    "queries = ['What is this document about?',\n",
    "           'What is the title of the contract?',\n",
    "           'Who are the agreeing parties?',\n",
    "           'Which law governs the contract?',\n",
    "           'How many shares and at what price can be purchased?',\n",
    "           'Upon net exercising, what is the formula used?',\n",
    "           'Who are the representatives who signed the contract?',\n",
    "           'Are there any attachments, amendments or any supplementary material included?',\n",
    "           'Can you identify any risk factors?',\n",
    "           'When was Michael Jordan born?']"
   ]
  },
  {
   "cell_type": "code",
   "execution_count": 13,
   "metadata": {},
   "outputs": [
    {
     "name": "stdout",
     "output_type": "stream",
     "text": [
      "Q: What is this document about?\n",
      "\n",
      "\n",
      "This document is a Warrant to Purchase Shares of Capital Stock issued by Eidos Therapeutics, Inc. to BridgeBio Pharma LLC. It outlines the terms and conditions for the holder (BridgeBio Pharma LLC) to purchase a specified number of shares of the company's capital stock at a predetermined exercise price, subject to adjustments and other provisions.\n",
      "\n",
      " ----------------------------------------------------------------------\n",
      "Q: What is the title of the contract?\n",
      "\n",
      "\n",
      "The title of the contract is \"WARRANT TO PURCHASE SHARES OF CAPITAL STOCK\".\n",
      "\n",
      " ----------------------------------------------------------------------\n",
      "Q: Who are the agreeing parties?\n",
      "\n",
      "\n",
      "The agreeing parties are Eidos Therapeutics, Inc. and BridgeBio Pharma LLC.\n",
      "\n",
      " ----------------------------------------------------------------------\n",
      "Q: Which law governs the contract?\n",
      "\n",
      "\n",
      "This Warrant shall be governed by and construed in accordance with the Delaware General Corporation Law as to matters within the scope thereof, and as to all other matters shall be governed by, and construed in accordance with, the internal laws of the State of California, without reference to principles of conflict of laws or choice of laws.\n",
      "\n",
      " ----------------------------------------------------------------------\n",
      "Q: How many shares and at what price can be purchased?\n",
      "\n",
      "\n",
      "The number of shares that can be purchased is equal to $4,000,000 divided by the applicable Exercise Price, rounded down to the nearest whole share. The Exercise Price depends on the type of shares being purchased:\n",
      "\n",
      "1. If the Warrant is exercisable for shares of New Preferred Stock, the Exercise Price is the lowest per share purchase price at which shares of the New Preferred Stock are or have been sold in the Qualified Financing at the time of conversion of the Notes.\n",
      "2. If the Warrant is exercisable for shares of Series Seed Preferred Stock, the Exercise Price is $1.3248 per share.\n",
      "\n",
      " ----------------------------------------------------------------------\n",
      "Q: Upon net exercising, what is the formula used?\n",
      "\n",
      "\n",
      "The formula used for net exercising is:\n",
      "\n",
      "X = Y(A - B) / A\n",
      "\n",
      "Where:\n",
      "X = The number of Warrant Shares to be issued to the Holder.\n",
      "Y = The number of Warrant Shares purchasable under this Warrant or, if only a portion of the Warrant is being exercised, the portion of the Warrant being canceled (at the date of such calculation).\n",
      "A = The fair market value of one (1) Warrant Share (at the date of such calculation).\n",
      "B = The Exercise Price (as adjusted to the date of such calculations).\n",
      "\n",
      " ----------------------------------------------------------------------\n",
      "Q: Who are the representatives who signed the contract?\n",
      "\n",
      "\n",
      "The representatives who signed the contract are:\n",
      "\n",
      "1. For Eidos Therapeutics, Inc.:\n",
      "   Name: Christine Siu\n",
      "   Title: Chief Financial Officer\n",
      "\n",
      "2. For BridgeBio Pharma LLC:\n",
      "   Name: Neil Kumar\n",
      "   Title: Chief Executive Officer\n",
      "\n",
      " ----------------------------------------------------------------------\n",
      "Q: Are there any attachments, amendments or any supplementary material included?\n",
      "\n",
      "\n",
      "Yes, there is a Notice of Exercise and an Assignment Form attached to the Warrant.\n",
      "\n",
      " ----------------------------------------------------------------------\n",
      "Q: Can you identify any risk factors?\n",
      "\n",
      "\n",
      "I cannot identify any specific risk factors in the provided text, as it mainly focuses on the terms and conditions of the warrant, its exercise, and adjustments.\n",
      "\n",
      " ----------------------------------------------------------------------\n",
      "Q: When was Michael Jordan born?\n",
      "\n",
      "\n",
      "I don't know.\n",
      "\n",
      " ----------------------------------------------------------------------\n"
     ]
    }
   ],
   "source": [
    "usage_info = []\n",
    "\n",
    "for query in queries:\n",
    "\n",
    "    print('Q:', query)\n",
    "    print('\\n')\n",
    "\n",
    "    _c, _u = direct_OpenAI_QA(teljes_szoveg, query)\n",
    "    usage_info.append(_u)\n",
    "\n",
    "    print(_c)\n",
    "    print('\\n', '-------' * 10)"
   ]
  },
  {
   "attachments": {},
   "cell_type": "markdown",
   "metadata": {},
   "source": [
    "Minden válasz helyesnek bizonyul, ráadásul a \"kakukktojás\" kérdésen sem hasalt el: kontextusból nem szabadna tudnia, mikor született Michael Jordan, és azt nem is válaszolja meg. Természeseten erre a kérdésre biztosan tudja egyébként a választ, viszont ha nem tudná, 'hallucinálni' kezdene, amit így elkerültünk (prompt-ban utasítottuk, hogy ha kizárólag a kontextusból nem tudja kivenni az infót, akkor mondja meg)"
   ]
  },
  {
   "cell_type": "code",
   "execution_count": null,
   "metadata": {},
   "outputs": [],
   "source": []
  },
  {
   "attachments": {},
   "cell_type": "markdown",
   "metadata": {},
   "source": [
    "Mennyibe került mindez?"
   ]
  },
  {
   "cell_type": "code",
   "execution_count": 21,
   "metadata": {},
   "outputs": [
    {
     "name": "stdout",
     "output_type": "stream",
     "text": [
      "Prompt teljes költsége: 1.37856\n",
      "Completion teljes költsége: 0.030899999999999997\n",
      "Teljes költség: 1.40946\n"
     ]
    }
   ],
   "source": [
    "prompt_koltseg = sum([i['prompt_tokens'] for i in usage_info]) * 0.03 / 1000\n",
    "completion_koltseg = sum([i['completion_tokens'] for i in usage_info]) * 0.06 / 1000\n",
    "\n",
    "print('Prompt teljes költsége:', prompt_koltseg)\n",
    "print('Completion teljes költsége:', completion_koltseg)\n",
    "print('Teljes költség:', prompt_koltseg + completion_koltseg)"
   ]
  },
  {
   "attachments": {},
   "cell_type": "markdown",
   "metadata": {},
   "source": [
    "Összesen $1.4-et költöttünk el minden megválaszolásához"
   ]
  },
  {
   "cell_type": "code",
   "execution_count": null,
   "metadata": {},
   "outputs": [],
   "source": []
  },
  {
   "cell_type": "code",
   "execution_count": null,
   "metadata": {},
   "outputs": [],
   "source": []
  },
  {
   "attachments": {},
   "cell_type": "markdown",
   "metadata": {},
   "source": [
    "Egyesével kell feltenni a kérdéseket? Mi van, ha a promptba több kérdést sorolunk fel, és utasítjuk a modell, miképp válaszoljon"
   ]
  },
  {
   "cell_type": "code",
   "execution_count": 22,
   "metadata": {},
   "outputs": [
    {
     "name": "stdout",
     "output_type": "stream",
     "text": [
      "1. What is this document about?\n",
      "2. What is the title of the contract?\n",
      "3. Who are the agreeing parties?\n",
      "4. Which law governs the contract?\n",
      "5. How many shares and at what price can be purchased?\n",
      "6. Upon net exercising, what is the formula used?\n",
      "7. Who are the representatives who signed the contract?\n",
      "8. Are there any attachments, amendments or any supplementary material included?\n",
      "9. Can you identify any risk factors?\n",
      "10. When was Michael Jordan born?\n"
     ]
    }
   ],
   "source": [
    "queries_as_a_whole = '\\n'.join([str(i+1) + '. ' + j for i, j in zip(range(len(queries)), queries)])\n",
    "print(queries_as_a_whole)"
   ]
  },
  {
   "cell_type": "code",
   "execution_count": 27,
   "metadata": {},
   "outputs": [],
   "source": [
    "def direct_OpenAI_multi_QA(context, question, model = 'gpt-4'):\n",
    "\n",
    "    prompt = f\"\"\"Use the following pieces of context to answer the questions at the end. \n",
    "    If you don't know the answer based on the context, just say that you don't know, don't try to make up an answer.\n",
    "\n",
    "    {context}\n",
    "\n",
    "    List of questions: \n",
    "    {question}\n",
    "\n",
    "    Answers to each question:\"\"\"\n",
    "\n",
    "    message = [{\"role\": \"user\", \"content\": prompt}]\n",
    "\n",
    "    result = openai.ChatCompletion.create(model=model,  \n",
    "                                          messages = message, \n",
    "                                          temperature=0, \n",
    "                                          top_p=1)\n",
    "    \n",
    "    completion = result['choices'][0]['message']['content']\n",
    "    usage_info = result['usage'].to_dict()\n",
    "\n",
    "    return completion, usage_info"
   ]
  },
  {
   "cell_type": "code",
   "execution_count": 28,
   "metadata": {},
   "outputs": [],
   "source": [
    "_c, _u = direct_OpenAI_multi_QA(teljes_szoveg, queries_as_a_whole)"
   ]
  },
  {
   "cell_type": "code",
   "execution_count": 29,
   "metadata": {},
   "outputs": [
    {
     "name": "stdout",
     "output_type": "stream",
     "text": [
      "1. This document is about a warrant to purchase shares of capital stock in Eidos Therapeutics, Inc.\n",
      "2. The title of the contract is \"Warrant to Purchase Shares of Capital Stock.\"\n",
      "3. The agreeing parties are Eidos Therapeutics, Inc. and BridgeBio Pharma LLC.\n",
      "4. The contract is governed by the Delaware General Corporation Law and the internal laws of the State of California.\n",
      "5. The number of shares that can be purchased is determined by dividing $4,000,000 by the applicable Exercise Price, rounded down to the nearest whole share. The Exercise Price depends on whether the Warrant is exercisable for shares of New Preferred Stock or Series Seed Preferred Stock, as specified in Section 1(b) of the document.\n",
      "6. Upon net exercising, the formula used is: X = Y(A - B) / A, where X is the number of Warrant Shares to be issued, Y is the number of Warrant Shares purchasable under the Warrant, A is the fair market value of one Warrant Share, and B is the Exercise Price.\n",
      "7. The representatives who signed the contract are Christine Siu, Chief Financial Officer of Eidos Therapeutics, Inc., and Neil Kumar, Chief Executive Officer of BridgeBio Pharma LLC.\n",
      "8. There are no attachments, amendments, or supplementary material included in the provided text.\n",
      "9. The document does not explicitly mention any risk factors.\n",
      "10. Michael Jordan was born on February 17, 1963. However, this information is not related to the document.\n"
     ]
    }
   ],
   "source": [
    "print(_c)"
   ]
  },
  {
   "cell_type": "code",
   "execution_count": 30,
   "metadata": {},
   "outputs": [
    {
     "name": "stdout",
     "output_type": "stream",
     "text": [
      "Prompt teljes költsége: 0.14103\n",
      "Completion teljes költsége: 0.018779999999999998\n",
      "Teljes költség: 0.15980999999999998\n"
     ]
    }
   ],
   "source": [
    "prompt_koltseg = _u['prompt_tokens'] * 0.03 / 1000\n",
    "completion_koltseg = _u['completion_tokens'] * 0.06 / 1000\n",
    "\n",
    "print('Prompt teljes költsége:', prompt_koltseg)\n",
    "print('Completion teljes költsége:', completion_koltseg)\n",
    "print('Teljes költség:', prompt_koltseg + completion_koltseg)"
   ]
  },
  {
   "attachments": {},
   "cell_type": "markdown",
   "metadata": {},
   "source": [
    "Az előző 1.4 USD helyett most csak 16 centbe (12%-a) került az API hívás. A válaszok pontossága és minősége viszont valamelyest romlott, igaz csekély mértékben. A jobb válaszok érdekében tehár érdemes egyszerre 1 kérdést feltenni"
   ]
  },
  {
   "cell_type": "code",
   "execution_count": null,
   "metadata": {},
   "outputs": [],
   "source": []
  },
  {
   "attachments": {},
   "cell_type": "markdown",
   "metadata": {},
   "source": [
    "### 2. Szöveg módosítása / kiegészítése"
   ]
  },
  {
   "cell_type": "code",
   "execution_count": 34,
   "metadata": {},
   "outputs": [],
   "source": [
    "def direct_OpenAI_Instruct(context, instruction, model = 'gpt-4'):\n",
    "\n",
    "    prompt = f\"\"\"Use the following pieces of context to complete the given task. \n",
    "    You do not need to modify the original text, just come up with the suggested modifications.\n",
    "\n",
    "    {context}\n",
    "\n",
    "    Instruction: \n",
    "    {instruction}\n",
    "\n",
    "    Completion: \"\"\"\n",
    "\n",
    "    message = [{\"role\": \"user\", \"content\": prompt}]\n",
    "\n",
    "    result = openai.ChatCompletion.create(model=model,  \n",
    "                                          messages = message, \n",
    "                                          temperature=0, \n",
    "                                          top_p=1)\n",
    "    \n",
    "    completion = result['choices'][0]['message']['content']\n",
    "    usage_info = result['usage'].to_dict()\n",
    "\n",
    "    return completion, usage_info"
   ]
  },
  {
   "cell_type": "code",
   "execution_count": 39,
   "metadata": {},
   "outputs": [],
   "source": [
    "text_gen_instructions = [\n",
    "    'Write up a clause about market volatility: upon a 20% drop in S&P500 contract shall be terminated',\n",
    "    'Suggest a draft for a third option to the number of shares: upon an earthquake, price shall be only $1.1',\n",
    "    'Rewrite the governing law section: Texas law is the only correct one']"
   ]
  },
  {
   "cell_type": "code",
   "execution_count": 40,
   "metadata": {},
   "outputs": [
    {
     "name": "stdout",
     "output_type": "stream",
     "text": [
      "I: Write up a clause about market volatility: upon a 20% drop in S&P500 contract shall be terminated\n",
      "\n",
      "\n",
      "Market Volatility Termination Clause: In the event that the S&P 500 index experiences a decline of 20% or more from its highest closing value within the previous 12-month period, this Warrant shall automatically terminate and be of no further force or effect. The termination shall be effective as of the close of business on the date of such decline in the S&P 500 index.\n",
      "\n",
      " ----------------------------------------------------------------------\n",
      "I: Suggest a draft for a third option to the number of shares: upon an earthquake, price shall be only $1.1\n",
      "\n",
      "\n",
      "(iii) if the Warrant is exercisable for shares upon the occurrence of an earthquake, as set forth in clause (c) of Section 2 below, the Exercise Price shall be $1.1 per share.\n",
      "\n",
      " ----------------------------------------------------------------------\n",
      "I: Rewrite the governing law section: Texas law is the only correct one\n",
      "\n",
      "\n",
      "10. Governing Law. This Warrant shall be governed by and construed in accordance with the Texas Business Organizations Code as to matters within the scope thereof, and as to all other matters shall be governed by, and construed in accordance with, the internal laws of the State of Texas, without reference to principles of conflict of laws or choice of laws.\n",
      "\n",
      " ----------------------------------------------------------------------\n"
     ]
    }
   ],
   "source": [
    "for instruction in text_gen_instructions:\n",
    "\n",
    "    print('I:', instruction)\n",
    "    print('\\n')\n",
    "\n",
    "    _c, _ = direct_OpenAI_Instruct(teljes_szoveg, instruction)\n",
    "\n",
    "    print(_c)\n",
    "    print('\\n', '-------' * 10)"
   ]
  },
  {
   "attachments": {},
   "cell_type": "markdown",
   "metadata": {},
   "source": [
    "Használható, emberszerűen megfogalmazott módosítási javaslatokatt tett a modell"
   ]
  },
  {
   "cell_type": "code",
   "execution_count": null,
   "metadata": {},
   "outputs": [],
   "source": []
  },
  {
   "cell_type": "code",
   "execution_count": null,
   "metadata": {},
   "outputs": [],
   "source": []
  },
  {
   "attachments": {},
   "cell_type": "markdown",
   "metadata": {},
   "source": [
    "### 3. Információ kinyerés"
   ]
  },
  {
   "cell_type": "code",
   "execution_count": 41,
   "metadata": {},
   "outputs": [],
   "source": [
    "def direct_OpenAI_InfExtr(context, model = 'gpt-4'):\n",
    "\n",
    "    prompt = f\"\"\"Use the following pieces of context to complete the task at the end. \n",
    "    If you don't know the answer, just say that you don't know, don't try to make up an answer.\n",
    "\n",
    "    {context}\n",
    "\n",
    "    Task:\n",
    "    Extract all keywords, numbers, dates, organizations, people, any other important parts.\n",
    "    List them as key-value pairs, organize them into categories.\n",
    "\n",
    "    Extracted information: \"\"\"\n",
    "\n",
    "    message = [{\"role\": \"user\", \"content\": prompt}]\n",
    "\n",
    "    result = openai.ChatCompletion.create(model=model,  \n",
    "                                          messages = message, \n",
    "                                          temperature=0, \n",
    "                                          top_p=1)\n",
    "    \n",
    "    completion = result['choices'][0]['message']['content']\n",
    "    usage_info = result['usage'].to_dict()\n",
    "\n",
    "    return completion, usage_info"
   ]
  },
  {
   "cell_type": "code",
   "execution_count": 42,
   "metadata": {},
   "outputs": [
    {
     "name": "stdout",
     "output_type": "stream",
     "text": [
      "Dates:\n",
      "- Date of Issuance: February 22, 2018\n",
      "- Void after: February 21, 2021\n",
      "\n",
      "Organizations:\n",
      "- Eidos Therapeutics, Inc.\n",
      "- BridgeBio Pharma LLC\n",
      "\n",
      "People:\n",
      "- Christine Siu (Chief Financial Officer of Eidos Therapeutics, Inc.)\n",
      "- Neil Kumar (Chief Executive Officer of BridgeBio Pharma LLC)\n",
      "\n",
      "Keywords:\n",
      "- Warrant\n",
      "- Securities Act of 1933\n",
      "- Purchase Agreement\n",
      "- Holder\n",
      "- Exercise Price\n",
      "- Warrant Shares\n",
      "- New Preferred Stock\n",
      "- Series Seed Preferred Stock\n",
      "- Qualified Financing\n",
      "- Deemed Liquidation Event\n",
      "- IPO (Initial Public Offering)\n",
      "- Net Exercise\n",
      "- Delaware General Corporation Law\n",
      "- State of California\n",
      "\n",
      "Numbers:\n",
      "- Warrant Shares: $4,000,000\n",
      "- Exercise Price for Series Seed Preferred Stock: $1.3248 per share\n",
      "- Notice period for Record Date, Deemed Liquidation Event, or IPO: 10 days\n",
      "\n",
      "Important Parts:\n",
      "- Warrant and securities not registered under the Securities Act of 1933\n",
      "- Holder entitled to purchase Warrant Shares upon surrender of the Warrant\n",
      "- Exercise Period commences upon Qualified Financing or Deemed Liquidation Event\n",
      "- Warrant exercisable for shares of New Preferred Stock or Series Seed Preferred Stock\n",
      "- Adjustment of Exercise Price and Number of Warrant Shares\n",
      "- No fractional shares or scrip issued upon exercise of Warrant\n",
      "- No stockholder rights prior to exercise of Warrant\n",
      "- Governing law: Delaware General Corporation Law and internal laws of the State of California\n",
      "- Amendment and severability provisions\n",
      "- Notice of Exercise and Assignment Form\n"
     ]
    }
   ],
   "source": [
    "_a, _u = direct_OpenAI_InfExtr(teljes_szoveg)\n",
    "\n",
    "print(_a)"
   ]
  },
  {
   "cell_type": "code",
   "execution_count": null,
   "metadata": {},
   "outputs": [],
   "source": []
  },
  {
   "attachments": {},
   "cell_type": "markdown",
   "metadata": {},
   "source": [
    "### 4. Szövegkivonatolás"
   ]
  },
  {
   "cell_type": "code",
   "execution_count": 43,
   "metadata": {},
   "outputs": [],
   "source": [
    "def direct_OpenAI_Summ(context, model = 'gpt-4'):\n",
    "\n",
    "    prompt = f\"\"\"Write a concise summary of the following. \n",
    "    Include all financial data, such as the number and price of stocks, agreeing parties, important dates.\n",
    "\n",
    "    {context}\n",
    "\n",
    "    CONCISE SUMMARY:\"\"\"\n",
    "\n",
    "    message = [{\"role\": \"user\", \"content\": prompt}]\n",
    "\n",
    "    result = openai.ChatCompletion.create(model=model,  \n",
    "                                          messages = message, \n",
    "                                          temperature=0, \n",
    "                                          top_p=1)\n",
    "    \n",
    "    completion = result['choices'][0]['message']['content']\n",
    "    usage_info = result['usage'].to_dict()\n",
    "\n",
    "    return completion, usage_info"
   ]
  },
  {
   "cell_type": "code",
   "execution_count": 45,
   "metadata": {},
   "outputs": [
    {
     "name": "stdout",
     "output_type": "stream",
     "text": [
      "Eidos Therapeutics has issued a warrant to BridgeBio Pharma, allowing the purchase of up to $4,000,000 worth of Eidos' capital stock. The warrant is valid from February 22, 2018, to February 21, 2021. The purchase price for the warrant shares is dependent on whether the warrant is exercisable for shares of New Preferred Stock or Series Seed Preferred Stock.\n"
     ]
    }
   ],
   "source": [
    "_s, _u = direct_OpenAI_Summ(teljes_szoveg)\n",
    "\n",
    "print(_s)"
   ]
  },
  {
   "cell_type": "code",
   "execution_count": null,
   "metadata": {},
   "outputs": [],
   "source": []
  },
  {
   "attachments": {},
   "cell_type": "markdown",
   "metadata": {},
   "source": [
    "Nézzük meg mire képes ha más nyelvű outputot kérünk tőle"
   ]
  },
  {
   "cell_type": "code",
   "execution_count": 47,
   "metadata": {},
   "outputs": [],
   "source": [
    "def direct_OpenAI_Summ_output_language(context, model = 'gpt-4', language = 'Hungarian'):\n",
    "\n",
    "    prompt = f\"\"\"Write a concise summary of the following. \n",
    "    Include all financial data, such as the number and price of stocks, agreeing parties, important dates.\n",
    "\n",
    "    {context}\n",
    "\n",
    "    CONCISE SUMMARY IN {language}:\"\"\"\n",
    "\n",
    "    message = [{\"role\": \"user\", \"content\": prompt}]\n",
    "\n",
    "    result = openai.ChatCompletion.create(model=model,  \n",
    "                                          messages = message, \n",
    "                                          temperature=0, \n",
    "                                          top_p=1)\n",
    "    \n",
    "    completion = result['choices'][0]['message']['content']\n",
    "    usage_info = result['usage'].to_dict()\n",
    "\n",
    "    return completion, usage_info"
   ]
  },
  {
   "cell_type": "code",
   "execution_count": 48,
   "metadata": {},
   "outputs": [
    {
     "name": "stdout",
     "output_type": "stream",
     "text": [
      "Az Eidos Therapeutics, Inc. kibocsát egy részvényvásárlási jogot a BridgeBio Pharma LLC részére, amely 2018. február 22-én lép életbe és 2021. február 21-én jár le. A jogosultság értéke 4 000 000 dollár, amelyet a megfelelő gyakorlási ár osztva határoz meg. A részvények vásárlásának gyakorlási ára a következőképpen alakul: (i) ha a jogosultság új preferált részvényekre vonatkozik, akkor a minősített finanszírozás során értékesített új preferált részvények legalacsonyabb ára, (ii) ha a jogosultság a sorozat vetőmag preferált részvényekre vonatkozik, akkor 1,3248 dollár részvényenként. A jogosultság gyakorlási időszaka a minősített finanszírozás végrehajtásától vagy a tőkébe fektetési eseménytől számított három évig tart.\n"
     ]
    }
   ],
   "source": [
    "_h, _u = direct_OpenAI_Summ_output_language(teljes_szoveg, language='HUNGARIAN')\n",
    "\n",
    "print(_h)"
   ]
  },
  {
   "cell_type": "code",
   "execution_count": null,
   "metadata": {},
   "outputs": [],
   "source": []
  },
  {
   "cell_type": "code",
   "execution_count": 49,
   "metadata": {},
   "outputs": [
    {
     "name": "stdout",
     "output_type": "stream",
     "text": [
      "Выставка 4.4\n",
      "Дата выпуска: 22 февраля 2018 года. Срок действия: до 21 февраля 2021 года. Eidos Therapeutics, Inc. выпускает гарантию на покупку акций капитала для BridgeBio Pharma LLC. Согласно соглашению о покупке заметок от 22 февраля 2018 года, держатель гарантии имеет право приобрести у компании акции на сумму до 4 000 000 долларов США по соответствующей цене акций. Гарантия может быть исполнена в течение срока, начинающегося с даты заключения квалифицированного финансирования или непосредственно перед завершением события ликвидации, и заканчивается через три года после начала исполнения или при завершении события ликвидации или IPO.\n"
     ]
    }
   ],
   "source": [
    "_r, _u = direct_OpenAI_Summ_output_language(teljes_szoveg, language='RUSSIAN')\n",
    "\n",
    "print(_r)"
   ]
  },
  {
   "cell_type": "code",
   "execution_count": null,
   "metadata": {},
   "outputs": [],
   "source": []
  },
  {
   "cell_type": "code",
   "execution_count": null,
   "metadata": {},
   "outputs": [],
   "source": []
  }
 ],
 "metadata": {
  "kernelspec": {
   "display_name": "Python 3 (ipykernel)",
   "language": "python",
   "name": "python3"
  },
  "language_info": {
   "codemirror_mode": {
    "name": "ipython",
    "version": 3
   },
   "file_extension": ".py",
   "mimetype": "text/x-python",
   "name": "python",
   "nbconvert_exporter": "python",
   "pygments_lexer": "ipython3",
   "version": "3.9.7"
  }
 },
 "nbformat": 4,
 "nbformat_minor": 2
}
