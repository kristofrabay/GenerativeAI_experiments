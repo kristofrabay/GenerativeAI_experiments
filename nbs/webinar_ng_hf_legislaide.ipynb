{
 "cells": [
  {
   "attachments": {},
   "cell_type": "markdown",
   "metadata": {},
   "source": [
    "## Let's communicate with our knowledge-base via `OpenAI`\n",
    "\n",
    "- File: Press Release of a Brand New (Fake) Laptop\n",
    "- Processing Algorithm: ChatGPT (`gpt-3.5-turbo`)\n",
    "\n",
    "#### `StableDiffusion` image generation - based on the product description\n",
    "<table><tr>\n",
    "<td> <img src=\"../docs/images/webinar_demo_SD_1.jfif\" alt=\"Stable Diffusion 1st image\" style=\"width: 500px;\"/> </td>\n",
    "<td> <img src=\"../docs/images/webinar_demo_SD_2.jfif\" alt=\"Stable Diffusion 2nd image\" style=\"width: 500px;\"/> </td>\n",
    "</tr></table>\n",
    "\n",
    "Use Cases\n",
    "1. Question-Answering - let's ask questions!\n",
    "2. Instructions - tell AI to rewrite sg, or add sg!\n",
    "3. Information-extraction - find and retrieve keywords, numbers\n",
    "4. Summarization - let AI create a short version!\n",
    "5. Bonus"
   ]
  },
  {
   "cell_type": "code",
   "execution_count": 1,
   "metadata": {},
   "outputs": [],
   "source": [
    "from webinar_ng_hf_legislaide import (\n",
    "    load_Microsoft_DocX, \n",
    "    direct_OpenAI_QA, \n",
    "    direct_OpenAI_multi_QA, \n",
    "    direct_OpenAI_Instruct,\n",
    "    direct_OpenAI_InfExtr,\n",
    "    direct_OpenAI_Summ\n",
    ")"
   ]
  },
  {
   "cell_type": "code",
   "execution_count": null,
   "metadata": {},
   "outputs": [],
   "source": []
  },
  {
   "attachments": {},
   "cell_type": "markdown",
   "metadata": {},
   "source": [
    "### Let's load the Document"
   ]
  },
  {
   "cell_type": "code",
   "execution_count": 2,
   "metadata": {},
   "outputs": [
    {
     "name": "stdout",
     "output_type": "stream",
     "text": [
      "Number of characters: 6031\n",
      "Number of words: 874\n",
      "Number of tokens: 1384\n"
     ]
    }
   ],
   "source": [
    "docs = load_Microsoft_DocX(path = \"../docs/FakeRewrittenPressRelease.docx\")"
   ]
  },
  {
   "cell_type": "code",
   "execution_count": null,
   "metadata": {},
   "outputs": [],
   "source": []
  },
  {
   "attachments": {},
   "cell_type": "markdown",
   "metadata": {},
   "source": [
    "### 1. Asking Questions"
   ]
  },
  {
   "cell_type": "code",
   "execution_count": 3,
   "metadata": {},
   "outputs": [],
   "source": [
    "queries = ['What is the name of the product?',\n",
    "           'What sort of processor does it run on?',\n",
    "           \"What's its size?\",\n",
    "           \"Does it have enough memory for Deep Learning?\",\n",
    "           \"Graphically what can you tell me about this product?\",\n",
    "           'When was Michael Jordan born?']"
   ]
  },
  {
   "cell_type": "code",
   "execution_count": 4,
   "metadata": {},
   "outputs": [
    {
     "name": "stdout",
     "output_type": "stream",
     "text": [
      "Q: What is the name of the product?\n",
      "A: The name of the product is Zivpad 17 OLED.\n",
      "\n",
      "\n",
      "----------------------------------------------------------------------\n",
      "\n",
      "\n",
      "Q: What sort of processor does it run on?\n",
      "A: The Zivpad 17 OLED is powered by up to four BNE Tiger 8000 G-Series AI-enabled processors.\n",
      "\n",
      "\n",
      "----------------------------------------------------------------------\n",
      "\n",
      "\n",
      "Q: What's its size?\n",
      "A: The Zivpad 17 OLED is a 17-inch laptop.\n",
      "\n",
      "\n",
      "----------------------------------------------------------------------\n",
      "\n",
      "\n",
      "Q: Does it have enough memory for Deep Learning?\n",
      "A: The article mentions that the Zivpad 17 OLED has up to 32GB of RAM and up to a 1.5TB SSD, which may be sufficient for some deep learning tasks. However, without more specific information about the requirements of the deep learning task in question, it is difficult to say for certain whether the Zivpad 17 OLED has enough memory for deep learning.\n",
      "\n",
      "\n",
      "----------------------------------------------------------------------\n",
      "\n",
      "\n",
      "Q: Graphically what can you tell me about this product?\n",
      "A: The Zivpad 17 OLED has a 3.4K, 120 Hz OLED Pantone Validated 560-nit NanoEdge display with a complete DCI-P3 color gamut, offering exceptional visuals with a contrast ratio of up to 1,000,000:1 and a screen-to-body ratio of up to 86.5%. The laptop also provides professional-grade color accuracy with Pantone validation, and its low blue-light emissions are certified by TÜV Rheinland. Its 120 Hz refresh rate and 0.2 ms response time make it perfect for a range of tasks, from casual gaming to everyday productivity.\n",
      "\n",
      "\n",
      "----------------------------------------------------------------------\n",
      "\n",
      "\n",
      "Q: When was Michael Jordan born?\n",
      "A: I'm sorry, I don't know the answer to that question. The article is about the TOZO Zivpad 17 OLED laptop, not Michael Jordan's birthdate.\n",
      "\n",
      "\n",
      "----------------------------------------------------------------------\n",
      "\n",
      "\n"
     ]
    }
   ],
   "source": [
    "for query in queries:\n",
    "\n",
    "    print('Q:', query)\n",
    "    completion = direct_OpenAI_QA(docs, query)\n",
    "\n",
    "    print('A:', completion)\n",
    "    print('\\n')\n",
    "    print('-------' * 10)\n",
    "    print('\\n')"
   ]
  },
  {
   "attachments": {},
   "cell_type": "markdown",
   "metadata": {},
   "source": [
    "Great quality answers! Who needs to read anymore... Let's try to give it a bunch of questions at once"
   ]
  },
  {
   "cell_type": "code",
   "execution_count": null,
   "metadata": {},
   "outputs": [],
   "source": []
  },
  {
   "cell_type": "code",
   "execution_count": 5,
   "metadata": {},
   "outputs": [
    {
     "name": "stdout",
     "output_type": "stream",
     "text": [
      "1. What is the name of the product?\n",
      "2. What sort of processor does it run on?\n",
      "3. What's its size?\n",
      "4. Does it have enough memory for Deep Learning?\n",
      "5. Graphically what can you tell me about this product?\n",
      "6. When was Michael Jordan born?\n"
     ]
    }
   ],
   "source": [
    "queries_as_a_whole = '\\n'.join([str(i+1) + '. ' + j for i, j in zip(range(len(queries)), queries)])\n",
    "print(queries_as_a_whole)"
   ]
  },
  {
   "cell_type": "code",
   "execution_count": 6,
   "metadata": {},
   "outputs": [
    {
     "name": "stdout",
     "output_type": "stream",
     "text": [
      "1. The name of the product is Zivpad 17 OLED.\n",
      "2. It runs on BNE Tiger 8000 G-Series AI-enabled processors.\n",
      "3. Its size is 17 inches.\n",
      "4. It has up to 32GB RAM, which may be enough for some Deep Learning tasks.\n",
      "5. It has a 3.4K, 120Hz OLED Pantone Validated 560-nit NanoEdge display with a complete DCI-P3 color gamut, offering exceptional visuals.\n",
      "6. This information is not provided in the given context.\n"
     ]
    }
   ],
   "source": [
    "completion = direct_OpenAI_multi_QA(docs, queries_as_a_whole)\n",
    "print(completion)"
   ]
  },
  {
   "cell_type": "code",
   "execution_count": null,
   "metadata": {},
   "outputs": [],
   "source": []
  },
  {
   "attachments": {},
   "cell_type": "markdown",
   "metadata": {},
   "source": [
    "Batch question-answering is also possible! (Cost-saving tip)"
   ]
  },
  {
   "cell_type": "code",
   "execution_count": null,
   "metadata": {},
   "outputs": [],
   "source": []
  },
  {
   "attachments": {},
   "cell_type": "markdown",
   "metadata": {},
   "source": [
    "### 2. Let's give instructions to `ChatGPT`!"
   ]
  },
  {
   "cell_type": "code",
   "execution_count": 7,
   "metadata": {},
   "outputs": [],
   "source": [
    "instructions = ['Please draft a quick feedback form. It should ask people some information, their overall feedback and present a scale to rate the release news.',\n",
    "                'Add a part to the text about how this product competes with MacBook Pro. Use your knowledge about Mac.',\n",
    "                'Can you write a Disclaimer that using this product for gaming may cause seizures? List some ways to avoid such accidents.']"
   ]
  },
  {
   "cell_type": "code",
   "execution_count": 8,
   "metadata": {},
   "outputs": [
    {
     "name": "stdout",
     "output_type": "stream",
     "text": [
      "I: Please draft a quick feedback form. It should ask people some information, their overall feedback and present a scale to rate the release news.\n",
      "R: Dear valued customer,\n",
      "\n",
      "Thank you for taking the time to provide feedback on our recent release of the TOZO Zivpad 17 OLED. We would greatly appreciate your input to help us improve our products and services.\n",
      "\n",
      "Please provide us with the following information:\n",
      "- Have you purchased a TOZO product before? (Yes/No)\n",
      "- How did you hear about the Zivpad 17 OLED release? (Social media, website, email, etc.)\n",
      "\n",
      "Overall, how would you rate the Zivpad 17 OLED release?\n",
      "- Excellent\n",
      "- Good\n",
      "- Average\n",
      "- Poor\n",
      "- Very Poor\n",
      "\n",
      "Please rate the following aspects of the Zivpad 17 OLED release on a scale of 1-5 (1 being the lowest and 5 being the highest):\n",
      "- Powerhouse Performance\n",
      "- Exceptional Visuals\n",
      "- Ergonomic Design\n",
      "- Advanced Conferencing\n",
      "- Sustainable and Durable\n",
      "- High-powered Processing\n",
      "- Spectacular Display\n",
      "- Lightweight and Portable Design\n",
      "- Inclusive Software and User-Friendly Apps\n",
      "- Eco-friendly and Robust Construction\n",
      "\n",
      "Thank you for your time and feedback. We appreciate your support and look forward to hearing from you.\n",
      "\n",
      "Best regards,\n",
      "The TOZO Team\n",
      "\n",
      "\n",
      "----------------------------------------------------------------------\n",
      "\n",
      "\n",
      "I: Add a part to the text about how this product competes with MacBook Pro. Use your knowledge about Mac.\n",
      "R: The Zivpad 17 OLED is a worthy competitor to the MacBook Pro, offering superior performance and exceptional visuals. With its BNE Tiger™ 8000 G-Series AI-enabled processors, 32GB RAM, and up to a 1.5TB SSD, the Zivpad 17 OLED outperforms the MacBook Pro in terms of processing power. Additionally, the Zivpad 17 OLED's 3.4K, 120 Hz OLED Pantone® Validated 560-nit NanoEdge display with a complete DCI-P3 color gamut offers a more vibrant and immersive viewing experience than the MacBook Pro's Retina display. The Zivpad 17 OLED's ergonomic design, advanced conferencing capabilities, and eco-friendly construction also make it a compelling alternative to the MacBook Pro.\n",
      "\n",
      "\n",
      "----------------------------------------------------------------------\n",
      "\n",
      "\n",
      "I: Can you write a Disclaimer that using this product for gaming may cause seizures? List some ways to avoid such accidents.\n",
      "R: Disclaimer: The Zivpad 17 OLED is a high-performance laptop that may cause seizures in individuals with photosensitive epilepsy when used for gaming. To avoid such accidents, we recommend taking frequent breaks, reducing screen brightness, and avoiding games with flashing lights or patterns. If you have a history of epilepsy or seizures, please consult with your healthcare provider before using this product for gaming.\n",
      "\n",
      "\n",
      "----------------------------------------------------------------------\n",
      "\n",
      "\n"
     ]
    }
   ],
   "source": [
    "for instruction in instructions:\n",
    "\n",
    "    print('I:', instruction)\n",
    "    completion = direct_OpenAI_Instruct(docs, instruction)\n",
    "\n",
    "    print('R:', completion)\n",
    "    print('\\n')\n",
    "    print('-------' * 10)\n",
    "    print('\\n')"
   ]
  },
  {
   "attachments": {},
   "cell_type": "markdown",
   "metadata": {},
   "source": [
    "AI helped us draft, add, modify text!"
   ]
  },
  {
   "cell_type": "code",
   "execution_count": null,
   "metadata": {},
   "outputs": [],
   "source": []
  },
  {
   "attachments": {},
   "cell_type": "markdown",
   "metadata": {},
   "source": [
    "### 3. Information Extraction - find the key phrases in the text!"
   ]
  },
  {
   "cell_type": "code",
   "execution_count": 9,
   "metadata": {},
   "outputs": [
    {
     "name": "stdout",
     "output_type": "stream",
     "text": [
      "Category: Technical Specifications\n",
      "- Processor: BNE Tiger™ 8000 G-Series AI-enabled processors\n",
      "- RAM: 32GB\n",
      "- Storage: up to 1.5TB SSD\n",
      "- Cooling system: dual-vented cooling, ColdKnife fan, two heat pipes\n",
      "- Battery: up to 80Wh\n",
      "- Connectivity: WiFi 6E\n",
      "- Display: 3.4K, 120Hz OLED Pantone® Validated 560-nit NanoEdge display\n",
      "- Color gamut: complete DCI-P3 color gamut\n",
      "- Refresh rate: 120 Hz\n",
      "- Response time: 0.2 ms\n",
      "- Keyboard: TOZO Ergo keyboard\n",
      "- Conferencing features: TOZO 3D Noise Reduction, TOZO AI-powered noise-canceling audio technology\n",
      "- Packaging: 100% recyclable\n",
      "- Durability: US MIL-STD-810H military-grade toughness\n",
      "\n",
      "Category: Product Attributes\n",
      "- Lightweight and compact design\n",
      "- Metallic finish\n",
      "- 180° lay-flat hinge\n",
      "- Webcam shield\n",
      "- TOZO Super Antimicrobial Guard\n",
      "- Inclusive software and user-friendly apps\n",
      "- Eco-friendly construction using 30% post-consumer recycled plastics\n",
      "\n",
      "Category: Advanced Features\n",
      "- BNE AI Engine for real-time video processing, multitasking, and extending battery life\n",
      "- Pantone validation for professional-grade color accuracy\n",
      "- Low blue-light emissions certified by TÜV Rheinland\n",
      "- TOZO 3DNR video-processing technology\n",
      "- AI noise-canceling audio technology\n",
      "- Superior video and audio for conferencing\n",
      "- Exceeds ENERGY STAR® requirements\n",
      "- Tested to the rigorous US MIL-STD-810H military-grade standard\n",
      "\n",
      "Category: Additional Information\n",
      "- Areas covered by the TOZO Antibacterial Guard can vary depending on the model.\n",
      "- Clinical testing using the ISO 21702 and ISO 22196 standard protocol showed that viral and bacterial growth was inhibited by 99% over a 24-hour period.\n"
     ]
    }
   ],
   "source": [
    "extracted_information = direct_OpenAI_InfExtr(docs)\n",
    "print(extracted_information)"
   ]
  },
  {
   "cell_type": "code",
   "execution_count": null,
   "metadata": {},
   "outputs": [],
   "source": []
  },
  {
   "attachments": {},
   "cell_type": "markdown",
   "metadata": {},
   "source": [
    "### 4. Text Summarization"
   ]
  },
  {
   "cell_type": "code",
   "execution_count": 10,
   "metadata": {},
   "outputs": [
    {
     "name": "stdout",
     "output_type": "stream",
     "text": [
      "TOZO has launched the Zivpad 17 OLED, a 17-inch laptop powered by up to four BNE Tiger 8000 G-Series AI-enabled processors, 32GB RAM, and up to a 1.5TB SSD. The laptop features a 3.4K, 120 Hz OLED Pantone Validated 560-nit NanoEdge display, a compact and lightweight design, and smart conferencing capabilities. It is also eco-friendly and robust, with 100% recyclable packaging and US MIL-STD-810H military-grade toughness. The Zivpad 17 OLED is built using 30% post-consumer recycled plastics and exceeds ENERGY STAR requirements.\n"
     ]
    }
   ],
   "source": [
    "summary = direct_OpenAI_Summ(docs)\n",
    "print(summary)"
   ]
  },
  {
   "cell_type": "code",
   "execution_count": null,
   "metadata": {},
   "outputs": [],
   "source": []
  },
  {
   "attachments": {},
   "cell_type": "markdown",
   "metadata": {},
   "source": [
    "### 5. Bonus - let's brainstorm with ChatGPT"
   ]
  },
  {
   "cell_type": "code",
   "execution_count": 11,
   "metadata": {},
   "outputs": [
    {
     "name": "stdout",
     "output_type": "stream",
     "text": [
      "As an AI-powered laptop with top-of-the-line features, the TOZO Zivpad 17 OLED is likely to be priced in the high-end range. Based on similar products in the market, such as the Dell XPS 17 and the MacBook Pro 16, which are priced between $1,500 to $2,500, it is reasonable to assume that the TOZO Zivpad 17 OLED would be priced in a similar range, possibly between $1,800 to $2,800. However, without an official announcement from TOZO, it is difficult to determine the exact price range for this product.\n"
     ]
    }
   ],
   "source": [
    "idea = \"\"\"You can use your internal knowledge for this one. \n",
    "Given all you know about this product, try to come up with a price for it. \n",
    "Compare it to other similar products that you're aware of, include their usual prices as well.\n",
    "You can give a range if that's more comfortable.\"\"\"\n",
    "\n",
    "completion = direct_OpenAI_QA(docs, idea)\n",
    "print(completion)"
   ]
  },
  {
   "cell_type": "code",
   "execution_count": null,
   "metadata": {},
   "outputs": [],
   "source": []
  },
  {
   "cell_type": "code",
   "execution_count": 12,
   "metadata": {},
   "outputs": [
    {
     "name": "stdout",
     "output_type": "stream",
     "text": [
      "For university students, the Zivpad 17 OLED is the perfect laptop for all your academic needs. With its powerful BNE Tiger™ 8000 G-Series processors and 32GB RAM, you can easily multitask between research, writing papers, and streaming lectures. The exceptional visuals of the 3.4K OLED Pantone® Validated 560-nit NanoEdge display make studying and watching videos a pleasure. Plus, the laptop's lightweight and portable design make it easy to take with you to class or the library.\n",
      "\n",
      "For those starting their careers, the Zivpad 17 OLED is the ultimate productivity tool. With its powerhouse performance and advanced conferencing capabilities, you can easily handle all your work tasks and stay connected with colleagues. The laptop's ergonomic design, including the TOZO Ergo keyboard and TOZO Super Antimicrobial Guard, ensures comfortable and safe usage. Plus, the laptop's eco-friendly and robust construction demonstrates your commitment to sustainability and durability. Invest in the Zivpad 17 OLED and take your career to the next level.\n"
     ]
    }
   ],
   "source": [
    "idea = \"\"\"You can use your internal knowledge for this one. \n",
    "Help me try to sell this to a broad audience.\n",
    "Come up with a couple of sales and marketing approaches / ideas, specifically try to sell it to university students and people who are starting their careers\"\"\"\n",
    "\n",
    "completion = direct_OpenAI_QA(docs, idea)\n",
    "print(completion)"
   ]
  },
  {
   "cell_type": "code",
   "execution_count": null,
   "metadata": {},
   "outputs": [],
   "source": []
  },
  {
   "cell_type": "code",
   "execution_count": 13,
   "metadata": {},
   "outputs": [
    {
     "name": "stdout",
     "output_type": "stream",
     "text": [
      "1. \"Experience the power of AI with TOZO Zivpad 17 OLED\"\n",
      "2. \"Unleash your creativity with the stunning visuals of Zivpad 17 OLED\"\n",
      "3. \"Effortlessly handle daily tasks with the powerhouse performance of Zivpad 17 OLED\"\n",
      "4. \"Stay connected and productive on-the-go with Zivpad 17 OLED\"\n",
      "5. \"Sustainability meets durability in the eco-friendly Zivpad 17 OLED\"\n"
     ]
    }
   ],
   "source": [
    "idea = \"\"\"You can use your internal knowledge for this one. \n",
    "Help me try to sell this to a broad audience.\n",
    "Come up with 5 different slogans for this product. \n",
    "Try to keep them short and concise, avoid cliché phrases\"\"\"\n",
    "\n",
    "completion = direct_OpenAI_QA(docs, idea)\n",
    "print(completion)"
   ]
  }
 ],
 "metadata": {
  "kernelspec": {
   "display_name": "Python 3 (ipykernel)",
   "language": "python",
   "name": "python3"
  },
  "language_info": {
   "codemirror_mode": {
    "name": "ipython",
    "version": 3
   },
   "file_extension": ".py",
   "mimetype": "text/x-python",
   "name": "python",
   "nbconvert_exporter": "python",
   "pygments_lexer": "ipython3",
   "version": "3.9.7"
  }
 },
 "nbformat": 4,
 "nbformat_minor": 2
}
