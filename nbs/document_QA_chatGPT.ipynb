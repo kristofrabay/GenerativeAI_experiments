{
 "cells": [
  {
   "attachments": {},
   "cell_type": "markdown",
   "metadata": {},
   "source": [
    "## Experimenting with `LangChain` & `OpenAI` for Document QA\n",
    "\n",
    "Leveraging the LangChain framework to build Document QA Tools that use ChatGPT to extract information and present it in humanly form\n",
    "\n",
    "**Disclaimer**: all information extracted from the documents is made-up"
   ]
  },
  {
   "cell_type": "code",
   "execution_count": 19,
   "metadata": {},
   "outputs": [],
   "source": [
    "import credentials\n",
    "import time\n",
    "import re\n",
    "import os\n",
    "os.environ[\"OPENAI_API_KEY\"] = credentials.openai_api\n",
    "\n",
    "from langchain.document_loaders import PyPDFLoader\n",
    "from langchain.text_splitter import RecursiveCharacterTextSplitter\n",
    "from langchain.vectorstores import FAISS\n",
    "\n",
    "from langchain.indexes import VectorstoreIndexCreator\n",
    "from langchain.chains import RetrievalQA\n",
    "from langchain.chains.question_answering import load_qa_chain\n",
    "from langchain.chains.summarize import load_summarize_chain\n",
    "from langchain.prompts import PromptTemplate\n",
    "\n",
    "from langchain.embeddings.openai import OpenAIEmbeddings\n",
    "from langchain.llms import OpenAI\n",
    "from langchain.chat_models import ChatOpenAI"
   ]
  },
  {
   "cell_type": "code",
   "execution_count": null,
   "metadata": {},
   "outputs": [],
   "source": []
  },
  {
   "attachments": {},
   "cell_type": "markdown",
   "metadata": {},
   "source": [
    "### 1. QA (without `retriever` object)"
   ]
  },
  {
   "cell_type": "code",
   "execution_count": 2,
   "metadata": {},
   "outputs": [],
   "source": [
    "loader = PyPDFLoader(\"../docs/contract.pdf\")\n",
    "docs = loader.load_and_split()"
   ]
  },
  {
   "cell_type": "code",
   "execution_count": 7,
   "metadata": {},
   "outputs": [],
   "source": [
    "chain = load_qa_chain(ChatOpenAI(temperature=0.0), chain_type=\"stuff\")"
   ]
  },
  {
   "cell_type": "code",
   "execution_count": 17,
   "metadata": {},
   "outputs": [],
   "source": [
    "queries = ['Who are going to be working on the project?',\n",
    "           'What is the hourly rate for the most senior colleagues?',\n",
    "           'Overall what will be the weekly cost, if one week consists of 40 hours?',\n",
    "           'Who are the agreeing parties?',\n",
    "           'Where will the colleagues work?',\n",
    "           'Which days can the project team take off?',\n",
    "           'Is there anything that this contract forbids someone from doing?',\n",
    "           'What are the most important aspects to working conditions?',\n",
    "           'Which law governs the contract?',\n",
    "           'When was Michael Jordan born?']"
   ]
  },
  {
   "cell_type": "code",
   "execution_count": 18,
   "metadata": {},
   "outputs": [
    {
     "name": "stdout",
     "output_type": "stream",
     "text": [
      "Question: Who are going to be working on the project?\n",
      "Answer:\n",
      "The following personnel from the CONTRACTOR will be working on the project:\n",
      "\n",
      "- Márton Biró, Senior, Half-time, $43\n",
      "- Kristóf Rábay, Senior, Half-time, $43\n",
      "- Bence Molnár, Medior, Half-time, $25\n",
      "- Áron Fellegi, Medior, Full-time, $25\n",
      "\n",
      " ----------------------------------------------------------------------\n",
      "Question: What is the hourly rate for the most senior colleagues?\n",
      "Answer:\n",
      "The hourly rate for the most senior colleagues is $43.\n",
      "\n",
      " ----------------------------------------------------------------------\n",
      "Question: Overall what will be the weekly cost, if one week consists of 40 hours?\n",
      "Answer:\n",
      "The weekly cost will depend on the number of hours worked by each team member. According to the provided information, the hourly rates for the team members are as follows:\n",
      "\n",
      "- Márton Biró (Senior, Half-time): $43\n",
      "- Kristóf Rábay (Senior, Half-time): $43\n",
      "- Bence Molnár (Medior, Half-time): $25\n",
      "- Áron Fellegi (Medior, Full-time): $25\n",
      "\n",
      "Assuming that all team members work for the full week (40 hours), the total cost for the week would be:\n",
      "\n",
      "- Márton Biró: 20 hours x $43/hour = $860\n",
      "- Kristóf Rábay: 20 hours x $43/hour = $860\n",
      "- Bence Molnár: 20 hours x $25/hour = $500\n",
      "- Áron Fellegi: 40 hours x $25/hour = $1000\n",
      "\n",
      "Therefore, the total cost for the week would be $3,220. However, it's important to note that the service hours may change upon request from the client, and the team members work half- or full-time on Hungarian workdays until 12 pm U.S. Eastern Time. Overtime charges apply when the client makes a written demand for work outside normal working hours, in advance of any overtime work commencing.\n",
      "\n",
      " ----------------------------------------------------------------------\n",
      "Question: Who are the agreeing parties?\n",
      "Answer:\n",
      "The agreeing parties are SOFTWARE GUIDANCE AND ASSISTANCE, INC. (\"SGA\") and CSOCSOBAJNOK ZRT.\n",
      "\n",
      " ----------------------------------------------------------------------\n",
      "Question: Where will the colleagues work?\n",
      "Answer:\n",
      "The CONTRACTOR PERSONNEL will work on the Project half- or full-time on Hungarian workdays until 12 pm U.S. Eastern Time.\n",
      "\n",
      " ----------------------------------------------------------------------\n",
      "Question: Which days can the project team take off?\n",
      "Answer:\n",
      "The project team can take off Hungarian national holidays, vacation days, and sick days. They must inform SGA and the client at least two weeks in advance before taking days off.\n",
      "\n",
      " ----------------------------------------------------------------------\n",
      "Question: Is there anything that this contract forbids someone from doing?\n",
      "Answer:\n",
      "The contract does not explicitly state anything that is forbidden, but it does outline the obligations and responsibilities of the contractor and the contractor personnel. It also specifies that the contractor may not list the client or project name nor use the client logo in any way, including in private marketing materials such as proposals to prospective clients, without the express written permission of the client, which shall be granted at the client's sole discretion.\n",
      "\n",
      " ----------------------------------------------------------------------\n",
      "Question: What are the most important aspects to working conditions?\n",
      "Answer:\n",
      "The provided context is a Project and Fee Schedule between Software Guidance and Assistance, Inc. and CSOCSOBAJNOK ZRT. It outlines the terms and conditions for a project and does not provide information on the most important aspects of working conditions in general. Therefore, I cannot answer your question based on the given context.\n",
      "\n",
      " ----------------------------------------------------------------------\n",
      "Question: Which law governs the contract?\n",
      "Answer:\n",
      "The context does not provide information on which law governs the contract.\n",
      "\n",
      " ----------------------------------------------------------------------\n",
      "Question: When was Michael Jordan born?\n",
      "Answer:\n",
      "Michael Jordan was born on February 17, 1963.\n",
      "\n",
      " ----------------------------------------------------------------------\n"
     ]
    }
   ],
   "source": [
    "for query in queries:\n",
    "    print('Question:', query)\n",
    "    print('Answer:')\n",
    "    print(chain.run(input_documents = docs, question = query))\n",
    "    print('\\n', '-------' * 10)\n",
    "    time.sleep(20)"
   ]
  },
  {
   "cell_type": "markdown",
   "metadata": {},
   "source": [
    "All answers are great, but Michael Jordan is not references in the contract, so this question didn't need to be answered. We can guide this with a custom prompt stating that if the information cannot be extracted from the context, don't answer the question"
   ]
  },
  {
   "cell_type": "code",
   "execution_count": null,
   "metadata": {},
   "outputs": [],
   "source": []
  },
  {
   "cell_type": "markdown",
   "metadata": {},
   "source": [
    "Create custom `PromptTemplate`"
   ]
  },
  {
   "cell_type": "code",
   "execution_count": 27,
   "metadata": {},
   "outputs": [],
   "source": [
    "prompt_template = \"\"\"Use the following pieces of context to answer the question at the end. \n",
    "If you don't know the answer, just say that you don't know, don't try to make up an answer.\n",
    "If the question cannot be answered based on the context, say you cannot determine the answer based on the given text.\n",
    "\n",
    "{context}\n",
    "\n",
    "Question: {question}\n",
    "Answer:\"\"\"\n",
    "\n",
    "PROMPT = PromptTemplate(\n",
    "    template=prompt_template, input_variables=[\"context\", \"question\"]\n",
    ")"
   ]
  },
  {
   "cell_type": "code",
   "execution_count": 28,
   "metadata": {},
   "outputs": [],
   "source": [
    "chain_with_custom_prompt = load_qa_chain(ChatOpenAI(temperature=0.0), chain_type=\"stuff\", prompt=PROMPT)"
   ]
  },
  {
   "cell_type": "code",
   "execution_count": 29,
   "metadata": {},
   "outputs": [
    {
     "name": "stdout",
     "output_type": "stream",
     "text": [
      "Question: When was Michael Jordan born?\n",
      "Answer:\n",
      "Cannot determine the answer based on the given text.\n"
     ]
    }
   ],
   "source": [
    "print('Question:', queries[-1])\n",
    "print('Answer:')\n",
    "print(chain_with_custom_prompt.run(input_documents = docs, question = queries[-1]))"
   ]
  },
  {
   "cell_type": "markdown",
   "metadata": {},
   "source": [
    "Now it works perfectly, it only uses the context, not the information it was trained on"
   ]
  },
  {
   "cell_type": "code",
   "execution_count": null,
   "metadata": {},
   "outputs": [],
   "source": []
  },
  {
   "attachments": {},
   "cell_type": "markdown",
   "metadata": {},
   "source": [
    "Before using the official summarization chain, let's see what QA can do when asked to summarize the text"
   ]
  },
  {
   "cell_type": "code",
   "execution_count": 43,
   "metadata": {},
   "outputs": [
    {
     "name": "stdout",
     "output_type": "stream",
     "text": [
      "Question: Please summarize the entire contract as consicely as possible. Include the hourly rates.\n",
      "Answer:\n",
      "The contract is between Software Guidance and Assistance, Inc. (SGA) and Csocsobajnok ZRT. The contractor will provide services \n",
      "to the client, Lexion Inc. The project is open-ended and the contractor personnel will continue to be the same. The hourly rates\n",
      " are $43 for senior personnel and $25 for medior personnel. The service hours may change upon request from the client. The tasks\n",
      " and deliverables will be defined by the client's CTO or co-founders. The contractor must inform SGA about any foreseeable chang\n",
      "e in personnel availability. The contractor personnel will be subject to the client's security procedures while working on the p\n",
      "roject. The contract may be terminated by either party with a notice period of 30 days. The contractor shall submit an invoice t\n",
      "o SGA for services provided to the client. The contractor's fee is confidential and shall not be divulged to any other party. Th\n",
      "e contractor may not list the client or project name nor use the client logo without the client's express written permission.\n"
     ]
    }
   ],
   "source": [
    "q = 'Please summarize the entire contract as consicely as possible. Include the hourly rates.'\n",
    "print('Question:', q)\n",
    "print('Answer:')\n",
    "a = chain.run(input_documents = docs, question = q)\n",
    "print(re.sub(\"(.{128})\", \"\\\\1\\n\", a, 0, re.DOTALL))"
   ]
  },
  {
   "attachments": {},
   "cell_type": "markdown",
   "metadata": {},
   "source": [
    "Pretty good! Now let's see with the official summarization chain"
   ]
  },
  {
   "cell_type": "code",
   "execution_count": null,
   "metadata": {},
   "outputs": [],
   "source": []
  },
  {
   "cell_type": "markdown",
   "metadata": {},
   "source": [
    "### 2. Summarization"
   ]
  },
  {
   "cell_type": "code",
   "execution_count": null,
   "metadata": {},
   "outputs": [],
   "source": []
  },
  {
   "cell_type": "code",
   "execution_count": null,
   "metadata": {},
   "outputs": [],
   "source": []
  },
  {
   "cell_type": "code",
   "execution_count": null,
   "metadata": {},
   "outputs": [],
   "source": []
  },
  {
   "cell_type": "markdown",
   "metadata": {},
   "source": []
  }
 ],
 "metadata": {
  "kernelspec": {
   "display_name": "openAI_venv",
   "language": "python",
   "name": "python3"
  },
  "language_info": {
   "codemirror_mode": {
    "name": "ipython",
    "version": 3
   },
   "file_extension": ".py",
   "mimetype": "text/x-python",
   "name": "python",
   "nbconvert_exporter": "python",
   "pygments_lexer": "ipython3",
   "version": "3.9.7"
  },
  "orig_nbformat": 4
 },
 "nbformat": 4,
 "nbformat_minor": 2
}
