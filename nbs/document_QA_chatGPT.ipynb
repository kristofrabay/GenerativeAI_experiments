{
 "cells": [
  {
   "attachments": {},
   "cell_type": "markdown",
   "metadata": {},
   "source": [
    "## Experimenting with `LangChain` & `OpenAI` for Document QA\n",
    "\n",
    "Leveraging the LangChain framework to build Document QA Tools that use ChatGPT to extract information and present it in humanly form\n",
    "\n",
    "**Disclaimer**: all information extracted from the documents is made-up"
   ]
  },
  {
   "cell_type": "code",
   "execution_count": 19,
   "metadata": {},
   "outputs": [],
   "source": [
    "import credentials\n",
    "import time\n",
    "import re\n",
    "import os\n",
    "os.environ[\"OPENAI_API_KEY\"] = credentials.openai_api\n",
    "\n",
    "from langchain.document_loaders import PyPDFLoader\n",
    "from langchain.text_splitter import RecursiveCharacterTextSplitter\n",
    "from langchain.vectorstores import FAISS\n",
    "\n",
    "from langchain.indexes import VectorstoreIndexCreator\n",
    "from langchain.chains import RetrievalQA\n",
    "from langchain.chains.question_answering import load_qa_chain\n",
    "from langchain.chains.summarize import load_summarize_chain\n",
    "from langchain.prompts import PromptTemplate\n",
    "\n",
    "from langchain.embeddings.openai import OpenAIEmbeddings\n",
    "from langchain.llms import OpenAI\n",
    "from langchain.chat_models import ChatOpenAI"
   ]
  },
  {
   "cell_type": "code",
   "execution_count": null,
   "metadata": {},
   "outputs": [],
   "source": []
  },
  {
   "attachments": {},
   "cell_type": "markdown",
   "metadata": {},
   "source": [
    "### 1. QA (without `retriever` object)\n",
    "\n",
    "With retriever object : https://python.langchain.com/en/latest/modules/chains/index_examples/vector_db_qa.html\n",
    "\n",
    "https://python.langchain.com/en/latest/use_cases/question_answering.html\n",
    "https://python.langchain.com/en/latest/modules/chains/index_examples/question_answering.html"
   ]
  },
  {
   "cell_type": "code",
   "execution_count": 2,
   "metadata": {},
   "outputs": [],
   "source": [
    "loader = PyPDFLoader(\"../docs/contract.pdf\")\n",
    "docs = loader.load_and_split()"
   ]
  },
  {
   "cell_type": "code",
   "execution_count": 7,
   "metadata": {},
   "outputs": [],
   "source": [
    "chain = load_qa_chain(ChatOpenAI(temperature=0.0), chain_type=\"stuff\")"
   ]
  },
  {
   "cell_type": "code",
   "execution_count": 17,
   "metadata": {},
   "outputs": [],
   "source": [
    "queries = ['Who are going to be working on the project?',\n",
    "           'What is the hourly rate for the most senior colleagues?',\n",
    "           'Overall what will be the weekly cost, if one week consists of 40 hours?',\n",
    "           'Who are the agreeing parties?',\n",
    "           'Where will the colleagues work?',\n",
    "           'Which days can the project team take off?',\n",
    "           'Is there anything that this contract forbids someone from doing?',\n",
    "           'What are the most important aspects to working conditions?',\n",
    "           'Which law governs the contract?',\n",
    "           'When was Michael Jordan born?']"
   ]
  },
  {
   "cell_type": "code",
   "execution_count": 18,
   "metadata": {},
   "outputs": [
    {
     "name": "stdout",
     "output_type": "stream",
     "text": [
      "Question: Who are going to be working on the project?\n",
      "Answer:\n",
      "The following personnel from the CONTRACTOR will be working on the project:\n",
      "\n",
      "- Márton Biró, Senior, Half-time, $43\n",
      "- Kristóf Rábay, Senior, Half-time, $43\n",
      "- Bence Molnár, Medior, Half-time, $25\n",
      "- Áron Fellegi, Medior, Full-time, $25\n",
      "\n",
      " ----------------------------------------------------------------------\n",
      "Question: What is the hourly rate for the most senior colleagues?\n",
      "Answer:\n",
      "The hourly rate for the most senior colleagues is $43.\n",
      "\n",
      " ----------------------------------------------------------------------\n",
      "Question: Overall what will be the weekly cost, if one week consists of 40 hours?\n",
      "Answer:\n",
      "The weekly cost will depend on the number of hours worked by each team member. According to the provided information, the hourly rates for the team members are as follows:\n",
      "\n",
      "- Márton Biró (Senior, Half-time): $43\n",
      "- Kristóf Rábay (Senior, Half-time): $43\n",
      "- Bence Molnár (Medior, Half-time): $25\n",
      "- Áron Fellegi (Medior, Full-time): $25\n",
      "\n",
      "Assuming that all team members work for the full week (40 hours), the total cost for the week would be:\n",
      "\n",
      "- Márton Biró: 20 hours x $43/hour = $860\n",
      "- Kristóf Rábay: 20 hours x $43/hour = $860\n",
      "- Bence Molnár: 20 hours x $25/hour = $500\n",
      "- Áron Fellegi: 40 hours x $25/hour = $1000\n",
      "\n",
      "Therefore, the total cost for the week would be $3,220. However, it's important to note that the service hours may change upon request from the client, and the team members work half- or full-time on Hungarian workdays until 12 pm U.S. Eastern Time. Overtime charges apply when the client makes a written demand for work outside normal working hours, in advance of any overtime work commencing.\n",
      "\n",
      " ----------------------------------------------------------------------\n",
      "Question: Who are the agreeing parties?\n",
      "Answer:\n",
      "The agreeing parties are SOFTWARE GUIDANCE AND ASSISTANCE, INC. (\"SGA\") and CSOCSOBAJNOK ZRT.\n",
      "\n",
      " ----------------------------------------------------------------------\n",
      "Question: Where will the colleagues work?\n",
      "Answer:\n",
      "The CONTRACTOR PERSONNEL will work on the Project half- or full-time on Hungarian workdays until 12 pm U.S. Eastern Time.\n",
      "\n",
      " ----------------------------------------------------------------------\n",
      "Question: Which days can the project team take off?\n",
      "Answer:\n",
      "The project team can take off Hungarian national holidays, vacation days, and sick days. They must inform SGA and the client at least two weeks in advance before taking days off.\n",
      "\n",
      " ----------------------------------------------------------------------\n",
      "Question: Is there anything that this contract forbids someone from doing?\n",
      "Answer:\n",
      "The contract does not explicitly state anything that is forbidden, but it does outline the obligations and responsibilities of the contractor and the contractor personnel. It also specifies that the contractor may not list the client or project name nor use the client logo in any way, including in private marketing materials such as proposals to prospective clients, without the express written permission of the client, which shall be granted at the client's sole discretion.\n",
      "\n",
      " ----------------------------------------------------------------------\n",
      "Question: What are the most important aspects to working conditions?\n",
      "Answer:\n",
      "The provided context is a Project and Fee Schedule between Software Guidance and Assistance, Inc. and CSOCSOBAJNOK ZRT. It outlines the terms and conditions for a project and does not provide information on the most important aspects of working conditions in general. Therefore, I cannot answer your question based on the given context.\n",
      "\n",
      " ----------------------------------------------------------------------\n",
      "Question: Which law governs the contract?\n",
      "Answer:\n",
      "The context does not provide information on which law governs the contract.\n",
      "\n",
      " ----------------------------------------------------------------------\n",
      "Question: When was Michael Jordan born?\n",
      "Answer:\n",
      "Michael Jordan was born on February 17, 1963.\n",
      "\n",
      " ----------------------------------------------------------------------\n"
     ]
    }
   ],
   "source": [
    "for query in queries:\n",
    "    print('Question:', query)\n",
    "    print('Answer:')\n",
    "    print(chain.run(input_documents = docs, question = query))\n",
    "    print('\\n', '-------' * 10)\n",
    "    time.sleep(20)"
   ]
  },
  {
   "cell_type": "markdown",
   "metadata": {},
   "source": [
    "All answers are great, but Michael Jordan is not references in the contract, so this question didn't need to be answered. We can guide this with a custom prompt stating that if the information cannot be extracted from the context, don't answer the question"
   ]
  },
  {
   "cell_type": "code",
   "execution_count": null,
   "metadata": {},
   "outputs": [],
   "source": []
  },
  {
   "cell_type": "markdown",
   "metadata": {},
   "source": [
    "Create custom `PromptTemplate`"
   ]
  },
  {
   "cell_type": "code",
   "execution_count": 27,
   "metadata": {},
   "outputs": [],
   "source": [
    "prompt_template = \"\"\"Use the following pieces of context to answer the question at the end. \n",
    "If you don't know the answer, just say that you don't know, don't try to make up an answer.\n",
    "If the question cannot be answered based on the context, say you cannot determine the answer based on the given text.\n",
    "\n",
    "{context}\n",
    "\n",
    "Question: {question}\n",
    "Answer:\"\"\"\n",
    "\n",
    "PROMPT = PromptTemplate(\n",
    "    template=prompt_template, input_variables=[\"context\", \"question\"]\n",
    ")"
   ]
  },
  {
   "cell_type": "code",
   "execution_count": 28,
   "metadata": {},
   "outputs": [],
   "source": [
    "chain_with_custom_prompt = load_qa_chain(ChatOpenAI(temperature=0.0), chain_type=\"stuff\", prompt=PROMPT)"
   ]
  },
  {
   "cell_type": "code",
   "execution_count": 29,
   "metadata": {},
   "outputs": [
    {
     "name": "stdout",
     "output_type": "stream",
     "text": [
      "Question: When was Michael Jordan born?\n",
      "Answer:\n",
      "Cannot determine the answer based on the given text.\n"
     ]
    }
   ],
   "source": [
    "print('Question:', queries[-1])\n",
    "print('Answer:')\n",
    "print(chain_with_custom_prompt.run(input_documents = docs, question = queries[-1]))"
   ]
  },
  {
   "cell_type": "markdown",
   "metadata": {},
   "source": [
    "Now it works perfectly, it only uses the context, not the information it was trained on"
   ]
  },
  {
   "cell_type": "code",
   "execution_count": null,
   "metadata": {},
   "outputs": [],
   "source": []
  },
  {
   "attachments": {},
   "cell_type": "markdown",
   "metadata": {},
   "source": [
    "Before using the official summarization chain, let's see what QA can do when asked to summarize the text"
   ]
  },
  {
   "cell_type": "code",
   "execution_count": 43,
   "metadata": {},
   "outputs": [
    {
     "name": "stdout",
     "output_type": "stream",
     "text": [
      "Question: Please summarize the entire contract as consicely as possible. Include the hourly rates.\n",
      "Answer:\n",
      "The contract is between Software Guidance and Assistance, Inc. (SGA) and Csocsobajnok ZRT. The contractor will provide services \n",
      "to the client, Lexion Inc. The project is open-ended and the contractor personnel will continue to be the same. The hourly rates\n",
      " are $43 for senior personnel and $25 for medior personnel. The service hours may change upon request from the client. The tasks\n",
      " and deliverables will be defined by the client's CTO or co-founders. The contractor must inform SGA about any foreseeable chang\n",
      "e in personnel availability. The contractor personnel will be subject to the client's security procedures while working on the p\n",
      "roject. The contract may be terminated by either party with a notice period of 30 days. The contractor shall submit an invoice t\n",
      "o SGA for services provided to the client. The contractor's fee is confidential and shall not be divulged to any other party. Th\n",
      "e contractor may not list the client or project name nor use the client logo without the client's express written permission.\n"
     ]
    }
   ],
   "source": [
    "q = 'Please summarize the entire contract as consicely as possible. Include the hourly rates.'\n",
    "print('Question:', q)\n",
    "print('Answer:')\n",
    "a = chain.run(input_documents = docs, question = q)\n",
    "print(re.sub(\"(.{128})\", \"\\\\1\\n\", a, 0, re.DOTALL))"
   ]
  },
  {
   "attachments": {},
   "cell_type": "markdown",
   "metadata": {},
   "source": [
    "Pretty good! Now let's see with the official summarization chain"
   ]
  },
  {
   "cell_type": "code",
   "execution_count": null,
   "metadata": {},
   "outputs": [],
   "source": []
  },
  {
   "attachments": {},
   "cell_type": "markdown",
   "metadata": {},
   "source": [
    "### 2. Summarization\n",
    "\n",
    "https://python.langchain.com/en/latest/modules/chains/index_examples/summarize.html"
   ]
  },
  {
   "cell_type": "code",
   "execution_count": 46,
   "metadata": {},
   "outputs": [
    {
     "name": "stdout",
     "output_type": "stream",
     "text": [
      "Software Guidance & Assistance, Inc. and CSOCSOBAJNOK ZRT. have entered into a Contractor Agreement for the provision of service\n",
      "s to Lexion Inc. The project is open-ended and will be performed by CONTRACTOR personnel, with rates adjusted for inflation annu\n",
      "ally. The tasks and deliverables will be defined by the Client's CTO or co-founders. The CONTRACTOR personnel will be subject to\n",
      " CLIENT's security procedures while working on the project. Both parties may terminate the schedule with a notice period of 30 d\n",
      "ays. The CONTRACTOR fee is confidential and shall not be divulged to any other party, including the Client. The CONTRACTOR may n\n",
      "ot list the client or project name nor use the client logo without the express written permission of the Client.\n"
     ]
    }
   ],
   "source": [
    "chain = load_summarize_chain(ChatOpenAI(temperature=0.0), chain_type=\"stuff\")\n",
    "summary = chain.run(docs)\n",
    "\n",
    "print(re.sub(\"(.{128})\", \"\\\\1\\n\", summary, 0, re.DOTALL))"
   ]
  },
  {
   "cell_type": "markdown",
   "metadata": {},
   "source": [
    "Add custom `prompt`"
   ]
  },
  {
   "cell_type": "code",
   "execution_count": 47,
   "metadata": {},
   "outputs": [],
   "source": [
    "prompt_template = \"\"\"Write a concise summary of the following:\n",
    "\n",
    "{text}\n",
    "\n",
    "CONCISE SUMMARY:\"\"\"\n",
    "\n",
    "PROMPT = PromptTemplate(template=prompt_template, input_variables=[\"text\"])"
   ]
  },
  {
   "cell_type": "code",
   "execution_count": 49,
   "metadata": {},
   "outputs": [
    {
     "name": "stdout",
     "output_type": "stream",
     "text": [
      "The document outlines a project and fee schedule between Software Guidance & Assistance, Inc. (SGA) and CSOCSOBAJNOK ZRT. The pr\n",
      "oject involves providing services to Lexion Inc. and may be extended beyond June 30, 2022. The personnel, rates, and tasks are d\n",
      "efined, and the hours worked are subject to Hungarian workdays until 12 pm U.S. Eastern Time. The contractor must register their\n",
      " hours in SGA's electronic timesheet system and submit weekly timesheets. The parties may terminate the schedule with a 30-day n\n",
      "otice period, and the contractor must submit invoices for payment within five days after the end of each monthly period. The con\n",
      "tractor's fee is confidential, and they may not use the client's name or logo without permission.\n"
     ]
    }
   ],
   "source": [
    "chain = load_summarize_chain(ChatOpenAI(temperature=0.0), chain_type=\"stuff\", prompt=PROMPT)\n",
    "summary = chain.run(docs)\n",
    "\n",
    "print(re.sub(\"(.{128})\", \"\\\\1\\n\", summary, 0, re.DOTALL))"
   ]
  },
  {
   "cell_type": "code",
   "execution_count": 50,
   "metadata": {},
   "outputs": [
    {
     "name": "stdout",
     "output_type": "stream",
     "text": [
      "A Software Guidance & Assistance, Inc. és a CSOCSOBAJNOK ZRT. közötti szerződés értelmében a CONTRACTOR szolgáltatásokat nyújt a\n",
      " Lexion Inc. ügyfélnek. A projekt nyitott végű, és a személyzetet a CONTRACTOR biztosítja. Az óradíjakat évente egyszer az inflá\n",
      "cióhoz igazítják, és a szolgáltatási órák változhatnak az ügyfél kérésére. A feladatokat és a teljesítendő feladatokat az ügyfél\n",
      " CTO-ja határozza meg. A CONTRACTOR személyzete a CLIENT biztonsági eljárásainak alá van vetve. Minden hónap végén a CONTRACTOR \n",
      "számlát küld az SGA-nak a szolgáltatásokért, és az SGA 15 munkanapon belül kifizeti a számlát. A CONTRACTOR díja bizalmas, és ne\n",
      "m hozzáférhető harmadik fél számára, beleértve az ügyfelet is. A szerződést mindkét fél 30 napos értesítési idővel bármikor felm\n",
      "ondhatja.\n"
     ]
    }
   ],
   "source": [
    "prompt_template = \"\"\"Write a concise summary of the following:\n",
    "\n",
    "{text}\n",
    "\n",
    "CONCISE SUMMARY IN HUNGARIAN:\"\"\"\n",
    "\n",
    "PROMPT = PromptTemplate(template=prompt_template, input_variables=[\"text\"])\n",
    "chain = load_summarize_chain(ChatOpenAI(temperature=0.0), chain_type=\"stuff\", prompt=PROMPT)\n",
    "summary = chain.run(docs)\n",
    "\n",
    "print(re.sub(\"(.{128})\", \"\\\\1\\n\", summary, 0, re.DOTALL))"
   ]
  },
  {
   "cell_type": "code",
   "execution_count": null,
   "metadata": {},
   "outputs": [],
   "source": []
  },
  {
   "cell_type": "markdown",
   "metadata": {},
   "source": [
    "What are the intermediary steps during different chaining procedures?"
   ]
  },
  {
   "cell_type": "code",
   "execution_count": 56,
   "metadata": {},
   "outputs": [],
   "source": [
    "chain = load_summarize_chain(ChatOpenAI(temperature=0.0), \n",
    "                             chain_type=\"map_reduce\", \n",
    "                             return_intermediate_steps=True)\n",
    "\n",
    "map_reduce_summary = chain({\"input_documents\": docs}, return_only_outputs=True)"
   ]
  },
  {
   "cell_type": "code",
   "execution_count": 58,
   "metadata": {},
   "outputs": [
    {
     "data": {
      "text/plain": [
       "dict_keys(['intermediate_steps', 'output_text'])"
      ]
     },
     "execution_count": 58,
     "metadata": {},
     "output_type": "execute_result"
    }
   ],
   "source": [
    "map_reduce_summary.keys()"
   ]
  },
  {
   "cell_type": "code",
   "execution_count": 60,
   "metadata": {},
   "outputs": [
    {
     "name": "stdout",
     "output_type": "stream",
     "text": [
      "Software Guidance & Assistance, Inc. and CSOCSOBAJNOK ZRT. have signed a Contractor Agreement to provide services to Lexion Inc.\n",
      " The proof-of-concept project was successful, and the Contractor has been offered an open-ended project starting from July 1, 20\n",
      "22. The project tasks and deliverables will be defined by the client's CTO or co-founders, and the Contractor must inform SGA ab\n",
      "out any changes in personnel availability. The Contractor personnel work half- or full-time on Hungarian workdays until 12 pm U.\n",
      "S. Eastern Time, and overtime charges apply when the client makes a written demand for work outside normal working hours. Both p\n",
      "arties can terminate the schedule with 30 days' notice, and the contractor cannot use the client's name or logo without permissi\n",
      "on.\n"
     ]
    }
   ],
   "source": [
    "print(re.sub(\"(.{128})\", \"\\\\1\\n\", map_reduce_summary['output_text'], 0, re.DOTALL))"
   ]
  },
  {
   "cell_type": "code",
   "execution_count": 62,
   "metadata": {},
   "outputs": [
    {
     "data": {
      "text/plain": [
       "True"
      ]
     },
     "execution_count": 62,
     "metadata": {},
     "output_type": "execute_result"
    }
   ],
   "source": [
    "len(map_reduce_summary['intermediate_steps']) == len(docs)"
   ]
  },
  {
   "cell_type": "code",
   "execution_count": null,
   "metadata": {},
   "outputs": [],
   "source": []
  },
  {
   "cell_type": "code",
   "execution_count": null,
   "metadata": {},
   "outputs": [],
   "source": []
  },
  {
   "cell_type": "markdown",
   "metadata": {},
   "source": []
  }
 ],
 "metadata": {
  "kernelspec": {
   "display_name": "openAI_venv",
   "language": "python",
   "name": "python3"
  },
  "language_info": {
   "codemirror_mode": {
    "name": "ipython",
    "version": 3
   },
   "file_extension": ".py",
   "mimetype": "text/x-python",
   "name": "python",
   "nbconvert_exporter": "python",
   "pygments_lexer": "ipython3",
   "version": "3.9.7"
  },
  "orig_nbformat": 4
 },
 "nbformat": 4,
 "nbformat_minor": 2
}
