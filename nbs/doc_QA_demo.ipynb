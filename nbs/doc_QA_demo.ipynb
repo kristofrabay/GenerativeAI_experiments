{
 "cells": [
  {
   "attachments": {},
   "cell_type": "markdown",
   "metadata": {},
   "source": [
    "## Kommunikáljunk dokumentumainkkal a `LangChain` & `OpenAI` segítségével\n",
    "\n",
    "- Fájl: WARRANT TO PURCHASE SHARES OF CAPITAL STOCK\n",
    "- Feldolgozó algoritmus: GPT-4 (`gpt-4-0314`)"
   ]
  },
  {
   "cell_type": "code",
   "execution_count": 14,
   "metadata": {},
   "outputs": [],
   "source": [
    "import credentials\n",
    "import time\n",
    "import re\n",
    "import os\n",
    "os.environ[\"OPENAI_API_KEY\"] = credentials.openai_api\n",
    "\n",
    "import tiktoken\n",
    "\n",
    "from langchain.document_loaders import PyPDFLoader\n",
    "\n",
    "from langchain.chains.question_answering import load_qa_chain\n",
    "from langchain.chains.summarize import load_summarize_chain\n",
    "from langchain.prompts import PromptTemplate\n",
    "\n",
    "from langchain.embeddings.openai import OpenAIEmbeddings\n",
    "from langchain.llms import OpenAI\n",
    "from langchain.chat_models import ChatOpenAI"
   ]
  },
  {
   "cell_type": "code",
   "execution_count": null,
   "metadata": {},
   "outputs": [],
   "source": []
  },
  {
   "attachments": {},
   "cell_type": "markdown",
   "metadata": {},
   "source": [
    "### 1. QA (kérdezzünk a szövegről!)"
   ]
  },
  {
   "cell_type": "code",
   "execution_count": 2,
   "metadata": {},
   "outputs": [],
   "source": [
    "loader = PyPDFLoader(\"../docs/Law_Insider_eidos-therapeutics-inc_contract_Filed_23-03-2018_Contract.pdf\")\n",
    "docs = loader.load_and_split()"
   ]
  },
  {
   "cell_type": "code",
   "execution_count": 11,
   "metadata": {},
   "outputs": [],
   "source": [
    "chain = load_qa_chain(ChatOpenAI(model_name = 'gpt-4', temperature=0.0), \n",
    "                      chain_type=\"stuff\") #map_reduce"
   ]
  },
  {
   "cell_type": "code",
   "execution_count": null,
   "metadata": {},
   "outputs": [],
   "source": []
  },
  {
   "attachments": {},
   "cell_type": "markdown",
   "metadata": {},
   "source": [
    "Milyen árazásra számítsunk?\n",
    "\n",
    "GPT-4\n",
    "- prompt:       $0.03 / 1K tokens\n",
    "- completion:   $0.06 / 1K tokens"
   ]
  },
  {
   "cell_type": "code",
   "execution_count": 37,
   "metadata": {},
   "outputs": [
    {
     "name": "stdout",
     "output_type": "stream",
     "text": [
      "4533\n",
      "38\n"
     ]
    }
   ],
   "source": [
    "gpt_4_token_encoding = tiktoken.get_encoding(\"cl100k_base\")\n",
    "teljes_szoveg = ' '.join([i.page_content for i in docs])\n",
    "teljes_szoveg_tokenek = gpt_4_token_encoding.encode(teljes_szoveg)\n",
    "\n",
    "prompt_template = \"\"\"Use the following pieces of context to answer the users question. \n",
    "                     If you don't know the answer, just say that you don't know, don't try to make up an answer\"\"\"\n",
    "prompt_tokenek = gpt_4_token_encoding.encode(prompt_template)\n",
    "\n",
    "print(len(teljes_szoveg_tokenek))\n",
    "print(len(prompt_tokenek))"
   ]
  },
  {
   "attachments": {},
   "cell_type": "markdown",
   "metadata": {},
   "source": [
    "- Input tokenek száma: 4533 + 38 = 4571\n",
    "- Output (completion / válasz) tokenek becslése: ~100\n",
    "\n",
    "- Teljes költség = (4571 * 0.03 / 1000) + (100 * 0.06 / 1000) = 0.14313$ = 14.3 cent / megválaszolt kérdés\n",
    "- Ebből \n",
    "    - prompt: 13.7 cent\n",
    "    - completion: 0.6 cent"
   ]
  },
  {
   "cell_type": "code",
   "execution_count": null,
   "metadata": {},
   "outputs": [],
   "source": []
  },
  {
   "cell_type": "code",
   "execution_count": 12,
   "metadata": {},
   "outputs": [],
   "source": [
    "queries = ['What is this input file?',\n",
    "           'What is this document about?',\n",
    "           'What is the title of the contract?',\n",
    "           'Who are the agreeing parties?',\n",
    "           'Which law governs the contract?',\n",
    "           'How many shares and at what price can be purchased?',\n",
    "           'Upon net exercising, what is the formula used?',\n",
    "           'Who are the representatives who signed the contract?',\n",
    "           'Are there any attachments, amendments or any supplementary material included?',\n",
    "           'When was Michael Jordan born?']"
   ]
  },
  {
   "cell_type": "code",
   "execution_count": 13,
   "metadata": {},
   "outputs": [
    {
     "name": "stdout",
     "output_type": "stream",
     "text": [
      "Question: What is this input file?\n",
      "Answer:\n",
      "This input file is a legal document representing a Warrant to Purchase Shares of Capital Stock issued by Eidos Therapeutics, Inc. to BridgeBio Pharma LLC. The document outlines the terms and conditions for the warrant, including the number of shares, exercise price, exercise period, method of exercise, adjustments, and other related provisions. It also includes a Notice of Exercise and Assignment Form for the holder to exercise or assign the warrant.\n",
      "\n",
      " ----------------------------------------------------------------------\n",
      "Question: What is this document about?\n",
      "Answer:\n",
      "This document is a Warrant to Purchase Shares of Capital Stock issued by Eidos Therapeutics, Inc. to BridgeBio Pharma LLC. It outlines the terms and conditions for the holder (BridgeBio Pharma LLC) to purchase a specified number of shares of the company's capital stock at a predetermined exercise price. The document also includes provisions for adjustments to the exercise price and the number of shares purchasable, as well as the rights and obligations of the company and the holder.\n",
      "\n",
      " ----------------------------------------------------------------------\n",
      "Question: What is the title of the contract?\n",
      "Answer:\n",
      "The title of the contract is \"EIDOS THERAPEUTICS, INC. WARRANT TO PURCHASE SHARES OF CAPITAL STOCK.\"\n",
      "\n",
      " ----------------------------------------------------------------------\n",
      "Question: Who are the agreeing parties?\n",
      "Answer:\n",
      "The agreeing parties are Eidos Therapeutics, Inc. (the \"Company\") and BridgeBio Pharma LLC (the \"Holder\").\n",
      "\n",
      " ----------------------------------------------------------------------\n",
      "Question: Which law governs the contract?\n",
      "Answer:\n",
      "This Warrant shall be governed by and construed in accordance with the Delaware General Corporation Law as to matters within the scope thereof, and as to all other matters shall be governed by, and construed in accordance with, the internal laws of the State of California, without reference to principles of conflict of laws or choice of laws.\n",
      "\n",
      " ----------------------------------------------------------------------\n",
      "Question: How many shares and at what price can be purchased?\n",
      "Answer:\n",
      "The number of shares that can be purchased upon exercising the warrant is equal to $4,000,000 divided by the applicable Exercise Price, rounded down to the nearest whole share. The Exercise Price depends on the type of shares being purchased:\n",
      "\n",
      "1. If the Warrant is exercisable for shares of New Preferred Stock, the Exercise Price will be the lowest per share purchase price at which shares of the New Preferred Stock are or have been sold in the Qualified Financing at the time of conversion of the Notes.\n",
      "\n",
      "2. If the Warrant is exercisable for shares of Series Seed Preferred Stock, the Exercise Price will be $1.3248 per share.\n",
      "\n",
      "These prices are subject to adjustment as per Section 7 of the Warrant.\n",
      "\n",
      " ----------------------------------------------------------------------\n",
      "Question: Upon net exercising, what is the formula used?\n",
      "Answer:\n",
      "Upon net exercising, the formula used is:\n",
      "\n",
      "X = Y(A - B) / A\n",
      "\n",
      "Where:\n",
      "X = The number of Warrant Shares to be issued to the Holder.\n",
      "Y = The number of Warrant Shares purchasable under this Warrant or, if only a portion of the Warrant is being exercised, the portion of the Warrant being canceled (at the date of such calculation).\n",
      "A = The fair market value of one (1) Warrant Share (at the date of such calculation).\n",
      "B = The Exercise Price (as adjusted to the date of such calculations).\n",
      "\n",
      " ----------------------------------------------------------------------\n",
      "Question: When was Michael Jordan born?\n",
      "Answer:\n",
      "I don't know the answer, as the provided context does not contain information about Michael Jordan's birth date.\n",
      "\n",
      " ----------------------------------------------------------------------\n"
     ]
    }
   ],
   "source": [
    "for query in queries:\n",
    "    print('Q:', query)\n",
    "    print('\\n')\n",
    "    print(chain.run(input_documents = docs, question = query))\n",
    "    print('\\n', '-------' * 10)\n",
    "    time.sleep(20)"
   ]
  },
  {
   "attachments": {},
   "cell_type": "markdown",
   "metadata": {},
   "source": [
    "Minden válasz helyesnek bizonyul, ráadásul a \"kakukktojás\" kérdésen sem hasalt el: kontextusból nem szabadna tudnia, mikor született Michael Jordan, és azt nem is válaszolja meg. Természeseten erre a kérdésre biztosan tudja egyébként a választ, viszont ha nem tudná, 'hallucinálni' kezdene, amit így elkerültünk (prompt-ban utasítottuk, hogy ha kizárólag a kontextusból nem tudja kivenni az infót, akkor mondja meg)"
   ]
  },
  {
   "cell_type": "code",
   "execution_count": null,
   "metadata": {},
   "outputs": [],
   "source": []
  },
  {
   "attachments": {},
   "cell_type": "markdown",
   "metadata": {},
   "source": [
    "Mielőtt a hivatalos 'szövegösszegző' / 'szövegkivonatoló' promptot használnánk, nézzük meg, hogy a QA is remekül kinyeri a kellő információt."
   ]
  },
  {
   "cell_type": "code",
   "execution_count": 50,
   "metadata": {},
   "outputs": [],
   "source": [
    "q = 'Please summarize the entire text as consicely as possible.'\n",
    "a = chain.run(input_documents = docs, question = q)"
   ]
  },
  {
   "cell_type": "code",
   "execution_count": 54,
   "metadata": {},
   "outputs": [
    {
     "name": "stdout",
     "output_type": "stream",
     "text": [
      "Question: Please summarize the entire text as consicely as possible.\n",
      "Answer:\n",
      "This document is a Warrant to Purchase Shares of Capital Stock issued by Eidos Therapeutics, Inc. to BridgeBio Pharma LLC on February 22, 2018. The warrant allows the holder to purchase up to a certain number of fully paid and nonassessable shares of the company's capital stock at a specified exercise price, subject to adjustments and conditions. The exercise period commences upon a Qualified Financing or immediately prior to a Deemed Liquidation Event and ends three years after the commencement of exercisability or upon a Deemed Liquidation Event or IPO. The holder may exercise the warrant in whole or in part, and the company is required to issue the corresponding shares upon exercise. The warrant also includes provisions for adjustments in the event of stock splits, dividends, reclassifications, or other changes in the company's capital stock. The document is governed by Delaware General Corporation Law and the internal laws of the State of California.\n"
     ]
    }
   ],
   "source": [
    "print('Q:', q)\n",
    "print('\\n')\n",
    "#print(re.sub(\"(.{89})\", \"\\\\1\\n\", a, 0, re.DOTALL))\n",
    "print(a)"
   ]
  },
  {
   "attachments": {},
   "cell_type": "markdown",
   "metadata": {},
   "source": [
    "Egészen jó kivonata az eredetileg 9 oldalas PDF-nek!"
   ]
  },
  {
   "cell_type": "code",
   "execution_count": null,
   "metadata": {},
   "outputs": [],
   "source": []
  },
  {
   "attachments": {},
   "cell_type": "markdown",
   "metadata": {},
   "source": [
    "### 2. Szövegkivonatolás"
   ]
  },
  {
   "cell_type": "code",
   "execution_count": 55,
   "metadata": {},
   "outputs": [],
   "source": [
    "chain = load_summarize_chain(ChatOpenAI(model_name = 'gpt-4', temperature=0.0), chain_type=\"stuff\")\n",
    "summary = chain.run(docs)"
   ]
  },
  {
   "cell_type": "code",
   "execution_count": 57,
   "metadata": {},
   "outputs": [
    {
     "name": "stdout",
     "output_type": "stream",
     "text": [
      "This document is a warrant issued by Eidos Therapeutics, Inc. to BridgeBio Pharma LLC, gra\n",
      "nting BridgeBio the right to purchase shares of Eidos' capital stock. The warrant is exerc\n",
      "isable under certain conditions and subject to adjustments. The warrant is not registered \n",
      "under the Securities Act of 1933 and cannot be sold or transferred without proper registra\n",
      "tion or exemption. The exercise period for the warrant begins on February 22, 2018, and en\n",
      "ds on February 21, 2021.\n"
     ]
    }
   ],
   "source": [
    "print(re.sub(\"(.{90})\", \"\\\\1\\n\", summary, 0, re.DOTALL))"
   ]
  },
  {
   "cell_type": "code",
   "execution_count": null,
   "metadata": {},
   "outputs": [],
   "source": []
  },
  {
   "attachments": {},
   "cell_type": "markdown",
   "metadata": {},
   "source": [
    "Egyedi `prompt` segítségével személyre szabhatjuk az instrukciót!"
   ]
  },
  {
   "cell_type": "code",
   "execution_count": 58,
   "metadata": {},
   "outputs": [],
   "source": [
    "prompt_template = \"\"\"Write a concise summary of the following. \n",
    "Focus on including financial data, such as number and price of stocks.\n",
    "\n",
    "{text}\n",
    "\n",
    "CONCISE SUMMARY:\"\"\"\n",
    "\n",
    "PROMPT = PromptTemplate(template=prompt_template, input_variables=[\"text\"])\n",
    "chain = load_summarize_chain(ChatOpenAI(model_name = 'gpt-4', temperature=0.0), \n",
    "                             chain_type=\"stuff\", prompt=PROMPT)\n",
    "summary = chain.run(docs)"
   ]
  },
  {
   "cell_type": "code",
   "execution_count": 59,
   "metadata": {},
   "outputs": [
    {
     "name": "stdout",
     "output_type": "stream",
     "text": [
      "Eidos Therapeutics has issued a warrant to BridgeBio Pharma, allowing the purchase of up t\n",
      "o $4 million worth of Eidos' capital stock. The warrant is exercisable for shares of New P\n",
      "referred Stock at the lowest per-share purchase price at which shares of the New Preferred\n",
      " Stock are sold in a Qualified Financing at the time of conversion of the Notes. The warra\n",
      "nt is valid from February 22, 2018, to February 21, 2021.\n"
     ]
    }
   ],
   "source": [
    "print(re.sub(\"(.{90})\", \"\\\\1\\n\", summary, 0, re.DOTALL))"
   ]
  },
  {
   "cell_type": "code",
   "execution_count": null,
   "metadata": {},
   "outputs": [],
   "source": []
  },
  {
   "attachments": {},
   "cell_type": "markdown",
   "metadata": {},
   "source": [
    "Nézzük meg mire képes ha magyar outputot kérünk tőle"
   ]
  },
  {
   "cell_type": "code",
   "execution_count": 60,
   "metadata": {},
   "outputs": [
    {
     "name": "stderr",
     "output_type": "stream",
     "text": [
      "Retrying langchain.chat_models.openai.ChatOpenAI.completion_with_retry.<locals>._completion_with_retry in 1.0 seconds as it raised Timeout: Request timed out: HTTPSConnectionPool(host='api.openai.com', port=443): Read timed out. (read timeout=60).\n"
     ]
    }
   ],
   "source": [
    "prompt_template = \"\"\"Write a concise summary of the following. \n",
    "Focus on including financial data, such as number and price of stocks.\n",
    "\n",
    "{text}\n",
    "\n",
    "CONCISE SUMMARY IN HUNGARIAN:\"\"\"\n",
    "\n",
    "PROMPT = PromptTemplate(template=prompt_template, input_variables=[\"text\"])\n",
    "chain = load_summarize_chain(ChatOpenAI(model_name = 'gpt-4', temperature=0.0), \n",
    "                             chain_type=\"stuff\", prompt=PROMPT)\n",
    "summary = chain.run(docs)"
   ]
  },
  {
   "cell_type": "code",
   "execution_count": 61,
   "metadata": {},
   "outputs": [
    {
     "name": "stdout",
     "output_type": "stream",
     "text": [
      "Az Eidos Therapeutics, Inc. kibocsát egy részvényvásárlási jogot a BridgeBio Pharma LLC ré\n",
      "szére, amelynek értéke 4 000 000 dollár. A részvények vételi ára a következőképpen alakul:\n",
      " ha az új preferált részvényekre vonatkozik, akkor a minősített finanszírozás során értéke\n",
      "sített új preferált részvények legalacsonyabb ára; ha a sorozat Seed Preferred részvényekr\n",
      "e vonatkozik, akkor 1,3248 dollár részvényenként. A részvényvásárlási jog a kibocsátás dát\n",
      "umától számított három évig érvényes.\n"
     ]
    }
   ],
   "source": [
    "print(re.sub(\"(.{90})\", \"\\\\1\\n\", summary, 0, re.DOTALL))"
   ]
  },
  {
   "cell_type": "code",
   "execution_count": null,
   "metadata": {},
   "outputs": [],
   "source": []
  }
 ],
 "metadata": {
  "kernelspec": {
   "display_name": "openAI_venv",
   "language": "python",
   "name": "python3"
  },
  "language_info": {
   "codemirror_mode": {
    "name": "ipython",
    "version": 3
   },
   "file_extension": ".py",
   "mimetype": "text/x-python",
   "name": "python",
   "nbconvert_exporter": "python",
   "pygments_lexer": "ipython3",
   "version": "3.9.7"
  },
  "orig_nbformat": 4
 },
 "nbformat": 4,
 "nbformat_minor": 2
}
