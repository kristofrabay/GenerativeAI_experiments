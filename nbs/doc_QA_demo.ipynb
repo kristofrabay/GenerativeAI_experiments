{
 "cells": [
  {
   "attachments": {},
   "cell_type": "markdown",
   "metadata": {},
   "source": [
    "## Kommunikáljunk dokumentumainkkal a `LangChain` & `OpenAI` segítségével\n",
    "\n",
    "- Fájl: WARRANT TO PURCHASE SHARES OF CAPITAL STOCK\n",
    "- Feldolgozó algoritmus: GPT-4 (`gpt-4-0314`)"
   ]
  },
  {
   "cell_type": "code",
   "execution_count": 5,
   "metadata": {},
   "outputs": [],
   "source": [
    "import credentials\n",
    "import time\n",
    "import re\n",
    "import os\n",
    "os.environ[\"OPENAI_API_KEY\"] = credentials.openai_api\n",
    "\n",
    "import openai\n",
    "import tiktoken\n",
    "\n",
    "from langchain.document_loaders import PyPDFLoader\n",
    "\n",
    "from langchain.chains.question_answering import load_qa_chain\n",
    "from langchain.chains.summarize import load_summarize_chain\n",
    "from langchain.prompts import PromptTemplate\n",
    "\n",
    "from langchain.embeddings.openai import OpenAIEmbeddings\n",
    "from langchain.llms import OpenAI\n",
    "from langchain.chat_models import ChatOpenAI"
   ]
  },
  {
   "cell_type": "code",
   "execution_count": null,
   "metadata": {},
   "outputs": [],
   "source": []
  },
  {
   "attachments": {},
   "cell_type": "markdown",
   "metadata": {},
   "source": [
    "### 1. QA (kérdezzünk a szövegről!)"
   ]
  },
  {
   "cell_type": "code",
   "execution_count": 2,
   "metadata": {},
   "outputs": [],
   "source": [
    "loader = PyPDFLoader(\"../docs/Law_Insider_eidos-therapeutics-inc_contract_Filed_23-03-2018_Contract.pdf\")\n",
    "docs = loader.load_and_split()"
   ]
  },
  {
   "cell_type": "code",
   "execution_count": 36,
   "metadata": {},
   "outputs": [],
   "source": [
    "chain = load_qa_chain(ChatOpenAI(model_name = 'gpt-4', temperature=0.0), \n",
    "                      chain_type=\"stuff\") #map_reduce"
   ]
  },
  {
   "cell_type": "code",
   "execution_count": null,
   "metadata": {},
   "outputs": [],
   "source": []
  },
  {
   "attachments": {},
   "cell_type": "markdown",
   "metadata": {},
   "source": [
    "Milyen árazásra számítsunk?\n",
    "\n",
    "GPT-4\n",
    "- prompt:       $0.03 / 1K tokens\n",
    "- completion:   $0.06 / 1K tokens"
   ]
  },
  {
   "cell_type": "code",
   "execution_count": 4,
   "metadata": {},
   "outputs": [
    {
     "name": "stdout",
     "output_type": "stream",
     "text": [
      "4533\n",
      "38\n"
     ]
    }
   ],
   "source": [
    "gpt_4_token_encoding = tiktoken.get_encoding(\"cl100k_base\")\n",
    "teljes_szoveg = ' '.join([i.page_content for i in docs])\n",
    "teljes_szoveg_tokenek = gpt_4_token_encoding.encode(teljes_szoveg)\n",
    "\n",
    "prompt_template = \"\"\"Use the following pieces of context to answer the users question. \n",
    "                     If you don't know the answer, just say that you don't know, don't try to make up an answer\"\"\"\n",
    "prompt_tokenek = gpt_4_token_encoding.encode(prompt_template)\n",
    "\n",
    "print(len(teljes_szoveg_tokenek))\n",
    "print(len(prompt_tokenek))"
   ]
  },
  {
   "attachments": {},
   "cell_type": "markdown",
   "metadata": {},
   "source": [
    "- Input tokenek száma: 4533 + 38 = 4571\n",
    "- Output (completion / válasz) tokenek becslése: ~100\n",
    "\n",
    "- Teljes költség = (4571 * 0.03 / 1000) + (100 * 0.06 / 1000) = 0.14313$ = 14.3 cent / megválaszolt kérdés\n",
    "- Ebből \n",
    "    - prompt: 13.7 cent\n",
    "    - completion: 0.6 cent\n",
    "\n",
    "\n",
    "Durván 50 Ft-ba kerül 1 kérdés és megválaszolása `GPT-4` modellel. Ez azért van, mert jelenleg a teljes dokumentumot megadjuk neki kontextusként. Hatékonyabb módszer, ha kiválasztjuk a legrelevánsabb szövegrészeket, és csak azokat pakoljuk be a prompt-ba. "
   ]
  },
  {
   "cell_type": "code",
   "execution_count": null,
   "metadata": {},
   "outputs": [],
   "source": []
  },
  {
   "cell_type": "code",
   "execution_count": 6,
   "metadata": {},
   "outputs": [],
   "source": [
    "queries = ['What is this input file?',\n",
    "           'What is this document about?',\n",
    "           'What is the title of the contract?',\n",
    "           'Who are the agreeing parties?',\n",
    "           'Which law governs the contract?',\n",
    "           'How many shares and at what price can be purchased?',\n",
    "           'Upon net exercising, what is the formula used?',\n",
    "           'Who are the representatives who signed the contract?',\n",
    "           'Are there any attachments, amendments or any supplementary material included?',\n",
    "           'Can you identify any risk factors?',\n",
    "           'When was Michael Jordan born?']"
   ]
  },
  {
   "cell_type": "code",
   "execution_count": 7,
   "metadata": {},
   "outputs": [
    {
     "name": "stdout",
     "output_type": "stream",
     "text": [
      "Q: What is this input file?\n",
      "\n",
      "\n",
      "This input file is a legal document representing a Warrant issued by Eidos Therapeutics, Inc. to BridgeBio Pharma LLC. A warrant is a financial instrument that gives the holder the right to purchase a company's stock at a specific price within a certain time frame. The document outlines the terms and conditions of the warrant, including the number of shares, exercise price, exercise period, and various provisions related to adjustments, stockholder rights, and governing laws.\n",
      "\n",
      " ----------------------------------------------------------------------\n",
      "Q: What is this document about?\n",
      "\n",
      "\n",
      "This document is a Warrant to Purchase Shares of Capital Stock issued by Eidos Therapeutics, Inc. to BridgeBio Pharma LLC. It outlines the terms and conditions for the holder (BridgeBio Pharma LLC) to purchase a specified number of shares of the company's capital stock at a predetermined exercise price. The document also includes provisions for adjustments to the exercise price and the number of shares purchasable, as well as the rights and obligations of the company and the holder.\n",
      "\n",
      " ----------------------------------------------------------------------\n",
      "Q: What is the title of the contract?\n",
      "\n",
      "\n",
      "The title of the contract is \"EIDOS THERAPEUTICS, INC. WARRANT TO PURCHASE SHARES OF CAPITAL STOCK.\"\n",
      "\n",
      " ----------------------------------------------------------------------\n",
      "Q: Who are the agreeing parties?\n",
      "\n",
      "\n",
      "The agreeing parties are Eidos Therapeutics, Inc. (the Company) and BridgeBio Pharma LLC (the Holder).\n",
      "\n",
      " ----------------------------------------------------------------------\n",
      "Q: Which law governs the contract?\n",
      "\n",
      "\n",
      "This Warrant shall be governed by and construed in accordance with the Delaware General Corporation Law as to matters within the scope thereof, and as to all other matters shall be governed by, and construed in accordance with, the internal laws of the State of California, without reference to principles of conflict of laws or choice of laws.\n",
      "\n",
      " ----------------------------------------------------------------------\n",
      "Q: How many shares and at what price can be purchased?\n",
      "\n",
      "\n",
      "The number of shares that can be purchased upon exercising the warrant is equal to $4,000,000 divided by the applicable Exercise Price, rounded down to the nearest whole share. The Exercise Price depends on the type of shares being purchased:\n",
      "\n",
      "1. If the warrant is exercisable for shares of New Preferred Stock, the Exercise Price will be the lowest per share purchase price at which shares of the New Preferred Stock are or have been sold in the Qualified Financing at the time of conversion of the Notes.\n",
      "\n",
      "2. If the warrant is exercisable for shares of Series Seed Preferred Stock, the Exercise Price will be $1.3248 per share.\n",
      "\n",
      "Please note that these prices are subject to adjustment as per Section 7 of the warrant.\n",
      "\n",
      " ----------------------------------------------------------------------\n",
      "Q: Upon net exercising, what is the formula used?\n",
      "\n",
      "\n",
      "Upon net exercising, the formula used is:\n",
      "\n",
      "X = Y(A - B) / A\n",
      "\n",
      "Where:\n",
      "\n",
      "X = The number of Warrant Shares to be issued to the Holder.\n",
      "Y = The number of Warrant Shares purchasable under this Warrant or, if only a portion of the Warrant is being exercised, the portion of the Warrant being canceled (at the date of such calculation).\n",
      "A = The fair market value of one (1) Warrant Share (at the date of such calculation).\n",
      "B = The Exercise Price (as adjusted to the date of such calculations).\n",
      "\n",
      " ----------------------------------------------------------------------\n",
      "Q: Who are the representatives who signed the contract?\n",
      "\n",
      "\n",
      "The representatives who signed the contract are:\n",
      "\n",
      "1. For Eidos Therapeutics, Inc.:\n",
      "   Name: Christine Siu\n",
      "   Title: Chief Financial Officer\n",
      "\n",
      "2. For BridgeBio Pharma LLC:\n",
      "   Name: Neil Kumar\n",
      "   Title: Chief Executive Officer\n",
      "\n",
      " ----------------------------------------------------------------------\n",
      "Q: Are there any attachments, amendments or any supplementary material included?\n",
      "\n",
      "\n",
      "Yes, there is an attachment included in the document: Exhibit A to the Purchase Agreement. This exhibit is mentioned in the context of the Warrant and the Purchase Agreement, but the content of Exhibit A is not provided within the given text.\n",
      "\n",
      " ----------------------------------------------------------------------\n",
      "Q: Can you identify any risk factors?\n",
      "\n",
      "\n",
      "The text provided does not explicitly list risk factors. However, it is a warrant agreement between Eidos Therapeutics, Inc. and BridgeBio Pharma LLC, which outlines the terms and conditions for the purchase of shares of capital stock. Some potential risks associated with such agreements could include market fluctuations, changes in the company's financial performance, or regulatory changes. It is important to review the full context of the agreement and any accompanying documents to identify specific risk factors.\n",
      "\n",
      " ----------------------------------------------------------------------\n",
      "Q: When was Michael Jordan born?\n",
      "\n",
      "\n",
      "I don't know the answer, as the provided context does not contain information about Michael Jordan's birthdate.\n",
      "\n",
      " ----------------------------------------------------------------------\n"
     ]
    }
   ],
   "source": [
    "for query in queries:\n",
    "    print('Q:', query)\n",
    "    print('\\n')\n",
    "    print(chain.run(input_documents = docs, question = query))\n",
    "    print('\\n', '-------' * 10)\n",
    "    #time.sleep(20)"
   ]
  },
  {
   "attachments": {},
   "cell_type": "markdown",
   "metadata": {},
   "source": [
    "Minden válasz helyesnek bizonyul, ráadásul a \"kakukktojás\" kérdésen sem hasalt el: kontextusból nem szabadna tudnia, mikor született Michael Jordan, és azt nem is válaszolja meg. Természeseten erre a kérdésre biztosan tudja egyébként a választ, viszont ha nem tudná, 'hallucinálni' kezdene, amit így elkerültünk (prompt-ban utasítottuk, hogy ha kizárólag a kontextusból nem tudja kivenni az infót, akkor mondja meg)"
   ]
  },
  {
   "cell_type": "code",
   "execution_count": null,
   "metadata": {},
   "outputs": [],
   "source": []
  },
  {
   "attachments": {},
   "cell_type": "markdown",
   "metadata": {},
   "source": [
    "### 2. Szöveg módosítása / kiegészítése"
   ]
  },
  {
   "cell_type": "code",
   "execution_count": 41,
   "metadata": {},
   "outputs": [],
   "source": [
    "text_gen_instructions = [\n",
    "    'Write up a clause about market volatility: upon a 20% drop in S&P500 contract shall be terminated.',\n",
    "    'Draft a third option to number of shares: upon an earthquake price shall be only $1.1',\n",
    "    'Rewrite the governing law section: Texas law is the correct one.']"
   ]
  },
  {
   "cell_type": "code",
   "execution_count": 42,
   "metadata": {},
   "outputs": [
    {
     "name": "stdout",
     "output_type": "stream",
     "text": [
      "I: Write up a clause about market volatility: upon a 20% drop in S&P500 contract shall be terminated.\n",
      "\n",
      "\n",
      "Market Volatility Termination Clause:\n",
      "\n",
      "Notwithstanding any other provision in this Agreement, in the event that the S&P 500 Index experiences a decline of twenty percent (20%) or more from its highest closing value within the preceding twelve (12) month period, either party may, upon written notice to the other party, elect to terminate this Agreement immediately. Such termination shall be effective as of the date of the written notice, and neither party shall have any further obligations or liabilities to the other party under this Agreement, except for any obligations or liabilities that have accrued prior to the effective date of termination.\n",
      "\n",
      " ----------------------------------------------------------------------\n",
      "I: Draft a third option to number of shares: upon an earthquake price shall be only $1.1\n",
      "\n",
      "\n",
      "I cannot modify the original document, but I can provide you with a suggested addition to the Exercise Price section. Please note that this is a hypothetical scenario and should not be considered as legal or financial advice.\n",
      "\n",
      "(b) Exercise Price. The purchase price for the Warrant Shares issuable pursuant to this Section 1 shall be:\n",
      "\n",
      "(i) if the Warrant is exercisable for shares of New Preferred Stock in accordance with Section 1(a)(i), the lowest per share purchase price at which shares of the New Preferred Stock are or have been sold in the Qualified Financing at the time of conversion of the Notes; and\n",
      "\n",
      "(ii) if the Warrant is exercisable for shares of Series Seed Preferred Stock in accordance with Section 1(a)(ii), $1.3248 per share;\n",
      "\n",
      "(iii) if an earthquake with a magnitude of 6.0 or greater on the Richter scale occurs within a 50-mile radius of the Company's headquarters during the Exercise Period, the Exercise Price shall be adjusted to $1.1 per share for a period of 30 days following the date of the earthquake.\n",
      "\n",
      "Such purchase price, subject to adjustment pursuant to Section 7 hereof from time to time, is herein referred to as the “Exercise Price.”\n",
      "\n",
      " ----------------------------------------------------------------------\n",
      "I: Rewrite the governing law section: Texas law is the correct one.\n",
      "\n",
      "\n",
      "10. Governing Law. This Warrant shall be governed by and construed in accordance with the Delaware General Corporation Law as to matters within the scope thereof, and as to all other matters shall be governed by, and construed in accordance with, the internal laws of the State of Texas, without reference to principles of conflict of laws or choice of laws.\n",
      "\n",
      " ----------------------------------------------------------------------\n"
     ]
    }
   ],
   "source": [
    "for instruction in text_gen_instructions:\n",
    "    print('I:', instruction)\n",
    "    print('\\n')\n",
    "    print(chain.run(input_documents = docs, question = instruction))\n",
    "    print('\\n', '-------' * 10)\n",
    "    #time.sleep(20)"
   ]
  },
  {
   "attachments": {},
   "cell_type": "markdown",
   "metadata": {},
   "source": [
    "Használható, emberszerűen megfogalmazott módosítási javaslatokatt tett a modell. A 2. kérdésnél felhívta a figyelmünket, hogy módosítani nem tud, de megírja javaslatait, valamint jogi tanács kérésére serkentett"
   ]
  },
  {
   "cell_type": "code",
   "execution_count": null,
   "metadata": {},
   "outputs": [],
   "source": []
  },
  {
   "attachments": {},
   "cell_type": "markdown",
   "metadata": {},
   "source": [
    "Mielőtt a hivatalos 'szövegösszegző' / 'szövegkivonatoló' promptot használnánk, nézzük meg, hogy a QA is remekül kinyeri a kellő információt."
   ]
  },
  {
   "cell_type": "code",
   "execution_count": 8,
   "metadata": {},
   "outputs": [],
   "source": [
    "q = 'Please summarize the entire text as consicely as possible.'\n",
    "a = chain.run(input_documents = docs, question = q)"
   ]
  },
  {
   "cell_type": "code",
   "execution_count": 9,
   "metadata": {},
   "outputs": [
    {
     "name": "stdout",
     "output_type": "stream",
     "text": [
      "Q: Please summarize the entire text as consicely as possible.\n",
      "\n",
      "\n",
      "This document is a Warrant issued by Eidos Therapeutics, Inc. to BridgeBio Pharma LLC, allowing the holder to purchase shares of the company's capital stock. The Warrant is issued under the Securities Act of 1933 and is subject to certain restrictions on transfer. The Warrant was issued on February 22, 2018, and is void after February 21, 2021. The holder can exercise the Warrant to purchase shares of either New Preferred Stock or Series Seed Preferred Stock, depending on certain conditions. The Exercise Price for the shares is subject to adjustments in case of stock splits, dividends, or other corporate actions. The Warrant does not grant the holder any stockholder rights until it is exercised. The document also includes provisions for notice, governing law, successors and assigns, amendment, and severability.\n"
     ]
    }
   ],
   "source": [
    "print('Q:', q)\n",
    "print('\\n')\n",
    "#print(re.sub(\"(.{89})\", \"\\\\1\\n\", a, 0, re.DOTALL))\n",
    "print(a)"
   ]
  },
  {
   "attachments": {},
   "cell_type": "markdown",
   "metadata": {},
   "source": [
    "Egészen jó kivonata az eredetileg 9 oldalas PDF-nek!"
   ]
  },
  {
   "cell_type": "code",
   "execution_count": null,
   "metadata": {},
   "outputs": [],
   "source": []
  },
  {
   "attachments": {},
   "cell_type": "markdown",
   "metadata": {},
   "source": [
    "### 3. Szövegkivonatolás"
   ]
  },
  {
   "cell_type": "code",
   "execution_count": 10,
   "metadata": {},
   "outputs": [],
   "source": [
    "chain = load_summarize_chain(ChatOpenAI(model_name = 'gpt-4', temperature=0.0), chain_type=\"stuff\")\n",
    "summary = chain.run(docs)"
   ]
  },
  {
   "cell_type": "code",
   "execution_count": 12,
   "metadata": {},
   "outputs": [
    {
     "name": "stdout",
     "output_type": "stream",
     "text": [
      "This document is a warrant issued by Eidos Therapeutics, Inc. to BridgeBio Pharma LLC, all\n",
      "owing BridgeBio to purchase shares of Eidos' capital stock. The warrant is exercisable und\n",
      "er certain conditions and subject to adjustments. The warrant is not registered under the \n",
      "Securities Act of 1933 and cannot be sold or transferred without proper registration or ex\n",
      "emption. The exercise period, method of exercise, and adjustments to the exercise price an\n",
      "d number of warrant shares are detailed within the document.\n"
     ]
    }
   ],
   "source": [
    "print(re.sub(\"(.{90})\", \"\\\\1\\n\", summary, 0, re.DOTALL))\n",
    "#print(summary)"
   ]
  },
  {
   "cell_type": "code",
   "execution_count": null,
   "metadata": {},
   "outputs": [],
   "source": []
  },
  {
   "attachments": {},
   "cell_type": "markdown",
   "metadata": {},
   "source": [
    "Egyedi `prompt` segítségével személyre szabhatjuk az instrukciót!"
   ]
  },
  {
   "cell_type": "code",
   "execution_count": 13,
   "metadata": {},
   "outputs": [],
   "source": [
    "prompt_template = \"\"\"Write a concise summary of the following. \n",
    "Include all financial data, such as the number and price of stocks.\n",
    "\n",
    "{text}\n",
    "\n",
    "CONCISE SUMMARY:\"\"\"\n",
    "\n",
    "PROMPT = PromptTemplate(template=prompt_template, input_variables=[\"text\"])\n",
    "chain = load_summarize_chain(ChatOpenAI(model_name = 'gpt-4', temperature=0.0), \n",
    "                             chain_type=\"stuff\", prompt=PROMPT)\n",
    "summary = chain.run(docs)"
   ]
  },
  {
   "cell_type": "code",
   "execution_count": 14,
   "metadata": {},
   "outputs": [
    {
     "name": "stdout",
     "output_type": "stream",
     "text": [
      "Eidos Therapeutics has issued a warrant to BridgeBio Pharma LLC, allowing the purchase of \n",
      "up to $4,000,000 worth of Eidos' capital stock. The warrant is exercisable for shares of N\n",
      "ew Preferred Stock or Series Seed Preferred Stock, with exercise prices of the lowest per \n",
      "share purchase price in a Qualified Financing or $1.3248 per share, respectively. The warr\n",
      "ant is valid from February 22, 2018, to February 21, 2021.\n"
     ]
    }
   ],
   "source": [
    "print(re.sub(\"(.{90})\", \"\\\\1\\n\", summary, 0, re.DOTALL))"
   ]
  },
  {
   "cell_type": "code",
   "execution_count": null,
   "metadata": {},
   "outputs": [],
   "source": []
  },
  {
   "attachments": {},
   "cell_type": "markdown",
   "metadata": {},
   "source": [
    "Nézzük meg mire képes ha magyar outputot kérünk tőle"
   ]
  },
  {
   "cell_type": "code",
   "execution_count": 15,
   "metadata": {},
   "outputs": [
    {
     "name": "stderr",
     "output_type": "stream",
     "text": [
      "Retrying langchain.chat_models.openai.ChatOpenAI.completion_with_retry.<locals>._completion_with_retry in 1.0 seconds as it raised Timeout: Request timed out: HTTPSConnectionPool(host='api.openai.com', port=443): Read timed out. (read timeout=60).\n"
     ]
    }
   ],
   "source": [
    "prompt_template = \"\"\"Write a concise summary of the following. \n",
    "Include all financial data, such as the number and price of stocks.\n",
    "\n",
    "{text}\n",
    "\n",
    "CONCISE SUMMARY IN HUNGARIAN:\"\"\"\n",
    "\n",
    "PROMPT = PromptTemplate(template=prompt_template, input_variables=[\"text\"])\n",
    "chain = load_summarize_chain(ChatOpenAI(model_name = 'gpt-4', temperature=0.0), \n",
    "                             chain_type=\"stuff\", prompt=PROMPT)\n",
    "summary = chain.run(docs)"
   ]
  },
  {
   "cell_type": "code",
   "execution_count": 61,
   "metadata": {},
   "outputs": [
    {
     "name": "stdout",
     "output_type": "stream",
     "text": [
      "Az Eidos Therapeutics, Inc. kibocsát egy részvényvásárlási jogot a BridgeBio Pharma LLC ré\n",
      "szére, amelynek értéke 4 000 000 dollár. A részvények vételi ára a következőképpen alakul:\n",
      " ha az új preferált részvényekre vonatkozik, akkor a minősített finanszírozás során értéke\n",
      "sített új preferált részvények legalacsonyabb ára; ha a sorozat Seed Preferred részvényekr\n",
      "e vonatkozik, akkor 1,3248 dollár részvényenként. A részvényvásárlási jog a kibocsátás dát\n",
      "umától számított három évig érvényes.\n"
     ]
    }
   ],
   "source": [
    "print(re.sub(\"(.{90})\", \"\\\\1\\n\", summary, 0, re.DOTALL))"
   ]
  },
  {
   "cell_type": "code",
   "execution_count": null,
   "metadata": {},
   "outputs": [],
   "source": []
  },
  {
   "attachments": {},
   "cell_type": "markdown",
   "metadata": {},
   "source": [
    "Most nézzük meg mire képes magyar prompttal, angol kontextussal, magyar output-ot kérve"
   ]
  },
  {
   "cell_type": "code",
   "execution_count": 17,
   "metadata": {},
   "outputs": [
    {
     "name": "stderr",
     "output_type": "stream",
     "text": [
      "Retrying langchain.chat_models.openai.ChatOpenAI.completion_with_retry.<locals>._completion_with_retry in 1.0 seconds as it raised Timeout: Request timed out: HTTPSConnectionPool(host='api.openai.com', port=443): Read timed out. (read timeout=60).\n",
      "Retrying langchain.chat_models.openai.ChatOpenAI.completion_with_retry.<locals>._completion_with_retry in 2.0 seconds as it raised Timeout: Request timed out: HTTPSConnectionPool(host='api.openai.com', port=443): Read timed out. (read timeout=60).\n",
      "Retrying langchain.chat_models.openai.ChatOpenAI.completion_with_retry.<locals>._completion_with_retry in 4.0 seconds as it raised Timeout: Request timed out: HTTPSConnectionPool(host='api.openai.com', port=443): Read timed out. (read timeout=60).\n",
      "Retrying langchain.chat_models.openai.ChatOpenAI.completion_with_retry.<locals>._completion_with_retry in 8.0 seconds as it raised Timeout: Request timed out: HTTPSConnectionPool(host='api.openai.com', port=443): Read timed out. (read timeout=60).\n"
     ]
    }
   ],
   "source": [
    "prompt_template = \"\"\"Írj egy rövid, lényegretörő összefoglalót az alábbi szövegről. \n",
    "Említs meg minden pénzügyi információt, köztük a részvények mennyiségét és árát.\n",
    "\n",
    "{text}\n",
    "\n",
    "Összefoglaló magyar nyelven:\"\"\"\n",
    "\n",
    "PROMPT = PromptTemplate(template=prompt_template, input_variables=[\"text\"])\n",
    "chain = load_summarize_chain(ChatOpenAI(model_name = 'gpt-4', temperature=0.0), \n",
    "                             chain_type=\"stuff\", prompt=PROMPT)\n",
    "summary = chain.run(docs)"
   ]
  },
  {
   "cell_type": "code",
   "execution_count": 18,
   "metadata": {},
   "outputs": [
    {
     "name": "stdout",
     "output_type": "stream",
     "text": [
      "A dokumentum egy részvényvásárlási opciót tartalmaz, amelyet az Eidos Therapeutics, Inc. a\n",
      "dott ki a BridgeBio Pharma LLC számára. Az opció lehetővé teszi a tulajdonos számára, hogy\n",
      " legfeljebb 4 000 000 dollár értékben vásároljon részvényeket a kibocsátó társaságban. Az \n",
      "opció érvényességi ideje 2018. február 22-től 2021. február 21-ig tart. Az opció gyakorlás\n",
      "ának ára a részvények osztályától és időpontjától függően változik, de a dokumentum 1,3248\n",
      " dolláros árat említ a Series Seed Preferred Stock részvények esetében.\n"
     ]
    }
   ],
   "source": [
    "print(re.sub(\"(.{90})\", \"\\\\1\\n\", summary, 0, re.DOTALL))"
   ]
  },
  {
   "cell_type": "code",
   "execution_count": null,
   "metadata": {},
   "outputs": [],
   "source": []
  },
  {
   "cell_type": "code",
   "execution_count": 35,
   "metadata": {},
   "outputs": [
    {
     "name": "stdout",
     "output_type": "stream",
     "text": [
      "Daily cost: 4.651216\n"
     ]
    }
   ],
   "source": [
    "r = openai.api_requestor.APIRequestor()\n",
    "resp = r.request(\"GET\", '/dashboard/billing/usage?start_date=2023-05-29&end_date=2023-05-30')\n",
    "resp_object = resp[0]\n",
    "cost_USD = resp_object.data['total_usage'] / 100\n",
    "\n",
    "print('Daily cost:', cost_USD)"
   ]
  },
  {
   "cell_type": "code",
   "execution_count": null,
   "metadata": {},
   "outputs": [],
   "source": []
  }
 ],
 "metadata": {
  "kernelspec": {
   "display_name": "openAI_venv",
   "language": "python",
   "name": "python3"
  },
  "language_info": {
   "codemirror_mode": {
    "name": "ipython",
    "version": 3
   },
   "file_extension": ".py",
   "mimetype": "text/x-python",
   "name": "python",
   "nbconvert_exporter": "python",
   "pygments_lexer": "ipython3",
   "version": "3.9.7"
  },
  "orig_nbformat": 4
 },
 "nbformat": 4,
 "nbformat_minor": 2
}
