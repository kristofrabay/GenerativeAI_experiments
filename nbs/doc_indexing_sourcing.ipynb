{
 "cells": [
  {
   "attachments": {},
   "cell_type": "markdown",
   "metadata": {},
   "source": [
    "## Communicating with own knowledge base using `OpenAI`"
   ]
  },
  {
   "cell_type": "code",
   "execution_count": 76,
   "metadata": {},
   "outputs": [],
   "source": [
    "import credentials\n",
    "import time\n",
    "import re\n",
    "import shutil\n",
    "import glob\n",
    "import os\n",
    "os.environ[\"OPENAI_API_KEY\"] = credentials.openai_api\n",
    "\n",
    "import openai\n",
    "import tiktoken\n",
    "\n",
    "from llama_index import VectorStoreIndex, SimpleDirectoryReader\n",
    "from llama_index.node_parser import SimpleNodeParser\n",
    "from llama_index import StorageContext, load_index_from_storage\n",
    "\n",
    "# for low-level API calls\n",
    "from llama_index import VectorStoreIndex, ResponseSynthesizer\n",
    "from llama_index.retrievers import VectorIndexRetriever\n",
    "from llama_index.query_engine import RetrieverQueryEngine\n",
    "from llama_index.indices.postprocessor import SimilarityPostprocessor\n",
    "\n",
    "# langchain helpers\n",
    "\n",
    "from langchain.embeddings.openai import OpenAIEmbeddings\n",
    "from langchain.vectorstores import FAISS, Chroma\n",
    "from langchain.text_splitter import CharacterTextSplitter, RecursiveCharacterTextSplitter\n",
    "from langchain.document_loaders import PyPDFDirectoryLoader, PyPDFLoader"
   ]
  },
  {
   "cell_type": "code",
   "execution_count": null,
   "metadata": {},
   "outputs": [],
   "source": []
  },
  {
   "attachments": {},
   "cell_type": "markdown",
   "metadata": {},
   "source": [
    "### VectorDB from documents"
   ]
  },
  {
   "cell_type": "code",
   "execution_count": 93,
   "metadata": {},
   "outputs": [],
   "source": [
    "path = '../docs/docs_to_index/'\n",
    "\n",
    "#### USING PDF DIR LOADER - CANNOT SET SPLITTING ####\n",
    "#loader = PyPDFDirectoryLoader(path)\n",
    "#docs = loader.load()\n",
    "\n",
    "#### USING SIMPLE PDF LOADER IN LOOP - SETTING SPLITTING ####\n",
    "text_splitter = RecursiveCharacterTextSplitter(chunk_size = 1500, chunk_overlap = 200)\n",
    "list_of_pdf_files = glob.glob(path + \"*.pdf\")\n",
    "docs = []\n",
    "\n",
    "for pdf_file in list_of_pdf_files:\n",
    "    pdf_loaded = PyPDFLoader(pdf_file).load_and_split(text_splitter = text_splitter)\n",
    "    docs.extend(pdf_loaded)\n"
   ]
  },
  {
   "cell_type": "code",
   "execution_count": 95,
   "metadata": {},
   "outputs": [
    {
     "data": {
      "text/plain": [
       "433"
      ]
     },
     "execution_count": 95,
     "metadata": {},
     "output_type": "execute_result"
    }
   ],
   "source": [
    "# used to be only 206 docs (206 total pages)\n",
    "# now with the smaller chunks we have more docs but similarity search shall be more relevant\n",
    "len(docs)"
   ]
  },
  {
   "cell_type": "code",
   "execution_count": 98,
   "metadata": {},
   "outputs": [],
   "source": [
    "# trick to help with context\n",
    "# add to each page the document name\n",
    "\n",
    "for i in docs:\n",
    "    i.page_content = i.metadata['source'].split(\"\\\\\")[-1].split('.')[0] + ' --- ' + i.page_content"
   ]
  },
  {
   "cell_type": "code",
   "execution_count": null,
   "metadata": {},
   "outputs": [],
   "source": []
  },
  {
   "attachments": {},
   "cell_type": "markdown",
   "metadata": {},
   "source": [
    "Apply OpenAI Embedder"
   ]
  },
  {
   "cell_type": "code",
   "execution_count": 106,
   "metadata": {},
   "outputs": [],
   "source": [
    "embeddings = OpenAIEmbeddings()\n",
    "persist_dir = \"../docs/docs_to_index_vectorDB/\"\n",
    "if os.path.exists(persist_dir): \n",
    "    shutil.rmtree(persist_dir)\n",
    "    os.makedirs(persist_dir)\n",
    "\n",
    "db = FAISS.from_documents(docs, embeddings)\n",
    "db.save_local(persist_dir)\n",
    "\n",
    "#db = Chroma.from_documents(docs, embeddings, persist_directory=persist_dir)\n",
    "#db.persist()"
   ]
  },
  {
   "cell_type": "code",
   "execution_count": 107,
   "metadata": {},
   "outputs": [
    {
     "data": {
      "text/plain": [
       "433"
      ]
     },
     "execution_count": 107,
     "metadata": {},
     "output_type": "execute_result"
    }
   ],
   "source": [
    "db.index.ntotal"
   ]
  },
  {
   "cell_type": "code",
   "execution_count": 114,
   "metadata": {},
   "outputs": [
    {
     "data": {
      "text/plain": [
       "[Document(page_content='wizzair_conditions --- 23 \\n 8.3.5.  If You need such assistance , please contact our Call Centre at least 48 hours prior \\nto the Scheduled departure of the flight to arrange this service. For more \\ninformation please visit Our Website or contact Our Call Centre.  \\n \\n8.4. Travelling with Recognised Assistance Dog  \\n \\n8.4.1.  Unless the appli cable law states otherwise, in case of Special Assistance where \\nYou need to travel with your Recognised Assistance Dog, You are entitled to travel \\nwith your Recognised Assistance Dog with no additional fee, subject to a limit of \\none dog per passenger/fligh t. \\n \\n8.4.2.  In accordance with Hungarian SZMM decree of 27/2009  We do not carry therapy \\ndogs or any emotional support animals.  \\n \\n8.4.3.  We require You to inform us in accordance with Paragraph 4.1.7 or 4.3.2  of these \\nTerms at least 48 hours before the Scheduled departure in order to organise your \\ntravel, such notification including Your provision to Us of the documents referred \\nto in Paragraph 8.4.4  of these Terms.  \\n \\n8.4.4.  A Recognised Assistance Dog must have offic ial documentation which confirms \\n(1) that your Recognised Assistance Dog has an up -to-date EU pet passport \\nshowing that the dog meets the requirements of the Hungarian SZMM decree of \\n27/2009 and EU Pet Travel Scheme Regulation  and the vaccination and treat ment \\nrequirements of the country you are travelling to ; and (2) that it is fully trained to', metadata={'source': '../docs/docs_to_index\\\\wizzair_conditions.pdf', 'page': 22}),\n",
       " Document(page_content='ryanair_conditions --- luggage.\\n8.6 Animals, car go and human ashes\\n8.6.1  \\xa0\\xa0\\xa0\\xa0 W e do not carr y animals on our \\x00ights, ex cept for guide dogs and assistance dogs \\xa0 on cer tain\\nroutes.\\n8.6.2 \\xa0\\xa0\\xa0\\xa0\\xa0 W e do not carr y car go on our \\x00ights.\\n8.6.3  \\xa0\\xa0\\xa0\\xa0 Y ou can tak e human ashes on the plane with y ou (as well as one piece of carr y-on baggage) as\\nlong as y ou ha ve a cop y of the death cer ti\\x00cate and the cr emation cer ti\\x00cate with y ou. Y ou must mak e\\nsure that the ashes ar e secur ely packaged in a suitable container with a scr ew top lid and pr otected\\nfrom being br oken.', metadata={'source': '../docs/docs_to_index\\\\ryanair_conditions.pdf', 'page': 13}),\n",
       " Document(page_content='wizzair_conditions --- WIZZ AIR HUNGARY LIMITED  \\n \\nGENERAL CONDITIONS OF CARRIAGE OF PASSENGERS AND BAGGAGE  \\n \\n \\nEffective as of 1 March  2023', metadata={'source': '../docs/docs_to_index\\\\wizzair_conditions.pdf', 'page': 0}),\n",
       " Document(page_content='wizzair_conditions --- 13.1.2.  carrying you or your baggage may affect the comfort of any person in the aircraft.  \\n \\n13.1.3.  You are under the influence of alcohol or drugs in the airport or on board the \\naircraft;  \\n \\n13.1.4.  You have smoked or attempted to smoke in the airport (other than in permitted \\nareas) or on board the aircraft;  \\n \\n13.1.5.  You are, or there is good reason to believe you are, in unlawful possession of \\ndrugs;  \\n \\n13.1.6.  Your mental or physical state is perceived to be a danger or risk to yourself, the \\naircraft or any other person on or around it,  or you  have failed to meet \\ngovernment, public health body, or other government enforcement body, health \\nrequirements applicable for the country you are travelling to ;', metadata={'source': '../docs/docs_to_index\\\\wizzair_conditions.pdf', 'page': 29}),\n",
       " Document(page_content='wizzair_conditions --- 38 \\n  \\n15.5.4.  Notwithstanding any permission which we may give, the carriage of any fragile \\nitems (whether by inclusion in your Checked Baggage, Unchecked Baggage or \\notherwise) is entirely at your risk and you fully understand and acknowledge the \\npresence and nature  of the risks involved. We shall have  no liability whatsoever \\nfor any damages or other deterioration which such fragile items may suffer or \\noccasion during or in connection with such carriage . Baggage containing fragile \\nitems may be carried as Checked Baggage only with Limited Release Tag.  \\n \\n15.6.  Animals  \\n \\n15.6.1.  We do not carry live animals on Our flights, except for Recognised Assistance \\nDogs. For further information on rules regarding Recognised Assistance Dogs \\nplease refer to Paragraph 8.4.  \\n \\n15.7.  Right to Refuse Carriage of Your Baggage  \\n \\n15.7.1.  We may refuse carriage of any item or material considered by Us to be unsuitable \\nfor carriage because of its size, shape, weight, content, character, packing, or for \\nsafety and security reasons, or the comfort of other passengers.  \\n \\n15.8.  Right to Search Baggage  \\n \\n15.8.1.  For safety and security, We may request that You permit a search of Your clothing \\nor Your Baggage. If You are not present or are otherwise unavailable, Your \\nBaggage may be searched in Your absence for the purpose of determining \\nwhether Your Baggage contains any items or materials set out in Paragraphs 15.4', metadata={'source': '../docs/docs_to_index\\\\wizzair_conditions.pdf', 'page': 37})]"
      ]
     },
     "execution_count": 114,
     "metadata": {},
     "output_type": "execute_result"
    }
   ],
   "source": [
    "query = 'Are dogs allowed on WizzAir?'\n",
    "query_embedded = embeddings.embed_query(query)\n",
    "\n",
    "### as chuck size is smaller, we can include more relevant results in the PROMPT\n",
    "\n",
    "#sim_docs = db.similarity_search_with_score(query, k = 5) #score the lower the better for FAISS (L2)\n",
    "#sim_docs = db.similarity_search_with_score_by_vector(query_embedded, k = 5)\n",
    "sim_docs = db.max_marginal_relevance_search_by_vector(query_embedded, k = 5)\n",
    "\n",
    "#sim_docs = db.similarity_search_with_score(query) # for some reason even for cos_sim the lower here the better (probably inverted for minimization)\n",
    "#sim_docs = db.max_marginal_relevance_search_by_vector(query_embedded)\n",
    "\n",
    "sim_docs"
   ]
  },
  {
   "cell_type": "code",
   "execution_count": 82,
   "metadata": {},
   "outputs": [],
   "source": []
  },
  {
   "cell_type": "code",
   "execution_count": null,
   "metadata": {},
   "outputs": [],
   "source": []
  },
  {
   "attachments": {},
   "cell_type": "markdown",
   "metadata": {},
   "source": [
    "### Construct prompt with sources"
   ]
  },
  {
   "attachments": {},
   "cell_type": "markdown",
   "metadata": {},
   "source": [
    "#### ChatGPT code - packed into function"
   ]
  },
  {
   "cell_type": "code",
   "execution_count": 115,
   "metadata": {},
   "outputs": [],
   "source": [
    "history = []\n",
    "\n",
    "def Ask_Your_Knowledge_Base(user_input = \"What is RyanAir's cancellation policy?\",\n",
    "                            db = db,\n",
    "                            embeddings = embeddings,\n",
    "                            history_list = history):\n",
    "    \n",
    "\n",
    "    ### This function does not have memory, meaning follow-up capabilities are not yet implemented\n",
    "    ### Every question is a 'new' context\n",
    "\n",
    "\n",
    "    #### PROMPT PARTS ####\n",
    "\n",
    "    main_system_message = \"\"\"\n",
    "    Assistant helps people answer questions about a wide variety of documents. \n",
    "    Answer ONLY with the facts listed in the list of sources below. If there isn't enough information below, say you don't know. Do not generate answers that don't use the sources below. If asking a clarifying question to the user would help, ask the question. \n",
    "    Each source has a name followed by colon and the actual information, always include the source name for each fact you use in the response. Use square brackets to reference the source, e.g. [info1.txt]. Don't combine sources, list each source separately, e.g. [info1.txt][info2.pdf].\n",
    "\n",
    "    Sources:\n",
    "    {sources}\n",
    "\n",
    "    \"\"\"\n",
    "\n",
    "    turn_prefix = \"\"\"\n",
    "\n",
    "    user:\n",
    "    \"\"\"\n",
    "\n",
    "    turn_suffix = \"\"\"\n",
    "\n",
    "    assistant:\n",
    "    \"\"\"\n",
    "\n",
    "    prompt_history = turn_prefix\n",
    "\n",
    "\n",
    "    #### PROCESS QUERY; RUN SIMILARITY SEARCH ####\n",
    "\n",
    "    query_embedded = embeddings.embed_query(user_input)\n",
    "    search = user_input\n",
    "\n",
    "    print(\"Searching:\", search)\n",
    "    print(\"-------------------\")\n",
    "\n",
    "    sim_docs = db.max_marginal_relevance_search_by_vector(query_embedded, k = 5)\n",
    "    results = [doc.metadata['source'].split(\"\\\\\")[-1] + \"-page-\" + str(doc.metadata['page'] )+ \": \" + doc.page_content.replace(\"\\n\", \"\").replace(\"\\r\", \"\") for doc in sim_docs]\n",
    "    content = \"\\n\".join(results)\n",
    "\n",
    "\n",
    "    #### CRAFT MESSAGE TO CHATCOMPLETION ####\n",
    "\n",
    "    message = [{\"role\": \"system\", \"content\": main_system_message.format(sources=content)},\n",
    "            {'role' : 'user', 'content' : prompt_history + user_input + turn_suffix}]\n",
    "    \n",
    "\n",
    "    #### CALL CHATGPT API ####\n",
    "\n",
    "    completion = openai.ChatCompletion.create(\n",
    "        model='gpt-3.5-turbo', \n",
    "        messages=message, \n",
    "        temperature=0.0, \n",
    "        max_tokens=1024,)\n",
    "    \n",
    "\n",
    "    #### APPEND TO HISTORY ####\n",
    "\n",
    "    prompt_history += user_input + turn_suffix + completion.choices[0]['message']['content'] + turn_prefix\n",
    "\n",
    "    history.append(\"user: \" + user_input)\n",
    "    history.append(\"assistant: \" + completion.choices[0]['message']['content'])\n",
    "\n",
    "    print(\"\\n-------------------\\n\".join(history))   "
   ]
  },
  {
   "cell_type": "code",
   "execution_count": 116,
   "metadata": {},
   "outputs": [
    {
     "name": "stdout",
     "output_type": "stream",
     "text": [
      "Searching: What is RyanAir's cancellation policy?\n",
      "-------------------\n",
      "user: What is RyanAir's cancellation policy?\n",
      "-------------------\n",
      "assistant: According to the General Terms & Conditions of Carriage listed on Ryanair's website [ryanair_conditions.pdf-page-16], if Ryanair cancels a flight, fails to operate the flight according to schedule, or cancels the route, passengers may be entitled to the rights set out in the Montreal Convention 1999 or the applicable Passenger Rights Regulations. If a flight is cancelled or delayed by two hours or more, Ryanair will give passengers information on their rights, including their rights to compensation and assistance. If a passenger cancels their booking up to 14 days prior to the scheduled time of departure of their flight, they will be entitled to a refund of the total fare after deduction of the cancellation fee. If a passenger cancels their booking within 14 days prior to the scheduled time of departure of their flight, they will be refunded the amount of the total fare after deduction of the fee for other services and the seat protection fee.\n"
     ]
    }
   ],
   "source": [
    "Ask_Your_Knowledge_Base()"
   ]
  },
  {
   "cell_type": "code",
   "execution_count": 117,
   "metadata": {},
   "outputs": [
    {
     "name": "stdout",
     "output_type": "stream",
     "text": [
      "Searching: Are dogs allowed on WizzAir?\n",
      "-------------------\n",
      "user: What is RyanAir's cancellation policy?\n",
      "-------------------\n",
      "assistant: According to the General Terms & Conditions of Carriage listed on Ryanair's website [ryanair_conditions.pdf-page-16], if Ryanair cancels a flight, fails to operate the flight according to schedule, or cancels the route, passengers may be entitled to the rights set out in the Montreal Convention 1999 or the applicable Passenger Rights Regulations. If a flight is cancelled or delayed by two hours or more, Ryanair will give passengers information on their rights, including their rights to compensation and assistance. If a passenger cancels their booking up to 14 days prior to the scheduled time of departure of their flight, they will be entitled to a refund of the total fare after deduction of the cancellation fee. If a passenger cancels their booking within 14 days prior to the scheduled time of departure of their flight, they will be refunded the amount of the total fare after deduction of the fee for other services and the seat protection fee.\n",
      "-------------------\n",
      "user: Are dogs allowed on WizzAir?\n",
      "-------------------\n",
      "assistant: WizzAir allows Recognised Assistance Dogs to travel with passengers with no additional fee, subject to a limit of one dog per passenger/flight. However, therapy dogs or any emotional support animals are not allowed. Passengers need to inform WizzAir at least 48 hours before the scheduled departure and provide official documentation confirming that the dog meets the requirements of the Hungarian SZMM decree of 27/2009 and EU Pet Travel Scheme Regulation and the vaccination and treatment requirements of the country they are traveling to. [wizzair_conditions.pdf-page-22][wizzair_conditions.pdf-page-29][wizzair_conditions.pdf-page-37]\n"
     ]
    }
   ],
   "source": [
    "Ask_Your_Knowledge_Base('Are dogs allowed on WizzAir?')"
   ]
  },
  {
   "cell_type": "code",
   "execution_count": 118,
   "metadata": {},
   "outputs": [
    {
     "name": "stdout",
     "output_type": "stream",
     "text": [
      "Searching: What is Easy Jet's refund policy?\n",
      "-------------------\n",
      "user: What is RyanAir's cancellation policy?\n",
      "-------------------\n",
      "assistant: According to the General Terms & Conditions of Carriage listed on Ryanair's website [ryanair_conditions.pdf-page-16], if Ryanair cancels a flight, fails to operate the flight according to schedule, or cancels the route, passengers may be entitled to the rights set out in the Montreal Convention 1999 or the applicable Passenger Rights Regulations. If a flight is cancelled or delayed by two hours or more, Ryanair will give passengers information on their rights, including their rights to compensation and assistance. If a passenger cancels their booking up to 14 days prior to the scheduled time of departure of their flight, they will be entitled to a refund of the total fare after deduction of the cancellation fee. If a passenger cancels their booking within 14 days prior to the scheduled time of departure of their flight, they will be refunded the amount of the total fare after deduction of the fee for other services and the seat protection fee.\n",
      "-------------------\n",
      "user: Are dogs allowed on WizzAir?\n",
      "-------------------\n",
      "assistant: WizzAir allows Recognised Assistance Dogs to travel with passengers with no additional fee, subject to a limit of one dog per passenger/flight. However, therapy dogs or any emotional support animals are not allowed. Passengers need to inform WizzAir at least 48 hours before the scheduled departure and provide official documentation confirming that the dog meets the requirements of the Hungarian SZMM decree of 27/2009 and EU Pet Travel Scheme Regulation and the vaccination and treatment requirements of the country they are traveling to. [wizzair_conditions.pdf-page-22][wizzair_conditions.pdf-page-29][wizzair_conditions.pdf-page-37]\n",
      "-------------------\n",
      "user: What is Easy Jet's refund policy?\n",
      "-------------------\n",
      "assistant: According to Easy Jet's terms and conditions [easyjet_conditions.pdf-page-6], if you cancel, miss, or do not take your flight, you can claim a full refund of Government Tax for the flight(s) you do not take. Refunds will be made to the Booker using the original payment method or original Easy Jet account, as applicable. If the original payment method or account is no longer available, Easy Jet will refund to an alternative payment method in the Booker’s name. Refunds will normally be made in the original currency in which the Booking was made. Easy Jet's change fees depend on when the change is made and which channel you use to make the change. If you purchase an Easy Jet Flexi fare, some of their change fees are waived. Please see their Fares page for more details.\n"
     ]
    }
   ],
   "source": [
    "Ask_Your_Knowledge_Base(\"What is Easy Jet's refund policy?\")"
   ]
  },
  {
   "cell_type": "code",
   "execution_count": 119,
   "metadata": {},
   "outputs": [
    {
     "name": "stdout",
     "output_type": "stream",
     "text": [
      "Searching: Can I carry a gun on RyanAir?\n",
      "-------------------\n",
      "user: What is RyanAir's cancellation policy?\n",
      "-------------------\n",
      "assistant: According to the General Terms & Conditions of Carriage listed on Ryanair's website [ryanair_conditions.pdf-page-16], if Ryanair cancels a flight, fails to operate the flight according to schedule, or cancels the route, passengers may be entitled to the rights set out in the Montreal Convention 1999 or the applicable Passenger Rights Regulations. If a flight is cancelled or delayed by two hours or more, Ryanair will give passengers information on their rights, including their rights to compensation and assistance. If a passenger cancels their booking up to 14 days prior to the scheduled time of departure of their flight, they will be entitled to a refund of the total fare after deduction of the cancellation fee. If a passenger cancels their booking within 14 days prior to the scheduled time of departure of their flight, they will be refunded the amount of the total fare after deduction of the fee for other services and the seat protection fee.\n",
      "-------------------\n",
      "user: Are dogs allowed on WizzAir?\n",
      "-------------------\n",
      "assistant: WizzAir allows Recognised Assistance Dogs to travel with passengers with no additional fee, subject to a limit of one dog per passenger/flight. However, therapy dogs or any emotional support animals are not allowed. Passengers need to inform WizzAir at least 48 hours before the scheduled departure and provide official documentation confirming that the dog meets the requirements of the Hungarian SZMM decree of 27/2009 and EU Pet Travel Scheme Regulation and the vaccination and treatment requirements of the country they are traveling to. [wizzair_conditions.pdf-page-22][wizzair_conditions.pdf-page-29][wizzair_conditions.pdf-page-37]\n",
      "-------------------\n",
      "user: What is Easy Jet's refund policy?\n",
      "-------------------\n",
      "assistant: According to Easy Jet's terms and conditions [easyjet_conditions.pdf-page-6], if you cancel, miss, or do not take your flight, you can claim a full refund of Government Tax for the flight(s) you do not take. Refunds will be made to the Booker using the original payment method or original Easy Jet account, as applicable. If the original payment method or account is no longer available, Easy Jet will refund to an alternative payment method in the Booker’s name. Refunds will normally be made in the original currency in which the Booking was made. Easy Jet's change fees depend on when the change is made and which channel you use to make the change. If you purchase an Easy Jet Flexi fare, some of their change fees are waived. Please see their Fares page for more details.\n",
      "-------------------\n",
      "user: Can I carry a gun on RyanAir?\n",
      "-------------------\n",
      "assistant: No, you cannot carry a gun on Ryanair [ryanair_conditions.pdf-page-11][ryanair_conditions.pdf-page-13]. Firearms and other weapons are prohibited items and are not allowed on board the plane.\n"
     ]
    }
   ],
   "source": [
    "Ask_Your_Knowledge_Base('Can I carry a gun on RyanAir?')"
   ]
  },
  {
   "cell_type": "code",
   "execution_count": null,
   "metadata": {},
   "outputs": [],
   "source": []
  },
  {
   "cell_type": "code",
   "execution_count": null,
   "metadata": {},
   "outputs": [],
   "source": []
  },
  {
   "cell_type": "code",
   "execution_count": null,
   "metadata": {},
   "outputs": [],
   "source": []
  },
  {
   "cell_type": "code",
   "execution_count": null,
   "metadata": {},
   "outputs": [],
   "source": []
  },
  {
   "attachments": {},
   "cell_type": "markdown",
   "metadata": {},
   "source": [
    "#### Old - davinci code"
   ]
  },
  {
   "cell_type": "code",
   "execution_count": 77,
   "metadata": {},
   "outputs": [],
   "source": [
    "# Davinci uses a particular set of tokens to indicate turns in conversations\n",
    "prompt_prefix = \"\"\"<|im_start|>system\n",
    "Assistant helps people answer questions about a wide variety of documents. \n",
    "Answer ONLY with the facts listed in the list of sources below. If there isn't enough information below, say you don't know. Do not generate answers that don't use the sources below. If asking a clarifying question to the user would help, ask the question. \n",
    "Each source has a name followed by colon and the actual information, always include the source name for each fact you use in the response. Use square brackets to reference the source, e.g. [info1.txt]. Don't combine sources, list each source separately, e.g. [info1.txt][info2.pdf].\n",
    "\n",
    "Sources:\n",
    "{sources}\n",
    "\n",
    "<|im_end|>\"\"\"\n",
    "\n",
    "turn_prefix = \"\"\"\n",
    "<|im_start|>user\n",
    "\"\"\"\n",
    "\n",
    "turn_suffix = \"\"\"\n",
    "<|im_end|>\n",
    "<|im_start|>assistant\n",
    "\"\"\"\n",
    "\n",
    "prompt_history = turn_prefix\n",
    "\n",
    "history = []\n",
    "\n",
    "summary_prompt_template = \"\"\"Below is a summary of the conversation so far, and a new question asked by the user that needs to be answered by searching in a knowledge base. \n",
    "Generate a search query based on the conversation and the new question. \n",
    "Do not include source names, file names in the search query.\n",
    "Pay more attention to the new question, rather than the summary.\n",
    "\n",
    "Summary:\n",
    "{summary}\n",
    "\n",
    "Question:\n",
    "{question}\n",
    "\n",
    "Search query:\n",
    "\"\"\""
   ]
  },
  {
   "cell_type": "code",
   "execution_count": 80,
   "metadata": {},
   "outputs": [
    {
     "name": "stdout",
     "output_type": "stream",
     "text": [
      "Searching: What is EasyJet's cancellation policy?\n",
      "-------------------\n",
      "user: What is RyanAir's cancellation policy?\n",
      "-------------------\n",
      "assistant: According to [ryanair_conditions.pdf-page-16], if your flight is cancelled or delayed by two hours or more, RyanAir will give you information on your rights, including your rights to compensation and assistance. If we do not let you board the plane for a flight you have booked (as set out in the booking confirmation or itinerary) because a space is no longer available, we will compensate you in line with any relevant law that applies. We will give you information about your rights in these circumstances, particularly your rights relating to practical help and compensation. If an immediate family member who is not travelling with you dies within 28 days of your booked flight, you may claim a refund equal to the fare you paid for the particular flight (or flights) you don't take as a result, plus any associated taxes, fees and charges that you paid. You must make your claim before the date of the flight and provide a copy of the death certificate. \n",
      "\n",
      "-------------------\n",
      "user: What is WizzAir's cancellation policy?\n",
      "-------------------\n",
      "assistant: According to [wizzair_conditions.pdf-page-18], if after you make your booking, but before the scheduled departure time of your flight WizzAir cancels your flight or changes the scheduled departure time and (i) the change and/or the offered new flight is unacceptable to you, and (ii) WizzAir is unable to book you on an alternative flight which is acceptable to you, then upon contacting their Call Centre, you may choose from the following options: \n",
      "\n",
      "6.3.2.1. WizzAir re-book you on another flight operated by them on the same or – if necessary – a comparable route, within 14 days before or 30 days after the scheduled date of departure of the delayed/cancelled flight, subject to availability of seats; or \n",
      "\n",
      "6.3.2.2. You may cancel your booking and request a refund in credit on your “customer account” for the cancelled flight and for the return sector, if applicable; or \n",
      "\n",
      "6.3.2.3. You may cancel your booking and request the refund of the Total Fare paid for the cancelled flight and, if applicable, for the return sector. \n",
      "\n",
      "6.3.2.4. If, after selecting an option from 6.3.2.1 – 6.3.2.3, you wish to change your choice, you may do so according to the general rules in these Terms, and by paying the relevant fee. \n",
      "\n",
      "6.3.2.5. Please note that in relation to Additional Services and Other Services, in case of cancellation, the cancellation and refund policy of the third-party provider shall apply where applicable.\n",
      "-------------------\n",
      "user: What is EasyJet's cancellation policy?\n",
      "-------------------\n",
      "assistant: According to [easyjet_conditions.pdf-page-5], if you cancel your booking in full within 24 hours of making the booking, easyJet will give you a full refund minus the Cancellation Fee listed in their Fees and Charges. You can make this cancellation online or by calling their Customer Services team. If you booked through an Agent, you must ask them to do this for you. \n",
      "\n",
      "However, please note that you are unable to cancel your booking less than 2 hours before the scheduled departure time of the first flight (even if within 24 hours of making the booking). \n",
      "\n",
      "If you need to cancel due to a serious or terminal illness, you are required to complete and submit a Medical Declaration document. Please see their Manage Your Booking area for more details and conditions. Their team will review your case and if your circumstances qualify they may, in their discretion, offer you a refund or flight voucher towards the value of a subsequent flight, to be used within six months. \n",
      "\n",
      "If you need to cancel due to a family bereavement, please contact their Customer Services Team as soon as you can. Their team will review your case and if your circumstances qualify they may, in their discretion, offer you a refund, fee waiver to change your flight or flight voucher towards the value of a subsequent flight, to be used within six months. You may be asked to provide proof of these special circumstances.\n",
      "\n",
      "-------------------\n",
      "Prompt:\n",
      "<|im_start|>system\n",
      "Assistant helps people answer questions about a wide variety of documents. \n",
      "Answer ONLY with the facts listed in the list of sources below. If there isn't enough information below, say you don't know. Do not generate answers that don't use the sources below. If asking a clarifying question to the user would help, ask the question. \n",
      "Each source has a name followed by colon and the actual information, always include the source name for each fact you use in the response. Use square brackets to reference the source, e.g. [info1.txt]. Don't combine sources, list each source separately, e.g. [info1.txt][info2.pdf].\n",
      "\n",
      "Sources:\n",
      "easyjet_conditions.pdf-page-5: easyjet_conditions.pdf --- 6/11/23, 12:23 AM Terms and Conditions | easyJethttps://www .easyjet.com/en/terms-and-conditions 6/354.10 W e may pr ocess your  paymen t otherwise than in r eal time. If paymen t fails or  is r ev ersedfor  any r eason after  you hav e made a Booking, we may need to con tact the Booker  tor equest that paymen t is completed. If we do not r eceiv e paymen t in full either  within 21days fr om the time of Booking or  at least six hours prior  to your  ﬂight (whichev er  issooner), we may cancel your  Booking.R esiden ts of Balearic Islands, Canary Islands, Ceuta and Melilla4.11 R esiden ts of the Balearic Islands, Canary Islands and cities of Ceuta and Melilla may been titled to discoun ts on certain ﬂights. Please see our  R esiden t and L arge F amilyDiscoun ts  page for  mor e details.5 .R efunds5.1 Our  far es and fees ar e non-r efundable, so if you cancel, miss, or  do not take your  ﬂight youwill not r eceiv e a r efund, except as stated in these T erms.Cancellations within 24 hours of making the Booking5.2 If you cancel your  Booking in full within 24 hours of making the Booking, we will giv e you afull r efund minus the Cancellation F ee listed in our  F ees and Charges . Y ou can make thiscancellation online or  by calling our  Customer  Services team. If you booked thr ough anAgen t, you must ask them to do this for  you.5.2.1 Howev er, please note that you ar e unable to cancel your  Booking less than 2 hoursbefor e the scheduled departur e time of the ﬁrst ﬂight (ev en if within 24 hours ofmaking the Booking).Cancellations due to serious illness or  family ber eav emen t5.3 If you need to cancel:5.3.1 due to a serious or  terminal illness: you ar e r equir ed to complete and submit aMedical Declar ation documen t . Please see our  Manage Y our  Booking  ar ea for  mor edetails and conditions. Our  team will r eview your  case and if your  cir cumstancesqualify we may, in our  discr etion, offer  you a r efund or  ﬂight voucher  towar ds thevalue of a subsequen t ﬂight, to be used within six mon ths;5.3.2 due to a family ber eav emen t: please con tact our  Customer  Services T eam as soonas you can. Our  team will r eview your  case and if your  cir cumstances qualify wemay, in our  discr etion, offer  you a r efund, fee waiv er  to change your  ﬂight or  ﬂightvoucher  towar ds the value of a subsequen t ﬂight, to be used within six mon ths.Y ou may be asked to pr ovide pr oof of these special cir cumstances.Sign in\n",
      "wizzair_conditions.pdf-page-18: wizzair_conditions.pdf --- 19  6.3.2.  Except as otherwise provided by the Convention or Regulation 26 1, or any applicable regulation that may apply from time to  time,  if after You make Your booking, but before the scheduled departure time of Your flight We cancel your flight or change the scheduled departure time and (i) the change and/or the offered new flight is unacceptable to you, and (ii) we are unable to bo ok you on an alternative flight which is acceptable to You, then upon contacting Our Call Centre, You may choose from the following options:   6.3.2.1.  We re -book You on another flight operated by Us on the same or – if necessary – a comparable route, within 14 days  before or 30 days after the scheduled date of departure of the delayed/cancelled flight, subject to availability of seats; or   6.3.2.2.  You may cancel Your Booking and request a refund in credit on Your “customer account” for the cancelled flight and for the retur n sector, if applicable; or   6.3.2.3.  You may cancel Your Booking and request the refund of the Total Fare paid for the cancelled flight and, if applicable, for the return sector.   6.3.2.4.  If, after selecting an option from 6.3.2.1 – 6.3.2.3, You wish to change Your choic e, You may do so according to the general rules in these Terms, and by paying the relevant fee.   6.3.2.5.  Please note that in relation to Additional  Services and Other Services, in case of cancellation, the cancellation and refund policy of the third -party provider shall apply where applicable.   6.4. Amendment of the Contract of Carriage by You   6.4.1.  You may cancel Your Booking  up to the fourteenth day prior to  the scheduled time of departure of Your flight. You will be entitled to a refund of the Total Fare after deduction of the Cancellation Fee.   6.4.2.  If You cancel Your Booking  within fourteen days prior to the scheduled time of departure of Your flight, You will be refunded the amount of the Total Fare after deduction of the Fee for Other Services and the Seat Protection Fee.   6.4.3.  You can change your flight to another available Wizz Air flight if you pay the associated Service Fee plus the fare difference, if any, for  your new flight. This is calculated when you make the change. If the new fare is lower than the original \n",
      "easyjet_conditions.pdf-page-1: easyjet_conditions.pdf --- 6/11/23, 12:23 AM Terms and Conditions | easyJethttps://www .easyjet.com/en/terms-and-conditions 2/352 .Flying with easy Jet2.1 When you book a ﬂight with us, your  Booking and con tr act is with easy Jet Airline CompanyLimited. Y our  ﬂight will howev er  be oper ated by one of the thr ee oper ating airlines in ourgr oup set out below, all of which offer  the same easy Jet service on boar d and thr oughoutyour  journey. All ﬂights ar e gov erned by these T erms.2.2 If your  ﬂight number  begins with:2.2.1 EZY , your  ﬂight will normally be oper ated by easy Jet UK Limited, whose r egister edofﬁce is at Hangar  89, L ondon L uton Airport, Bedfor dshir e, UK, L U2 9PF (V A T  no.GB 302620751);2.2.2 EJU, your  ﬂight will normally be oper ated by easy Jet E ur ope Airline GmbH, whoser egister ed ofﬁce is at W agr amer  Str aße 19, 1220 Vienne, Austria, (V A T  no. A TU72316013); and2.2.3 EZ S, your  ﬂight will normally be oper ated by easy Jet S witzerland S.A, whoser egister ed ofﬁce is at 5 r oute de l’Aer oport, 1215 Geneva 15, S witzerland (V A T  no.CH 106.034.481).2.3 If for  any r eason the air  carrier  oper ating your  ﬂight is not one of the abov e companies,then we will let you know as soon as we can. Such carriage will still be gov erned by theseT erms.2.4 W e’ll show any updates to your  oper ating airline in the Flight T r acker  tool on our  W ebsiteand our  App.3 .BookingsMaking a Booking3.1 All Bookings must be made by someone ov er  the age of 18.3.2 Flights can be booked dir ectly with us thr ough the W ebsite, our  App, by phoning ourCustomer  Services T eam or  with our  Gr ound Cr ew at bag dr op at the airport (wher eavailable).Sign in\n",
      "\n",
      "<|im_end|>\n",
      "<|im_start|>user\n",
      "What is RyanAir's cancellation policy?\n",
      "<|im_end|>\n",
      "<|im_start|>assistant\n",
      "According to [ryanair_conditions.pdf-page-16], if your flight is cancelled or delayed by two hours or more, RyanAir will give you information on your rights, including your rights to compensation and assistance. If we do not let you board the plane for a flight you have booked (as set out in the booking confirmation or itinerary) because a space is no longer available, we will compensate you in line with any relevant law that applies. We will give you information about your rights in these circumstances, particularly your rights relating to practical help and compensation. If an immediate family member who is not travelling with you dies within 28 days of your booked flight, you may claim a refund equal to the fare you paid for the particular flight (or flights) you don't take as a result, plus any associated taxes, fees and charges that you paid. You must make your claim before the date of the flight and provide a copy of the death certificate. \n",
      "\n",
      "<|im_end|>\n",
      "<|im_start|>user\n",
      "What is WizzAir's cancellation policy?\n",
      "<|im_end|>\n",
      "<|im_start|>assistant\n",
      "According to [wizzair_conditions.pdf-page-18], if after you make your booking, but before the scheduled departure time of your flight WizzAir cancels your flight or changes the scheduled departure time and (i) the change and/or the offered new flight is unacceptable to you, and (ii) WizzAir is unable to book you on an alternative flight which is acceptable to you, then upon contacting their Call Centre, you may choose from the following options: \n",
      "\n",
      "6.3.2.1. WizzAir re-book you on another flight operated by them on the same or – if necessary – a comparable route, within 14 days before or 30 days after the scheduled date of departure of the delayed/cancelled flight, subject to availability of seats; or \n",
      "\n",
      "6.3.2.2. You may cancel your booking and request a refund in credit on your “customer account” for the cancelled flight and for the return sector, if applicable; or \n",
      "\n",
      "6.3.2.3. You may cancel your booking and request the refund of the Total Fare paid for the cancelled flight and, if applicable, for the return sector. \n",
      "\n",
      "6.3.2.4. If, after selecting an option from 6.3.2.1 – 6.3.2.3, you wish to change your choice, you may do so according to the general rules in these Terms, and by paying the relevant fee. \n",
      "\n",
      "6.3.2.5. Please note that in relation to Additional Services and Other Services, in case of cancellation, the cancellation and refund policy of the third-party provider shall apply where applicable.\n",
      "<|im_end|>\n",
      "<|im_start|>user\n",
      "What is EasyJet's cancellation policy?\n",
      "<|im_end|>\n",
      "<|im_start|>assistant\n",
      "\n"
     ]
    }
   ],
   "source": [
    "# Execute this cell multiple times updating user_input to accumulate chat history\n",
    "user_input = \"What is RyanAir's cancellation policy?\"\n",
    "user_input = \"What is WizzAir's cancellation policy?\"\n",
    "user_input = \"What is EasyJet's cancellation policy?\"\n",
    "\n",
    "#embed user input for relevancy search\n",
    "query_embedded = embeddings.embed_query(user_input)\n",
    "\n",
    "\n",
    "# Exclude category, to simulate scenarios where there's a set of docs you can't see\n",
    "#exclude_category = None\n",
    "\n",
    "#if len(history) > 0:\n",
    "#    completion = openai.Completion.create(\n",
    "#        engine='text-davinci-003',\n",
    "#        prompt=summary_prompt_template.format(summary=\"\\n\".join(history), question=user_input),\n",
    "#        temperature=0.7,\n",
    "#        max_tokens=32,\n",
    "#        stop=[\"\\n\"])\n",
    "#    search = completion.choices[0].text\n",
    "#else:\n",
    "#    search = user_input\n",
    "\n",
    "search = user_input\n",
    "\n",
    "# Alternatively simply use search_client.search(q, top=3) if not using semantic search\n",
    "print(\"Searching:\", search)\n",
    "print(\"-------------------\")\n",
    "\n",
    "\n",
    "sim_docs = db.max_marginal_relevance_search_by_vector(query_embedded, k = 3)\n",
    "\n",
    "results = [doc.metadata['source'].split(\"\\\\\")[-1] + \"-page-\" + str(doc.metadata['page'] )+ \": \" + doc.page_content.replace(\"\\n\", \"\").replace(\"\\r\", \"\") for doc in sim_docs]\n",
    "content = \"\\n\".join(results)\n",
    "\n",
    "prompt = prompt_prefix.format(sources=content) + prompt_history + user_input + turn_suffix\n",
    "\n",
    "completion = openai.Completion.create(\n",
    "    engine='text-davinci-003', \n",
    "    prompt=prompt, \n",
    "    temperature=0.0, \n",
    "    max_tokens=1024,\n",
    "    stop=[\"<|im_end|>\", \"<|im_start|>\"])\n",
    "\n",
    "prompt_history += user_input + turn_suffix + completion.choices[0].text + \"\\n<|im_end|>\" + turn_prefix\n",
    "history.append(\"user: \" + user_input)\n",
    "history.append(\"assistant: \" + completion.choices[0].text)\n",
    "\n",
    "print(\"\\n-------------------\\n\".join(history))\n",
    "print(\"\\n-------------------\\nPrompt:\\n\" + prompt)"
   ]
  },
  {
   "cell_type": "code",
   "execution_count": null,
   "metadata": {},
   "outputs": [],
   "source": []
  },
  {
   "attachments": {},
   "cell_type": "markdown",
   "metadata": {},
   "source": [
    "### LlamaIndex on documents"
   ]
  },
  {
   "cell_type": "code",
   "execution_count": null,
   "metadata": {},
   "outputs": [],
   "source": [
    "# load docs and build index\n",
    "\n",
    "documents = SimpleDirectoryReader('../docs/docs_to_index/').load_data()\n",
    "index = VectorStoreIndex.from_documents(documents)"
   ]
  },
  {
   "cell_type": "code",
   "execution_count": null,
   "metadata": {},
   "outputs": [],
   "source": [
    "# persist on computer\n",
    "index.storage_context.persist(persist_dir=\"../docs/docs_to_index_vectorDB/\")\n",
    "\n",
    "# rebuild storage context\n",
    "#storage_context = StorageContext.from_defaults(persist_dir=\"<persist_dir>\")\n",
    "\n",
    "# load index\n",
    "#index = load_index_from_storage(storage_context)"
   ]
  },
  {
   "cell_type": "code",
   "execution_count": null,
   "metadata": {},
   "outputs": [],
   "source": [
    "# check nodes\n",
    "\n",
    "parser = SimpleNodeParser()\n",
    "nodes = parser.get_nodes_from_documents(documents)"
   ]
  },
  {
   "cell_type": "code",
   "execution_count": null,
   "metadata": {},
   "outputs": [],
   "source": [
    "# query index\n",
    "\n",
    "query_engine = index.as_query_engine()\n",
    "response = query_engine.query(\"Who are company representatives?\")"
   ]
  },
  {
   "cell_type": "code",
   "execution_count": null,
   "metadata": {},
   "outputs": [
    {
     "data": {
      "text/plain": [
       "{'e8e24678-1ea5-45e7-a108-2b822e220ad2': {'page_label': '7',\n",
       "  'file_name': 'Law_Insider_eidos-therapeutics-inc_contract_Filed_23-03-2018_Contract.pdf'},\n",
       " 'a7c216ee-a8ce-421f-8464-9d2d181b4045': {'page_label': '8',\n",
       "  'file_name': 'Law_Insider_eidos-therapeutics-inc_contract_Filed_23-03-2018_Contract.pdf'}}"
      ]
     },
     "metadata": {},
     "output_type": "display_data"
    }
   ],
   "source": [
    "response.extra_info"
   ]
  },
  {
   "cell_type": "code",
   "execution_count": null,
   "metadata": {},
   "outputs": [
    {
     "name": "stdout",
     "output_type": "stream",
     "text": [
      "> Source (Doc id: e8e24678-1ea5-45e7-a108-2b822e220ad2): page_label: 7\n",
      "file_name: Law_Insider_eidos-therapeutics-inc_contract_Filed_23-03-2018_Contract.pd...\n",
      "\n",
      "> Source (Doc id: a7c216ee-a8ce-421f-8464-9d2d181b4045): page_label: 8\n",
      "file_name: Law_Insider_eidos-therapeutics-inc_contract_Filed_23-03-2018_Contract.pd...\n"
     ]
    }
   ],
   "source": [
    "print(response.get_formatted_sources())"
   ]
  },
  {
   "cell_type": "code",
   "execution_count": null,
   "metadata": {},
   "outputs": [
    {
     "data": {
      "text/plain": [
       "[0.7528456148084678, 0.7514728258301441]"
      ]
     },
     "metadata": {},
     "output_type": "display_data"
    }
   ],
   "source": [
    "[i.score for i in response.source_nodes]"
   ]
  },
  {
   "cell_type": "code",
   "execution_count": null,
   "metadata": {},
   "outputs": [
    {
     "name": "stdout",
     "output_type": "stream",
     "text": [
      "\n",
      "Company representatives are Christine Siu, Chief Financial Officer of Eidos Therapeutics, Inc., and Neil Kumar, Chief Executive Officer of BridgeBio Pharma LLC.\n"
     ]
    }
   ],
   "source": [
    "print(response.response)"
   ]
  },
  {
   "cell_type": "code",
   "execution_count": null,
   "metadata": {},
   "outputs": [],
   "source": []
  },
  {
   "attachments": {},
   "cell_type": "markdown",
   "metadata": {},
   "source": [
    "Low level API"
   ]
  },
  {
   "cell_type": "code",
   "execution_count": null,
   "metadata": {},
   "outputs": [
    {
     "name": "stdout",
     "output_type": "stream",
     "text": [
      "\n",
      "Company representatives are Christine Siu (Chief Financial Officer) and Neil Kumar (Chief Executive Officer).\n"
     ]
    }
   ],
   "source": [
    "# configure retriever\n",
    "retriever = VectorIndexRetriever(\n",
    "    index=index, \n",
    "    similarity_top_k=3,\n",
    "    retriever_mode = 'embedding' # default\n",
    ")\n",
    "\n",
    "# configure response synthesizer\n",
    "response_synthesizer = ResponseSynthesizer.from_args(\n",
    "    node_postprocessors=[\n",
    "        SimilarityPostprocessor(similarity_cutoff=0.6)\n",
    "    ]\n",
    ")\n",
    "\n",
    "# assemble query engine\n",
    "query_engine = RetrieverQueryEngine(\n",
    "    retriever=retriever,\n",
    "    response_synthesizer=response_synthesizer,\n",
    ")\n",
    "\n",
    "# query\n",
    "response = query_engine.query(\"Who are company representatives?\")\n",
    "print(response)"
   ]
  },
  {
   "cell_type": "code",
   "execution_count": null,
   "metadata": {},
   "outputs": [
    {
     "data": {
      "text/plain": [
       "[0.7528456148084678, 0.7514728258301441, 0.7402034007180792]"
      ]
     },
     "metadata": {},
     "output_type": "display_data"
    }
   ],
   "source": [
    "[i.score for i in response.source_nodes]"
   ]
  },
  {
   "cell_type": "code",
   "execution_count": null,
   "metadata": {},
   "outputs": [],
   "source": [
    "retriever = VectorIndexRetriever(\n",
    "    index=index, \n",
    "    similarity_top_k=3,\n",
    "    retriever_mode = 'embedding' # default\n",
    ")"
   ]
  }
 ],
 "metadata": {
  "kernelspec": {
   "display_name": "Python 3 (ipykernel)",
   "language": "python",
   "name": "python3"
  },
  "language_info": {
   "codemirror_mode": {
    "name": "ipython",
    "version": 3
   },
   "file_extension": ".py",
   "mimetype": "text/x-python",
   "name": "python",
   "nbconvert_exporter": "python",
   "pygments_lexer": "ipython3",
   "version": "3.9.7"
  }
 },
 "nbformat": 4,
 "nbformat_minor": 2
}
