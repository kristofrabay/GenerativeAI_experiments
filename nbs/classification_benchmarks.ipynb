{
 "cells": [
  {
   "attachments": {},
   "cell_type": "markdown",
   "metadata": {},
   "source": [
    "## Classification benchmarks: `ZSL`, `Finetuned BERT`, `Unprompted GPT`, `Prompted GPT` and `Finetuned GPT` \n",
    "\n",
    "GPT models can also be used for classification tasks. Here I'm putting together a classification benchmark by comparing a ZSL, a finetuned BERT and finetuned / prompted GPT models to see how they perform. I'll try to leverage transfer learning only, meaning I won't be training models (except for GPT SFT)\n",
    "\n",
    "OpenAI docs: \n",
    "- https://platform.openai.com/docs/guides/fine-tuning\n",
    "- https://platform.openai.com/docs/guides/fine-tuning/advanced-usage\n",
    "- https://github.com/openai/openai-cookbook/blob/main/examples/Fine-tuned_classification.ipynb"
   ]
  },
  {
   "cell_type": "code",
   "execution_count": 58,
   "metadata": {},
   "outputs": [],
   "source": [
    "import credentials\n",
    "import json\n",
    "import numpy as np\n",
    "import os\n",
    "os.environ[\"OPENAI_API_KEY\"] = credentials.openai_api\n",
    "\n",
    "import openai\n",
    "\n",
    "from langchain.llms import OpenAI\n",
    "from langchain.chat_models import ChatOpenAI\n",
    "from langchain import LLMChain\n",
    "from langchain.prompts import PromptTemplate\n",
    "from langchain.prompts.few_shot import FewShotPromptTemplate\n",
    "\n",
    "from transformers import pipeline, AutoTokenizer\n",
    "from datasets import load_dataset\n",
    "\n",
    "from sklearn.metrics import classification_report, confusion_matrix\n",
    "\n",
    "import pandas as pd\n",
    "import warnings\n",
    "warnings.filterwarnings('ignore')"
   ]
  },
  {
   "attachments": {},
   "cell_type": "markdown",
   "metadata": {},
   "source": [
    "Load Sentiment dataset from HuggingFace"
   ]
  },
  {
   "cell_type": "code",
   "execution_count": 94,
   "metadata": {},
   "outputs": [
    {
     "name": "stderr",
     "output_type": "stream",
     "text": [
      "Found cached dataset amazon_reviews_multi (C:/Users/Rabay_Kristof/.cache/huggingface/datasets/amazon_reviews_multi/en/1.0.0/724e94f4b0c6c405ce7e476a6c5ef4f87db30799ad49f765094cf9770e0f7609)\n"
     ]
    }
   ],
   "source": [
    "data = load_dataset('amazon_reviews_multi', 'en', split = 'validation',)"
   ]
  },
  {
   "cell_type": "code",
   "execution_count": 95,
   "metadata": {},
   "outputs": [
    {
     "name": "stdout",
     "output_type": "stream",
     "text": [
      "(500, 2)\n"
     ]
    },
    {
     "data": {
      "text/html": [
       "<div>\n",
       "<style scoped>\n",
       "    .dataframe tbody tr th:only-of-type {\n",
       "        vertical-align: middle;\n",
       "    }\n",
       "\n",
       "    .dataframe tbody tr th {\n",
       "        vertical-align: top;\n",
       "    }\n",
       "\n",
       "    .dataframe thead th {\n",
       "        text-align: right;\n",
       "    }\n",
       "</style>\n",
       "<table border=\"1\" class=\"dataframe\">\n",
       "  <thead>\n",
       "    <tr style=\"text-align: right;\">\n",
       "      <th></th>\n",
       "      <th>review</th>\n",
       "      <th>sentiment</th>\n",
       "    </tr>\n",
       "  </thead>\n",
       "  <tbody>\n",
       "    <tr>\n",
       "      <th>0</th>\n",
       "      <td>Needed cupcake rings, ended up with breast mil...</td>\n",
       "      <td>negative</td>\n",
       "    </tr>\n",
       "    <tr>\n",
       "      <th>1</th>\n",
       "      <td>One Star. This is the band I received.</td>\n",
       "      <td>negative</td>\n",
       "    </tr>\n",
       "    <tr>\n",
       "      <th>2</th>\n",
       "      <td>Good washer. Great product especially if you l...</td>\n",
       "      <td>positive</td>\n",
       "    </tr>\n",
       "  </tbody>\n",
       "</table>\n",
       "</div>"
      ],
      "text/plain": [
       "                                              review sentiment\n",
       "0  Needed cupcake rings, ended up with breast mil...  negative\n",
       "1             One Star. This is the band I received.  negative\n",
       "2  Good washer. Great product especially if you l...  positive"
      ]
     },
     "execution_count": 95,
     "metadata": {},
     "output_type": "execute_result"
    }
   ],
   "source": [
    "data = pd.DataFrame(data)\n",
    "\n",
    "data['review'] = data.apply(lambda x: x['review_title'] + '. ' + x['review_body'], axis = 1)\n",
    "\n",
    "data = data[data['stars'] != 3]\n",
    "data['sentiment'] = data['stars'].apply(lambda x: 'positive' if x >= 4 else 'negative')\n",
    "\n",
    "data.drop(labels = ['review_id', 'product_id', 'reviewer_id', 'language', 'review_title', 'review_body', 'stars', 'product_category'], axis = 1, inplace = True)\n",
    "data = data.sample(frac = 0.125, random_state=43)\n",
    "data.reset_index(drop = True, inplace = True)\n",
    "\n",
    "print(data.shape)\n",
    "data.head(3)"
   ]
  },
  {
   "cell_type": "code",
   "execution_count": null,
   "metadata": {},
   "outputs": [],
   "source": []
  },
  {
   "attachments": {},
   "cell_type": "markdown",
   "metadata": {},
   "source": [
    "### 1. Zero-Shot-Classifier\n",
    "\n",
    "Model: `MoritzLaurer/DeBERTa-v3-xsmall-mnli-fever-anli-ling-binary`"
   ]
  },
  {
   "cell_type": "code",
   "execution_count": 8,
   "metadata": {},
   "outputs": [],
   "source": [
    "model_name = \"MoritzLaurer/DeBERTa-v3-xsmall-mnli-fever-anli-ling-binary\"\n",
    "tokenizer = AutoTokenizer.from_pretrained(model_name)\n",
    "\n",
    "classifier = pipeline(\"zero-shot-classification\", model=model_name, tokenizer=tokenizer, use_fast=False)"
   ]
  },
  {
   "cell_type": "code",
   "execution_count": 61,
   "metadata": {},
   "outputs": [],
   "source": [
    "candidate_labels = ['positive', 'negative']\n",
    "sequence_to_classify = data['review'].tolist()"
   ]
  },
  {
   "cell_type": "code",
   "execution_count": 24,
   "metadata": {},
   "outputs": [
    {
     "name": "stdout",
     "output_type": "stream",
     "text": [
      "CPU times: total: 6min 15s\n",
      "Wall time: 1min 38s\n"
     ]
    }
   ],
   "source": [
    "%%time\n",
    "ZSL_output = classifier(sequence_to_classify, candidate_labels, multi_label=False)"
   ]
  },
  {
   "cell_type": "code",
   "execution_count": 26,
   "metadata": {},
   "outputs": [
    {
     "data": {
      "text/plain": [
       "{'sequence': 'Needed cupcake rings, ended up with breast milk steam bags- very unhappy. If I could give this 0 stars I would. It’s not at all what we ordered. Needed these cupcake rings for my daughters birthday party tomorrow and instead I am left with breast pump and breast milk accessory micro steam bags. Wtf.',\n",
       " 'labels': ['negative', 'positive'],\n",
       " 'scores': [0.9748134016990662, 0.02518662065267563]}"
      ]
     },
     "execution_count": 26,
     "metadata": {},
     "output_type": "execute_result"
    }
   ],
   "source": [
    "ZSL_output[0]"
   ]
  },
  {
   "cell_type": "code",
   "execution_count": 27,
   "metadata": {},
   "outputs": [],
   "source": [
    "for i in ZSL_output:\n",
    "    i['labels'] = i['labels'][0]\n",
    "    i['scores'] = i['scores'][0]"
   ]
  },
  {
   "cell_type": "code",
   "execution_count": 34,
   "metadata": {},
   "outputs": [
    {
     "data": {
      "text/html": [
       "<div>\n",
       "<style scoped>\n",
       "    .dataframe tbody tr th:only-of-type {\n",
       "        vertical-align: middle;\n",
       "    }\n",
       "\n",
       "    .dataframe tbody tr th {\n",
       "        vertical-align: top;\n",
       "    }\n",
       "\n",
       "    .dataframe thead th {\n",
       "        text-align: right;\n",
       "    }\n",
       "</style>\n",
       "<table border=\"1\" class=\"dataframe\">\n",
       "  <thead>\n",
       "    <tr style=\"text-align: right;\">\n",
       "      <th></th>\n",
       "      <th>review</th>\n",
       "      <th>sentiment</th>\n",
       "      <th>labels</th>\n",
       "      <th>scores</th>\n",
       "    </tr>\n",
       "  </thead>\n",
       "  <tbody>\n",
       "    <tr>\n",
       "      <th>0</th>\n",
       "      <td>Needed cupcake rings, ended up with breast mil...</td>\n",
       "      <td>negative</td>\n",
       "      <td>negative</td>\n",
       "      <td>0.974813</td>\n",
       "    </tr>\n",
       "    <tr>\n",
       "      <th>1</th>\n",
       "      <td>One Star. This is the band I received.</td>\n",
       "      <td>negative</td>\n",
       "      <td>positive</td>\n",
       "      <td>0.885268</td>\n",
       "    </tr>\n",
       "    <tr>\n",
       "      <th>2</th>\n",
       "      <td>Good washer. Great product especially if you l...</td>\n",
       "      <td>positive</td>\n",
       "      <td>positive</td>\n",
       "      <td>0.738286</td>\n",
       "    </tr>\n",
       "  </tbody>\n",
       "</table>\n",
       "</div>"
      ],
      "text/plain": [
       "                                              review sentiment    labels   \n",
       "0  Needed cupcake rings, ended up with breast mil...  negative  negative  \\\n",
       "1             One Star. This is the band I received.  negative  positive   \n",
       "2  Good washer. Great product especially if you l...  positive  positive   \n",
       "\n",
       "     scores  \n",
       "0  0.974813  \n",
       "1  0.885268  \n",
       "2  0.738286  "
      ]
     },
     "execution_count": 34,
     "metadata": {},
     "output_type": "execute_result"
    }
   ],
   "source": [
    "ZSL_output = pd.DataFrame(ZSL_output)\n",
    "\n",
    "ZSL_results = data.merge(ZSL_output, left_on = 'review', right_on = 'sequence').drop(labels = ['sequence'], axis = 1)\n",
    "ZSL_results.head(3)"
   ]
  },
  {
   "cell_type": "code",
   "execution_count": 37,
   "metadata": {},
   "outputs": [
    {
     "name": "stdout",
     "output_type": "stream",
     "text": [
      "              precision    recall  f1-score   support\n",
      "\n",
      "    negative       0.92      0.87      0.89       253\n",
      "    positive       0.87      0.92      0.89       247\n",
      "\n",
      "    accuracy                           0.89       500\n",
      "   macro avg       0.89      0.89      0.89       500\n",
      "weighted avg       0.89      0.89      0.89       500\n",
      "\n"
     ]
    }
   ],
   "source": [
    "print(classification_report(ZSL_results['sentiment'], ZSL_results['labels']))"
   ]
  },
  {
   "cell_type": "code",
   "execution_count": 50,
   "metadata": {},
   "outputs": [
    {
     "data": {
      "text/html": [
       "<div>\n",
       "<style scoped>\n",
       "    .dataframe tbody tr th:only-of-type {\n",
       "        vertical-align: middle;\n",
       "    }\n",
       "\n",
       "    .dataframe tbody tr th {\n",
       "        vertical-align: top;\n",
       "    }\n",
       "\n",
       "    .dataframe thead th {\n",
       "        text-align: right;\n",
       "    }\n",
       "</style>\n",
       "<table border=\"1\" class=\"dataframe\">\n",
       "  <thead>\n",
       "    <tr style=\"text-align: right;\">\n",
       "      <th></th>\n",
       "      <th>Pred - Neg</th>\n",
       "      <th>Pred - Pos</th>\n",
       "    </tr>\n",
       "  </thead>\n",
       "  <tbody>\n",
       "    <tr>\n",
       "      <th>True - Neg</th>\n",
       "      <td>219</td>\n",
       "      <td>34</td>\n",
       "    </tr>\n",
       "    <tr>\n",
       "      <th>True - Pos</th>\n",
       "      <td>20</td>\n",
       "      <td>227</td>\n",
       "    </tr>\n",
       "  </tbody>\n",
       "</table>\n",
       "</div>"
      ],
      "text/plain": [
       "            Pred - Neg  Pred - Pos\n",
       "True - Neg         219          34\n",
       "True - Pos          20         227"
      ]
     },
     "execution_count": 50,
     "metadata": {},
     "output_type": "execute_result"
    }
   ],
   "source": [
    "pd.DataFrame(confusion_matrix(ZSL_results['sentiment'], ZSL_results['labels'], labels = ['negative', 'positive']),\n",
    "             columns = ['Pred - Neg', 'Pred - Pos'], \n",
    "             index=['True - Neg', 'True - Pos'])"
   ]
  },
  {
   "cell_type": "code",
   "execution_count": null,
   "metadata": {},
   "outputs": [],
   "source": []
  },
  {
   "attachments": {},
   "cell_type": "markdown",
   "metadata": {},
   "source": [
    "### 2. FineTuned BERT\n",
    "\n",
    "Model: `nlptown/bert-base-multilingual-uncased-sentiment`"
   ]
  },
  {
   "cell_type": "code",
   "execution_count": 68,
   "metadata": {},
   "outputs": [
    {
     "data": {
      "application/vnd.jupyter.widget-view+json": {
       "model_id": "a372c96b4d2847779f8050986eaefbfc",
       "version_major": 2,
       "version_minor": 0
      },
      "text/plain": [
       "Downloading (…)lve/main/config.json:   0%|          | 0.00/953 [00:00<?, ?B/s]"
      ]
     },
     "metadata": {},
     "output_type": "display_data"
    },
    {
     "data": {
      "application/vnd.jupyter.widget-view+json": {
       "model_id": "48b632b5a4284c41bc2fa302c9933365",
       "version_major": 2,
       "version_minor": 0
      },
      "text/plain": [
       "Downloading pytorch_model.bin:   0%|          | 0.00/669M [00:00<?, ?B/s]"
      ]
     },
     "metadata": {},
     "output_type": "display_data"
    },
    {
     "data": {
      "application/vnd.jupyter.widget-view+json": {
       "model_id": "94dd306c473e4483bbc89721d24989bf",
       "version_major": 2,
       "version_minor": 0
      },
      "text/plain": [
       "Downloading (…)okenizer_config.json:   0%|          | 0.00/39.0 [00:00<?, ?B/s]"
      ]
     },
     "metadata": {},
     "output_type": "display_data"
    },
    {
     "data": {
      "application/vnd.jupyter.widget-view+json": {
       "model_id": "a807cb7488474fb3b4d1bd9b617a2a82",
       "version_major": 2,
       "version_minor": 0
      },
      "text/plain": [
       "Downloading (…)solve/main/vocab.txt:   0%|          | 0.00/872k [00:00<?, ?B/s]"
      ]
     },
     "metadata": {},
     "output_type": "display_data"
    },
    {
     "data": {
      "application/vnd.jupyter.widget-view+json": {
       "model_id": "4603c67cdde54c249d6769047df38a09",
       "version_major": 2,
       "version_minor": 0
      },
      "text/plain": [
       "Downloading (…)cial_tokens_map.json:   0%|          | 0.00/112 [00:00<?, ?B/s]"
      ]
     },
     "metadata": {},
     "output_type": "display_data"
    }
   ],
   "source": [
    "pipe = pipeline(\"text-classification\", model = 'nlptown/bert-base-multilingual-uncased-sentiment', use_fast=False)\n",
    "tokenizer_kwargs = {'padding':True,'truncation':True,'max_length':512}"
   ]
  },
  {
   "cell_type": "code",
   "execution_count": 71,
   "metadata": {},
   "outputs": [
    {
     "name": "stdout",
     "output_type": "stream",
     "text": [
      "CPU times: total: 4min 40s\n",
      "Wall time: 1min 12s\n"
     ]
    }
   ],
   "source": [
    "%%time\n",
    "FT_BERT_output = pipe(sequence_to_classify, **tokenizer_kwargs)"
   ]
  },
  {
   "cell_type": "code",
   "execution_count": 72,
   "metadata": {},
   "outputs": [
    {
     "data": {
      "text/plain": [
       "{'label': '1 star', 'score': 0.9395105838775635}"
      ]
     },
     "execution_count": 72,
     "metadata": {},
     "output_type": "execute_result"
    }
   ],
   "source": [
    "FT_BERT_output[0]"
   ]
  },
  {
   "cell_type": "code",
   "execution_count": 75,
   "metadata": {},
   "outputs": [
    {
     "data": {
      "text/html": [
       "<div>\n",
       "<style scoped>\n",
       "    .dataframe tbody tr th:only-of-type {\n",
       "        vertical-align: middle;\n",
       "    }\n",
       "\n",
       "    .dataframe tbody tr th {\n",
       "        vertical-align: top;\n",
       "    }\n",
       "\n",
       "    .dataframe thead th {\n",
       "        text-align: right;\n",
       "    }\n",
       "</style>\n",
       "<table border=\"1\" class=\"dataframe\">\n",
       "  <thead>\n",
       "    <tr style=\"text-align: right;\">\n",
       "      <th></th>\n",
       "      <th>review</th>\n",
       "      <th>sentiment</th>\n",
       "      <th>label</th>\n",
       "      <th>score</th>\n",
       "    </tr>\n",
       "  </thead>\n",
       "  <tbody>\n",
       "    <tr>\n",
       "      <th>0</th>\n",
       "      <td>Needed cupcake rings, ended up with breast mil...</td>\n",
       "      <td>negative</td>\n",
       "      <td>negative</td>\n",
       "      <td>0.939511</td>\n",
       "    </tr>\n",
       "    <tr>\n",
       "      <th>1</th>\n",
       "      <td>One Star. This is the band I received.</td>\n",
       "      <td>negative</td>\n",
       "      <td>negative</td>\n",
       "      <td>0.993209</td>\n",
       "    </tr>\n",
       "    <tr>\n",
       "      <th>2</th>\n",
       "      <td>Good washer. Great product especially if you l...</td>\n",
       "      <td>positive</td>\n",
       "      <td>positive</td>\n",
       "      <td>0.787920</td>\n",
       "    </tr>\n",
       "  </tbody>\n",
       "</table>\n",
       "</div>"
      ],
      "text/plain": [
       "                                              review sentiment     label   \n",
       "0  Needed cupcake rings, ended up with breast mil...  negative  negative  \\\n",
       "1             One Star. This is the band I received.  negative  negative   \n",
       "2  Good washer. Great product especially if you l...  positive  positive   \n",
       "\n",
       "      score  \n",
       "0  0.939511  \n",
       "1  0.993209  \n",
       "2  0.787920  "
      ]
     },
     "execution_count": 75,
     "metadata": {},
     "output_type": "execute_result"
    }
   ],
   "source": [
    "replacer = {'1 star' : 'negative', \n",
    "            '2 stars' : 'negative',\n",
    "            '3 stars' : 'negative',  \n",
    "            '4 stars' : 'positive',  \n",
    "            '5 stars' : 'positive'}\n",
    "FT_BERT_output = pd.DataFrame(FT_BERT_output).replace(replacer)\n",
    "\n",
    "FT_BERT_results = pd.concat([data, FT_BERT_output], axis = 1)\n",
    "FT_BERT_results.head(3)"
   ]
  },
  {
   "cell_type": "code",
   "execution_count": 76,
   "metadata": {},
   "outputs": [
    {
     "name": "stdout",
     "output_type": "stream",
     "text": [
      "              precision    recall  f1-score   support\n",
      "\n",
      "    negative       0.91      0.97      0.94       253\n",
      "    positive       0.97      0.90      0.93       247\n",
      "\n",
      "    accuracy                           0.94       500\n",
      "   macro avg       0.94      0.94      0.94       500\n",
      "weighted avg       0.94      0.94      0.94       500\n",
      "\n"
     ]
    }
   ],
   "source": [
    "print(classification_report(FT_BERT_results['sentiment'], FT_BERT_results['label']))"
   ]
  },
  {
   "cell_type": "code",
   "execution_count": 77,
   "metadata": {},
   "outputs": [
    {
     "data": {
      "text/html": [
       "<div>\n",
       "<style scoped>\n",
       "    .dataframe tbody tr th:only-of-type {\n",
       "        vertical-align: middle;\n",
       "    }\n",
       "\n",
       "    .dataframe tbody tr th {\n",
       "        vertical-align: top;\n",
       "    }\n",
       "\n",
       "    .dataframe thead th {\n",
       "        text-align: right;\n",
       "    }\n",
       "</style>\n",
       "<table border=\"1\" class=\"dataframe\">\n",
       "  <thead>\n",
       "    <tr style=\"text-align: right;\">\n",
       "      <th></th>\n",
       "      <th>Pred - Neg</th>\n",
       "      <th>Pred - Pos</th>\n",
       "    </tr>\n",
       "  </thead>\n",
       "  <tbody>\n",
       "    <tr>\n",
       "      <th>True - Neg</th>\n",
       "      <td>245</td>\n",
       "      <td>8</td>\n",
       "    </tr>\n",
       "    <tr>\n",
       "      <th>True - Pos</th>\n",
       "      <td>24</td>\n",
       "      <td>223</td>\n",
       "    </tr>\n",
       "  </tbody>\n",
       "</table>\n",
       "</div>"
      ],
      "text/plain": [
       "            Pred - Neg  Pred - Pos\n",
       "True - Neg         245           8\n",
       "True - Pos          24         223"
      ]
     },
     "execution_count": 77,
     "metadata": {},
     "output_type": "execute_result"
    }
   ],
   "source": [
    "pd.DataFrame(confusion_matrix(FT_BERT_results['sentiment'], FT_BERT_results['label'], labels = ['negative', 'positive']),\n",
    "             columns = ['Pred - Neg', 'Pred - Pos'], \n",
    "             index=['True - Neg', 'True - Pos'])"
   ]
  },
  {
   "attachments": {},
   "cell_type": "markdown",
   "metadata": {},
   "source": [
    "A lot less false positives, a little more FNs (but that may be due to 3 stars mapped to negative, while they should really be neutral)"
   ]
  },
  {
   "cell_type": "code",
   "execution_count": null,
   "metadata": {},
   "outputs": [],
   "source": []
  },
  {
   "attachments": {},
   "cell_type": "markdown",
   "metadata": {},
   "source": [
    "### 3. Unprompted `GPT` model\n",
    "\n",
    "Unprompted here refers to 'Zero Shot', meaning to examples are given in the prompt"
   ]
  },
  {
   "cell_type": "code",
   "execution_count": 117,
   "metadata": {},
   "outputs": [],
   "source": [
    "#llm = OpenAI(model_name=\"text-davinci-003\", temperature = 0, max_tokens = 1, top_p = 1.0)\n",
    "llm = ChatOpenAI(model_name=\"gpt-3.5-turbo\", temperature = 0, max_tokens = 1, top_p = 1.0)\n",
    "\n",
    "template = \"\"\"Decide whether a product review's sentiment is positive or negative. Only predict positive or negative.\n",
    "Product review: {review}\n",
    "Sentiment:\"\"\"\n",
    "\n",
    "prompt = PromptTemplate(input_variables=[\"review\"], template=template)\n",
    "\n",
    "chain = LLMChain(llm = llm, prompt = prompt)"
   ]
  },
  {
   "cell_type": "code",
   "execution_count": 118,
   "metadata": {},
   "outputs": [
    {
     "name": "stdout",
     "output_type": "stream",
     "text": [
      "Decide whether a product review's sentiment is positive or negative. Only predict positive or negative.\n",
      "Product review: I hated this TV\n",
      "Sentiment:\n",
      "Negative\n"
     ]
    }
   ],
   "source": [
    "REVIEW = 'I hated this TV'\n",
    "\n",
    "print(prompt.format(review = REVIEW))\n",
    "print(chain.run(REVIEW))"
   ]
  },
  {
   "cell_type": "code",
   "execution_count": 127,
   "metadata": {},
   "outputs": [
    {
     "name": "stderr",
     "output_type": "stream",
     "text": [
      "Retrying langchain.chat_models.openai.ChatOpenAI.completion_with_retry.<locals>._completion_with_retry in 1.0 seconds as it raised RateLimitError: That model is currently overloaded with other requests. You can retry your request, or contact us through our help center at help.openai.com if the error persists. (Please include the request ID dcaa5764183f595f6e9d19190922bc5d in your message.).\n",
      "Retrying langchain.chat_models.openai.ChatOpenAI.completion_with_retry.<locals>._completion_with_retry in 1.0 seconds as it raised RateLimitError: That model is currently overloaded with other requests. You can retry your request, or contact us through our help center at help.openai.com if the error persists. (Please include the request ID ca33f76389e9af6294ef7e870be72bf3 in your message.).\n",
      "Retrying langchain.chat_models.openai.ChatOpenAI.completion_with_retry.<locals>._completion_with_retry in 1.0 seconds as it raised RateLimitError: That model is currently overloaded with other requests. You can retry your request, or contact us through our help center at help.openai.com if the error persists. (Please include the request ID e60bed76fc72472f217d8a2719765817 in your message.).\n",
      "Retrying langchain.chat_models.openai.ChatOpenAI.completion_with_retry.<locals>._completion_with_retry in 1.0 seconds as it raised RateLimitError: That model is currently overloaded with other requests. You can retry your request, or contact us through our help center at help.openai.com if the error persists. (Please include the request ID 3eb1558497b382c9ae674cf2072d01b6 in your message.).\n",
      "Retrying langchain.chat_models.openai.ChatOpenAI.completion_with_retry.<locals>._completion_with_retry in 1.0 seconds as it raised RateLimitError: That model is currently overloaded with other requests. You can retry your request, or contact us through our help center at help.openai.com if the error persists. (Please include the request ID ba8cdb2b42e5b978502eb79c964abc91 in your message.).\n",
      "Retrying langchain.chat_models.openai.ChatOpenAI.completion_with_retry.<locals>._completion_with_retry in 1.0 seconds as it raised RateLimitError: That model is currently overloaded with other requests. You can retry your request, or contact us through our help center at help.openai.com if the error persists. (Please include the request ID 696c4e77a19ab117dec276298b8665cf in your message.).\n",
      "Retrying langchain.chat_models.openai.ChatOpenAI.completion_with_retry.<locals>._completion_with_retry in 1.0 seconds as it raised RateLimitError: That model is currently overloaded with other requests. You can retry your request, or contact us through our help center at help.openai.com if the error persists. (Please include the request ID 95aa080c7bf8e47fa7795736ac9e65be in your message.).\n",
      "Retrying langchain.chat_models.openai.ChatOpenAI.completion_with_retry.<locals>._completion_with_retry in 1.0 seconds as it raised RateLimitError: That model is currently overloaded with other requests. You can retry your request, or contact us through our help center at help.openai.com if the error persists. (Please include the request ID 7766943af5d234827f4d72734fdf1bd9 in your message.).\n",
      "Retrying langchain.chat_models.openai.ChatOpenAI.completion_with_retry.<locals>._completion_with_retry in 1.0 seconds as it raised RateLimitError: That model is currently overloaded with other requests. You can retry your request, or contact us through our help center at help.openai.com if the error persists. (Please include the request ID a0b20d7bae5fdec211b340ad93c2ae4e in your message.).\n",
      "Retrying langchain.chat_models.openai.ChatOpenAI.completion_with_retry.<locals>._completion_with_retry in 1.0 seconds as it raised RateLimitError: That model is currently overloaded with other requests. You can retry your request, or contact us through our help center at help.openai.com if the error persists. (Please include the request ID 8dea628e2213cbd9673fff6b5d9a8360 in your message.).\n",
      "Retrying langchain.chat_models.openai.ChatOpenAI.completion_with_retry.<locals>._completion_with_retry in 1.0 seconds as it raised Timeout: Request timed out: HTTPSConnectionPool(host='api.openai.com', port=443): Read timed out. (read timeout=60).\n"
     ]
    },
    {
     "name": "stdout",
     "output_type": "stream",
     "text": [
      "CPU times: total: 2.11 s\n",
      "Wall time: 10min 59s\n"
     ]
    }
   ],
   "source": [
    "%%time\n",
    "GPT_unprompted_output = [chain.run(i).lower().strip() for i in sequence_to_classify]"
   ]
  },
  {
   "cell_type": "code",
   "execution_count": 129,
   "metadata": {},
   "outputs": [
    {
     "data": {
      "text/html": [
       "<div>\n",
       "<style scoped>\n",
       "    .dataframe tbody tr th:only-of-type {\n",
       "        vertical-align: middle;\n",
       "    }\n",
       "\n",
       "    .dataframe tbody tr th {\n",
       "        vertical-align: top;\n",
       "    }\n",
       "\n",
       "    .dataframe thead th {\n",
       "        text-align: right;\n",
       "    }\n",
       "</style>\n",
       "<table border=\"1\" class=\"dataframe\">\n",
       "  <thead>\n",
       "    <tr style=\"text-align: right;\">\n",
       "      <th></th>\n",
       "      <th>review</th>\n",
       "      <th>sentiment</th>\n",
       "      <th>label</th>\n",
       "    </tr>\n",
       "  </thead>\n",
       "  <tbody>\n",
       "    <tr>\n",
       "      <th>0</th>\n",
       "      <td>Needed cupcake rings, ended up with breast mil...</td>\n",
       "      <td>negative</td>\n",
       "      <td>negative</td>\n",
       "    </tr>\n",
       "    <tr>\n",
       "      <th>1</th>\n",
       "      <td>One Star. This is the band I received.</td>\n",
       "      <td>negative</td>\n",
       "      <td>negative</td>\n",
       "    </tr>\n",
       "    <tr>\n",
       "      <th>2</th>\n",
       "      <td>Good washer. Great product especially if you l...</td>\n",
       "      <td>positive</td>\n",
       "      <td>positive</td>\n",
       "    </tr>\n",
       "  </tbody>\n",
       "</table>\n",
       "</div>"
      ],
      "text/plain": [
       "                                              review sentiment     label\n",
       "0  Needed cupcake rings, ended up with breast mil...  negative  negative\n",
       "1             One Star. This is the band I received.  negative  negative\n",
       "2  Good washer. Great product especially if you l...  positive  positive"
      ]
     },
     "execution_count": 129,
     "metadata": {},
     "output_type": "execute_result"
    }
   ],
   "source": [
    "GPT_unprompted_results = pd.concat([data, pd.Series(GPT_unprompted_output, name = 'label')], axis = 1)\n",
    "GPT_unprompted_results.head(3)"
   ]
  },
  {
   "cell_type": "code",
   "execution_count": 131,
   "metadata": {},
   "outputs": [
    {
     "data": {
      "text/html": [
       "<div>\n",
       "<style scoped>\n",
       "    .dataframe tbody tr th:only-of-type {\n",
       "        vertical-align: middle;\n",
       "    }\n",
       "\n",
       "    .dataframe tbody tr th {\n",
       "        vertical-align: top;\n",
       "    }\n",
       "\n",
       "    .dataframe thead th {\n",
       "        text-align: right;\n",
       "    }\n",
       "</style>\n",
       "<table border=\"1\" class=\"dataframe\">\n",
       "  <thead>\n",
       "    <tr style=\"text-align: right;\">\n",
       "      <th></th>\n",
       "      <th>review</th>\n",
       "      <th>sentiment</th>\n",
       "      <th>label</th>\n",
       "    </tr>\n",
       "  </thead>\n",
       "  <tbody>\n",
       "    <tr>\n",
       "      <th>23</th>\n",
       "      <td>Unassembled. The picture shown is of an assemb...</td>\n",
       "      <td>positive</td>\n",
       "      <td>neutral</td>\n",
       "    </tr>\n",
       "    <tr>\n",
       "      <th>30</th>\n",
       "      <td>a gift. Bought for my mother in law</td>\n",
       "      <td>positive</td>\n",
       "      <td>neutral</td>\n",
       "    </tr>\n",
       "    <tr>\n",
       "      <th>56</th>\n",
       "      <td>Be careful on the print size. It is slightly s...</td>\n",
       "      <td>positive</td>\n",
       "      <td>neutral</td>\n",
       "    </tr>\n",
       "    <tr>\n",
       "      <th>77</th>\n",
       "      <td>Works well. The warmer works really well. The ...</td>\n",
       "      <td>positive</td>\n",
       "      <td>mixed</td>\n",
       "    </tr>\n",
       "    <tr>\n",
       "      <th>87</th>\n",
       "      <td>Ok. For the price serviceable</td>\n",
       "      <td>positive</td>\n",
       "      <td>neutral</td>\n",
       "    </tr>\n",
       "    <tr>\n",
       "      <th>89</th>\n",
       "      <td>Worth reading. Beautifully written. Missing de...</td>\n",
       "      <td>positive</td>\n",
       "      <td>neutral</td>\n",
       "    </tr>\n",
       "    <tr>\n",
       "      <th>106</th>\n",
       "      <td>It works.... Well... to lower your pH more qui...</td>\n",
       "      <td>positive</td>\n",
       "      <td>neutral</td>\n",
       "    </tr>\n",
       "    <tr>\n",
       "      <th>196</th>\n",
       "      <td>Almost fits. The nylon material feels sturdier...</td>\n",
       "      <td>positive</td>\n",
       "      <td>neutral</td>\n",
       "    </tr>\n",
       "    <tr>\n",
       "      <th>227</th>\n",
       "      <td>Confused. Hi, I lost my AirPod case so I bough...</td>\n",
       "      <td>negative</td>\n",
       "      <td>neutral</td>\n",
       "    </tr>\n",
       "    <tr>\n",
       "      <th>255</th>\n",
       "      <td>nice set. Nice set. Set is smaller than I thou...</td>\n",
       "      <td>positive</td>\n",
       "      <td>mixed</td>\n",
       "    </tr>\n",
       "    <tr>\n",
       "      <th>357</th>\n",
       "      <td>Need more info. It would be nice to know what ...</td>\n",
       "      <td>negative</td>\n",
       "      <td>neutral</td>\n",
       "    </tr>\n",
       "    <tr>\n",
       "      <th>366</th>\n",
       "      <td>It's okay. I thought it would be bigger in the...</td>\n",
       "      <td>negative</td>\n",
       "      <td>neutral</td>\n",
       "    </tr>\n",
       "    <tr>\n",
       "      <th>377</th>\n",
       "      <td>Not great not bad. Its ok, I probably would ha...</td>\n",
       "      <td>positive</td>\n",
       "      <td>neutral</td>\n",
       "    </tr>\n",
       "    <tr>\n",
       "      <th>464</th>\n",
       "      <td>The material wasn't what I thought but still n...</td>\n",
       "      <td>positive</td>\n",
       "      <td>neutral</td>\n",
       "    </tr>\n",
       "    <tr>\n",
       "      <th>480</th>\n",
       "      <td>Not bad but..! Fast delivery. everything is go...</td>\n",
       "      <td>positive</td>\n",
       "      <td>mixed</td>\n",
       "    </tr>\n",
       "    <tr>\n",
       "      <th>496</th>\n",
       "      <td>Old bootloader, reflash it for a better experi...</td>\n",
       "      <td>positive</td>\n",
       "      <td>neutral</td>\n",
       "    </tr>\n",
       "  </tbody>\n",
       "</table>\n",
       "</div>"
      ],
      "text/plain": [
       "                                                review sentiment    label\n",
       "23   Unassembled. The picture shown is of an assemb...  positive  neutral\n",
       "30                 a gift. Bought for my mother in law  positive  neutral\n",
       "56   Be careful on the print size. It is slightly s...  positive  neutral\n",
       "77   Works well. The warmer works really well. The ...  positive    mixed\n",
       "87                       Ok. For the price serviceable  positive  neutral\n",
       "89   Worth reading. Beautifully written. Missing de...  positive  neutral\n",
       "106  It works.... Well... to lower your pH more qui...  positive  neutral\n",
       "196  Almost fits. The nylon material feels sturdier...  positive  neutral\n",
       "227  Confused. Hi, I lost my AirPod case so I bough...  negative  neutral\n",
       "255  nice set. Nice set. Set is smaller than I thou...  positive    mixed\n",
       "357  Need more info. It would be nice to know what ...  negative  neutral\n",
       "366  It's okay. I thought it would be bigger in the...  negative  neutral\n",
       "377  Not great not bad. Its ok, I probably would ha...  positive  neutral\n",
       "464  The material wasn't what I thought but still n...  positive  neutral\n",
       "480  Not bad but..! Fast delivery. everything is go...  positive    mixed\n",
       "496  Old bootloader, reflash it for a better experi...  positive  neutral"
      ]
     },
     "execution_count": 131,
     "metadata": {},
     "output_type": "execute_result"
    }
   ],
   "source": [
    "GPT_unprompted_results[~GPT_unprompted_results['label'].isin(['positive', 'negative'])]"
   ]
  },
  {
   "cell_type": "code",
   "execution_count": 133,
   "metadata": {},
   "outputs": [
    {
     "data": {
      "text/plain": [
       "label\n",
       "negative    258\n",
       "positive    226\n",
       "neutral      13\n",
       "mixed         3\n",
       "Name: count, dtype: int64"
      ]
     },
     "execution_count": 133,
     "metadata": {},
     "output_type": "execute_result"
    }
   ],
   "source": [
    "GPT_unprompted_results['label'].value_counts()"
   ]
  },
  {
   "cell_type": "code",
   "execution_count": 134,
   "metadata": {},
   "outputs": [],
   "source": [
    "GPT_unprompted_results = GPT_unprompted_results[GPT_unprompted_results['label'].isin(['positive', 'negative'])]"
   ]
  },
  {
   "cell_type": "code",
   "execution_count": 135,
   "metadata": {},
   "outputs": [
    {
     "name": "stdout",
     "output_type": "stream",
     "text": [
      "              precision    recall  f1-score   support\n",
      "\n",
      "    negative       0.94      0.97      0.96       250\n",
      "    positive       0.97      0.94      0.95       234\n",
      "\n",
      "    accuracy                           0.95       484\n",
      "   macro avg       0.96      0.95      0.95       484\n",
      "weighted avg       0.95      0.95      0.95       484\n",
      "\n"
     ]
    }
   ],
   "source": [
    "print(classification_report(GPT_unprompted_results['sentiment'], GPT_unprompted_results['label']))"
   ]
  },
  {
   "cell_type": "code",
   "execution_count": 136,
   "metadata": {},
   "outputs": [
    {
     "data": {
      "text/html": [
       "<div>\n",
       "<style scoped>\n",
       "    .dataframe tbody tr th:only-of-type {\n",
       "        vertical-align: middle;\n",
       "    }\n",
       "\n",
       "    .dataframe tbody tr th {\n",
       "        vertical-align: top;\n",
       "    }\n",
       "\n",
       "    .dataframe thead th {\n",
       "        text-align: right;\n",
       "    }\n",
       "</style>\n",
       "<table border=\"1\" class=\"dataframe\">\n",
       "  <thead>\n",
       "    <tr style=\"text-align: right;\">\n",
       "      <th></th>\n",
       "      <th>Pred - Neg</th>\n",
       "      <th>Pred - Pos</th>\n",
       "    </tr>\n",
       "  </thead>\n",
       "  <tbody>\n",
       "    <tr>\n",
       "      <th>True - Neg</th>\n",
       "      <td>243</td>\n",
       "      <td>7</td>\n",
       "    </tr>\n",
       "    <tr>\n",
       "      <th>True - Pos</th>\n",
       "      <td>15</td>\n",
       "      <td>219</td>\n",
       "    </tr>\n",
       "  </tbody>\n",
       "</table>\n",
       "</div>"
      ],
      "text/plain": [
       "            Pred - Neg  Pred - Pos\n",
       "True - Neg         243           7\n",
       "True - Pos          15         219"
      ]
     },
     "execution_count": 136,
     "metadata": {},
     "output_type": "execute_result"
    }
   ],
   "source": [
    "pd.DataFrame(confusion_matrix(GPT_unprompted_results['sentiment'], GPT_unprompted_results['label'], labels = ['negative', 'positive']),\n",
    "             columns = ['Pred - Neg', 'Pred - Pos'], \n",
    "             index=['True - Neg', 'True - Pos'])"
   ]
  },
  {
   "cell_type": "code",
   "execution_count": null,
   "metadata": {},
   "outputs": [],
   "source": []
  },
  {
   "attachments": {},
   "cell_type": "markdown",
   "metadata": {},
   "source": [
    "Even tho I asked the model to only predict positive or negative, on 13 occasions it predicted neutral, for 3 samples it predicted mixed. This is fine, most items are categorized as expected, and these neutral-mixed elements are correctly labeled as they have been. They really do not seem neither pos nor neg.\n",
    "\n",
    "Accounting for only the pos-neg items, unprompted GPT is the best model so far, better than a fine tuned BERT...\n",
    "\n",
    "Let's see if adding few-shots helps the model further"
   ]
  },
  {
   "cell_type": "code",
   "execution_count": null,
   "metadata": {},
   "outputs": [],
   "source": []
  },
  {
   "attachments": {},
   "cell_type": "markdown",
   "metadata": {},
   "source": [
    "### 4. Prompted `GPT` model\n",
    "\n",
    "Prompted here refers to 'Few Shot', meaning a couple of examples are given in the prompt\n",
    "\n",
    "Nice tutorial: https://www.pinecone.io/learn/langchain-prompt-templates/"
   ]
  },
  {
   "attachments": {},
   "cell_type": "markdown",
   "metadata": {},
   "source": [
    "I'll download another part of the dataset so none of the Few Shots are part of the inference data"
   ]
  },
  {
   "cell_type": "code",
   "execution_count": 148,
   "metadata": {},
   "outputs": [
    {
     "name": "stderr",
     "output_type": "stream",
     "text": [
      "Found cached dataset amazon_reviews_multi (C:/Users/Rabay_Kristof/.cache/huggingface/datasets/amazon_reviews_multi/en/1.0.0/724e94f4b0c6c405ce7e476a6c5ef4f87db30799ad49f765094cf9770e0f7609)\n"
     ]
    }
   ],
   "source": [
    "fs = load_dataset('amazon_reviews_multi', 'en', split = 'test',)\n",
    "fs = pd.DataFrame(fs)\n",
    "\n",
    "fs['review'] = fs.apply(lambda x: x['review_title'] + '. ' + x['review_body'], axis = 1)\n",
    "\n",
    "fs = fs[fs['stars'] != 3]\n",
    "fs['sentiment'] = fs['stars'].apply(lambda x: 'positive' if x >= 4 else 'negative')\n",
    "\n",
    "fs.drop(labels = ['review_id', 'product_id', 'reviewer_id', 'language', 'review_title', 'review_body', 'stars', 'product_category'], axis = 1, inplace = True)\n",
    "fs = fs.sample(n = 10, random_state=43)\n",
    "fs.reset_index(drop = True, inplace = True)\n",
    "\n",
    "few_shots = []\n",
    "\n",
    "for r, s in zip(fs['review'], fs['sentiment']):\n",
    "    few_shots.append({'review' : r,\n",
    "                      'sentiment' : s})"
   ]
  },
  {
   "cell_type": "code",
   "execution_count": 149,
   "metadata": {},
   "outputs": [
    {
     "data": {
      "text/plain": [
       "[{'review': 'Don’t waste your time. Made very cheap!!!! you get what you pay for',\n",
       "  'sentiment': 'negative'},\n",
       " {'review': 'Does not lay flat. Creased beyond usefulness.. I SHOULD HAVE RETURNED THIS PRODUCT BUT THE RETURN WINDOW RAN OUT. The liner comes folded and does not lay flat. I thought that if I left it out, the material would eventually relax and become flat. It has been out a week and it I still all rippled. Why would the manufacturer not ship it in a tube or wrapped around a tube!!!! This liner is useless. What a joke. Do not buy.',\n",
       "  'sentiment': 'negative'},\n",
       " {'review': 'Works as intended on 2006 Honda Accord sedan. 2006 Honda Accord sedan. Had a difficult time trying to install unit. Fully assembled, the unit was not fitting into the small space. The arms were hitting and I could not get it to go in. Not sure if this is the way to go, but I disconnected the rod from the motor gear so I could \"flatten\" out the linkage. Once I did this the unit slid into place very easily. The only hard part was reconnecting the arm to the motor gear. You have just enough room to fit your fingers in behind the linkage. Then you have to press, HARD, to get it to \"snap\" into place on the ball. Other than that issue, everything seemed to go smoothly.',\n",
       "  'sentiment': 'positive'}]"
      ]
     },
     "execution_count": 149,
     "metadata": {},
     "output_type": "execute_result"
    }
   ],
   "source": [
    "few_shots[:3]"
   ]
  },
  {
   "attachments": {},
   "cell_type": "markdown",
   "metadata": {},
   "source": [
    "Put together Few-Shot prompt"
   ]
  },
  {
   "cell_type": "code",
   "execution_count": 150,
   "metadata": {},
   "outputs": [],
   "source": [
    "prefix = \"\"\"Given the following few examples, decide whether a product review's sentiment is positive or negative. Only predict positive or negative.\"\"\"\n",
    "\n",
    "example_prompt = \"\"\"\n",
    "Product review: {review}\n",
    "Sentiment: {sentiment}\"\"\"\n",
    "\n",
    "suffix = \"\"\"\n",
    "Product review: {review}\n",
    "Sentiment:\"\"\"\n",
    "\n",
    "example_prompt = PromptTemplate(\n",
    "    input_variables=[\"review\", \"sentiment\"],\n",
    "    template=example_prompt\n",
    ")\n",
    "\n",
    "few_shot_prompt_template = FewShotPromptTemplate(\n",
    "    examples=few_shots,\n",
    "    example_prompt=example_prompt,\n",
    "    prefix=prefix,\n",
    "    suffix=suffix,\n",
    "    input_variables=[\"review\"],\n",
    "    example_separator=\"\\n\"\n",
    ")"
   ]
  },
  {
   "cell_type": "code",
   "execution_count": 152,
   "metadata": {},
   "outputs": [
    {
     "name": "stdout",
     "output_type": "stream",
     "text": [
      "Given the following few examples, decide whether a product review's sentiment is positive or negative. Only predict positive or negative.\n",
      "\n",
      "Product review: Don’t waste your time. Made very cheap!!!! you get what you pay for\n",
      "Sentiment: negative\n",
      "\n",
      "Product review: Does not lay flat. Creased beyond usefulness.. I SHOULD HAVE RETURNED THIS PRODUCT BUT THE RETURN WINDOW RAN OUT. The liner comes folded and does not lay flat. I thought that if I left it out, the material would eventually relax and become flat. It has been out a week and it I still all rippled. Why would the manufacturer not ship it in a tube or wrapped around a tube!!!! This liner is useless. What a joke. Do not buy.\n",
      "Sentiment: negative\n",
      "\n",
      "Product review: Works as intended on 2006 Honda Accord sedan. 2006 Honda Accord sedan. Had a difficult time trying to install unit. Fully assembled, the unit was not fitting into the small space. The arms were hitting and I could not get it to go in. Not sure if this is the way to go, but I disconnected the rod from the motor gear so I could \"flatten\" out the linkage. Once I did this the unit slid into place very easily. The only hard part was reconnecting the arm to the motor gear. You have just enough room to fit your fingers in behind the linkage. Then you have to press, HARD, to get it to \"snap\" into place on the ball. Other than that issue, everything seemed to go smoothly.\n",
      "Sentiment: positive\n",
      "\n",
      "Product review: The brightness is not comparable to a 7w incandescent bulb. These bulbs are not bright at all. I’d guess about 10% as bright as the 7w incandescent bulb I wanted to replace.\n",
      "Sentiment: negative\n",
      "\n",
      "Product review: Great product!. This so so much better than swallowing 4 pills. The scoop that comes in really helps, and I just mix it with water and there's really no taste. I've done 1 month of the pills and 1 month of the powder and I believe I'm seeing results already!\n",
      "Sentiment: positive\n",
      "\n",
      "Product review: Great Product for a Classroom. The product is perfect for my classroom. It provides a wonderful flex seating option. The company also was supportive when I had a small issue. Great customer service!\n",
      "Sentiment: positive\n",
      "\n",
      "Product review: Balloons pop. The gold paint they used on the balloons damaged the balloons. Almost all of the balloons popped, even ones we barely filled with air. Some of the balloons had holes in them where the gold paint was.\n",
      "Sentiment: negative\n",
      "\n",
      "Product review: Four Stars. Just okay but fits decently\n",
      "Sentiment: positive\n",
      "\n",
      "Product review: even thou it says in narrative it supports wireless charging it does not. does not support wireless charging like it was advertised to do so\n",
      "Sentiment: negative\n",
      "\n",
      "Product review: Not used to Taste and texture. Turns dough purple. First time using this for a keto tortilla and really don't like the taste and texture. Also the dough turns purple (I read with some brands that happens) Will continue to try it in others receipts to see if I get used to it\n",
      "Sentiment: negative\n",
      "\n",
      "Product review: I hated this TV\n",
      "Sentiment:\n"
     ]
    }
   ],
   "source": [
    "REVIEW = 'I hated this TV'\n",
    "print(few_shot_prompt_template.format(review = REVIEW))"
   ]
  },
  {
   "cell_type": "code",
   "execution_count": 153,
   "metadata": {},
   "outputs": [
    {
     "name": "stdout",
     "output_type": "stream",
     "text": [
      "Negative\n"
     ]
    }
   ],
   "source": [
    "print(chain.run(REVIEW))"
   ]
  },
  {
   "cell_type": "code",
   "execution_count": 156,
   "metadata": {},
   "outputs": [
    {
     "name": "stderr",
     "output_type": "stream",
     "text": [
      "Retrying langchain.chat_models.openai.ChatOpenAI.completion_with_retry.<locals>._completion_with_retry in 1.0 seconds as it raised RateLimitError: That model is currently overloaded with other requests. You can retry your request, or contact us through our help center at help.openai.com if the error persists. (Please include the request ID 8c854e046857c92a2e71c5c5ab64ec49 in your message.).\n",
      "Retrying langchain.chat_models.openai.ChatOpenAI.completion_with_retry.<locals>._completion_with_retry in 1.0 seconds as it raised RateLimitError: That model is currently overloaded with other requests. You can retry your request, or contact us through our help center at help.openai.com if the error persists. (Please include the request ID 4e6ed3ab0def2676ae502db678a2108b in your message.).\n",
      "Retrying langchain.chat_models.openai.ChatOpenAI.completion_with_retry.<locals>._completion_with_retry in 1.0 seconds as it raised RateLimitError: That model is currently overloaded with other requests. You can retry your request, or contact us through our help center at help.openai.com if the error persists. (Please include the request ID f4b6597f80473a7f32223fe68e28976b in your message.).\n",
      "Retrying langchain.chat_models.openai.ChatOpenAI.completion_with_retry.<locals>._completion_with_retry in 1.0 seconds as it raised RateLimitError: That model is currently overloaded with other requests. You can retry your request, or contact us through our help center at help.openai.com if the error persists. (Please include the request ID f28ee75427512b5a4387e9da94b0a5c5 in your message.).\n",
      "Retrying langchain.chat_models.openai.ChatOpenAI.completion_with_retry.<locals>._completion_with_retry in 1.0 seconds as it raised RateLimitError: That model is currently overloaded with other requests. You can retry your request, or contact us through our help center at help.openai.com if the error persists. (Please include the request ID b9faaa867aefe0fed5bee0d9ac5d75c0 in your message.).\n",
      "Retrying langchain.chat_models.openai.ChatOpenAI.completion_with_retry.<locals>._completion_with_retry in 1.0 seconds as it raised RateLimitError: That model is currently overloaded with other requests. You can retry your request, or contact us through our help center at help.openai.com if the error persists. (Please include the request ID 63cc80783d99938ff6fc7ced759ab64f in your message.).\n",
      "Retrying langchain.chat_models.openai.ChatOpenAI.completion_with_retry.<locals>._completion_with_retry in 1.0 seconds as it raised RateLimitError: That model is currently overloaded with other requests. You can retry your request, or contact us through our help center at help.openai.com if the error persists. (Please include the request ID 93e8001f0429518021365b12011601ed in your message.).\n",
      "Retrying langchain.chat_models.openai.ChatOpenAI.completion_with_retry.<locals>._completion_with_retry in 1.0 seconds as it raised RateLimitError: That model is currently overloaded with other requests. You can retry your request, or contact us through our help center at help.openai.com if the error persists. (Please include the request ID 9366827e53074fe13c5ae38f6080ca61 in your message.).\n",
      "Retrying langchain.chat_models.openai.ChatOpenAI.completion_with_retry.<locals>._completion_with_retry in 1.0 seconds as it raised RateLimitError: That model is currently overloaded with other requests. You can retry your request, or contact us through our help center at help.openai.com if the error persists. (Please include the request ID d46df14040a9790d70e60f1b284a6673 in your message.).\n",
      "Retrying langchain.chat_models.openai.ChatOpenAI.completion_with_retry.<locals>._completion_with_retry in 1.0 seconds as it raised RateLimitError: That model is currently overloaded with other requests. You can retry your request, or contact us through our help center at help.openai.com if the error persists. (Please include the request ID 41a80510d251b399169e2286acf59dba in your message.).\n",
      "Retrying langchain.chat_models.openai.ChatOpenAI.completion_with_retry.<locals>._completion_with_retry in 1.0 seconds as it raised RateLimitError: That model is currently overloaded with other requests. You can retry your request, or contact us through our help center at help.openai.com if the error persists. (Please include the request ID ea1cc401b8faaf00d71c6929d8eabe8a in your message.).\n",
      "Retrying langchain.chat_models.openai.ChatOpenAI.completion_with_retry.<locals>._completion_with_retry in 1.0 seconds as it raised RateLimitError: That model is currently overloaded with other requests. You can retry your request, or contact us through our help center at help.openai.com if the error persists. (Please include the request ID 47c5f1ebca83515101b8ae2e9baacdb4 in your message.).\n"
     ]
    },
    {
     "name": "stdout",
     "output_type": "stream",
     "text": [
      "CPU times: total: 1.77 s\n",
      "Wall time: 12min 21s\n"
     ]
    }
   ],
   "source": [
    "%%time\n",
    "GPT_prompted_output = [chain.run(i).lower().strip() for i in sequence_to_classify]"
   ]
  },
  {
   "cell_type": "code",
   "execution_count": 157,
   "metadata": {},
   "outputs": [
    {
     "data": {
      "text/html": [
       "<div>\n",
       "<style scoped>\n",
       "    .dataframe tbody tr th:only-of-type {\n",
       "        vertical-align: middle;\n",
       "    }\n",
       "\n",
       "    .dataframe tbody tr th {\n",
       "        vertical-align: top;\n",
       "    }\n",
       "\n",
       "    .dataframe thead th {\n",
       "        text-align: right;\n",
       "    }\n",
       "</style>\n",
       "<table border=\"1\" class=\"dataframe\">\n",
       "  <thead>\n",
       "    <tr style=\"text-align: right;\">\n",
       "      <th></th>\n",
       "      <th>review</th>\n",
       "      <th>sentiment</th>\n",
       "      <th>label</th>\n",
       "    </tr>\n",
       "  </thead>\n",
       "  <tbody>\n",
       "    <tr>\n",
       "      <th>0</th>\n",
       "      <td>Needed cupcake rings, ended up with breast mil...</td>\n",
       "      <td>negative</td>\n",
       "      <td>negative</td>\n",
       "    </tr>\n",
       "    <tr>\n",
       "      <th>1</th>\n",
       "      <td>One Star. This is the band I received.</td>\n",
       "      <td>negative</td>\n",
       "      <td>negative</td>\n",
       "    </tr>\n",
       "    <tr>\n",
       "      <th>2</th>\n",
       "      <td>Good washer. Great product especially if you l...</td>\n",
       "      <td>positive</td>\n",
       "      <td>positive</td>\n",
       "    </tr>\n",
       "  </tbody>\n",
       "</table>\n",
       "</div>"
      ],
      "text/plain": [
       "                                              review sentiment     label\n",
       "0  Needed cupcake rings, ended up with breast mil...  negative  negative\n",
       "1             One Star. This is the band I received.  negative  negative\n",
       "2  Good washer. Great product especially if you l...  positive  positive"
      ]
     },
     "execution_count": 157,
     "metadata": {},
     "output_type": "execute_result"
    }
   ],
   "source": [
    "GPT_prompted_results = pd.concat([data, pd.Series(GPT_prompted_output, name = 'label')], axis = 1)\n",
    "GPT_prompted_results.head(3)"
   ]
  },
  {
   "cell_type": "code",
   "execution_count": 159,
   "metadata": {},
   "outputs": [
    {
     "data": {
      "text/html": [
       "<div>\n",
       "<style scoped>\n",
       "    .dataframe tbody tr th:only-of-type {\n",
       "        vertical-align: middle;\n",
       "    }\n",
       "\n",
       "    .dataframe tbody tr th {\n",
       "        vertical-align: top;\n",
       "    }\n",
       "\n",
       "    .dataframe thead th {\n",
       "        text-align: right;\n",
       "    }\n",
       "</style>\n",
       "<table border=\"1\" class=\"dataframe\">\n",
       "  <thead>\n",
       "    <tr style=\"text-align: right;\">\n",
       "      <th></th>\n",
       "      <th>review</th>\n",
       "      <th>sentiment</th>\n",
       "      <th>label</th>\n",
       "    </tr>\n",
       "  </thead>\n",
       "  <tbody>\n",
       "    <tr>\n",
       "      <th>23</th>\n",
       "      <td>Unassembled. The picture shown is of an assemb...</td>\n",
       "      <td>positive</td>\n",
       "      <td>neutral</td>\n",
       "    </tr>\n",
       "    <tr>\n",
       "      <th>30</th>\n",
       "      <td>a gift. Bought for my mother in law</td>\n",
       "      <td>positive</td>\n",
       "      <td>neutral</td>\n",
       "    </tr>\n",
       "    <tr>\n",
       "      <th>56</th>\n",
       "      <td>Be careful on the print size. It is slightly s...</td>\n",
       "      <td>positive</td>\n",
       "      <td>neutral</td>\n",
       "    </tr>\n",
       "    <tr>\n",
       "      <th>77</th>\n",
       "      <td>Works well. The warmer works really well. The ...</td>\n",
       "      <td>positive</td>\n",
       "      <td>mixed</td>\n",
       "    </tr>\n",
       "    <tr>\n",
       "      <th>87</th>\n",
       "      <td>Ok. For the price serviceable</td>\n",
       "      <td>positive</td>\n",
       "      <td>neutral</td>\n",
       "    </tr>\n",
       "    <tr>\n",
       "      <th>89</th>\n",
       "      <td>Worth reading. Beautifully written. Missing de...</td>\n",
       "      <td>positive</td>\n",
       "      <td>neutral</td>\n",
       "    </tr>\n",
       "    <tr>\n",
       "      <th>106</th>\n",
       "      <td>It works.... Well... to lower your pH more qui...</td>\n",
       "      <td>positive</td>\n",
       "      <td>neutral</td>\n",
       "    </tr>\n",
       "    <tr>\n",
       "      <th>196</th>\n",
       "      <td>Almost fits. The nylon material feels sturdier...</td>\n",
       "      <td>positive</td>\n",
       "      <td>neutral</td>\n",
       "    </tr>\n",
       "    <tr>\n",
       "      <th>227</th>\n",
       "      <td>Confused. Hi, I lost my AirPod case so I bough...</td>\n",
       "      <td>negative</td>\n",
       "      <td>neutral</td>\n",
       "    </tr>\n",
       "    <tr>\n",
       "      <th>357</th>\n",
       "      <td>Need more info. It would be nice to know what ...</td>\n",
       "      <td>negative</td>\n",
       "      <td>neutral</td>\n",
       "    </tr>\n",
       "    <tr>\n",
       "      <th>366</th>\n",
       "      <td>It's okay. I thought it would be bigger in the...</td>\n",
       "      <td>negative</td>\n",
       "      <td>neutral</td>\n",
       "    </tr>\n",
       "    <tr>\n",
       "      <th>377</th>\n",
       "      <td>Not great not bad. Its ok, I probably would ha...</td>\n",
       "      <td>positive</td>\n",
       "      <td>neutral</td>\n",
       "    </tr>\n",
       "    <tr>\n",
       "      <th>464</th>\n",
       "      <td>The material wasn't what I thought but still n...</td>\n",
       "      <td>positive</td>\n",
       "      <td>neutral</td>\n",
       "    </tr>\n",
       "    <tr>\n",
       "      <th>480</th>\n",
       "      <td>Not bad but..! Fast delivery. everything is go...</td>\n",
       "      <td>positive</td>\n",
       "      <td>mixed</td>\n",
       "    </tr>\n",
       "    <tr>\n",
       "      <th>496</th>\n",
       "      <td>Old bootloader, reflash it for a better experi...</td>\n",
       "      <td>positive</td>\n",
       "      <td>neutral</td>\n",
       "    </tr>\n",
       "  </tbody>\n",
       "</table>\n",
       "</div>"
      ],
      "text/plain": [
       "                                                review sentiment    label\n",
       "23   Unassembled. The picture shown is of an assemb...  positive  neutral\n",
       "30                 a gift. Bought for my mother in law  positive  neutral\n",
       "56   Be careful on the print size. It is slightly s...  positive  neutral\n",
       "77   Works well. The warmer works really well. The ...  positive    mixed\n",
       "87                       Ok. For the price serviceable  positive  neutral\n",
       "89   Worth reading. Beautifully written. Missing de...  positive  neutral\n",
       "106  It works.... Well... to lower your pH more qui...  positive  neutral\n",
       "196  Almost fits. The nylon material feels sturdier...  positive  neutral\n",
       "227  Confused. Hi, I lost my AirPod case so I bough...  negative  neutral\n",
       "357  Need more info. It would be nice to know what ...  negative  neutral\n",
       "366  It's okay. I thought it would be bigger in the...  negative  neutral\n",
       "377  Not great not bad. Its ok, I probably would ha...  positive  neutral\n",
       "464  The material wasn't what I thought but still n...  positive  neutral\n",
       "480  Not bad but..! Fast delivery. everything is go...  positive    mixed\n",
       "496  Old bootloader, reflash it for a better experi...  positive  neutral"
      ]
     },
     "execution_count": 159,
     "metadata": {},
     "output_type": "execute_result"
    }
   ],
   "source": [
    "GPT_prompted_results[~GPT_prompted_results['label'].isin(['positive', 'negative'])]"
   ]
  },
  {
   "cell_type": "code",
   "execution_count": 158,
   "metadata": {},
   "outputs": [
    {
     "data": {
      "text/plain": [
       "label\n",
       "negative    259\n",
       "positive    226\n",
       "neutral      13\n",
       "mixed         2\n",
       "Name: count, dtype: int64"
      ]
     },
     "execution_count": 158,
     "metadata": {},
     "output_type": "execute_result"
    }
   ],
   "source": [
    "GPT_prompted_results['label'].value_counts()"
   ]
  },
  {
   "cell_type": "code",
   "execution_count": 160,
   "metadata": {},
   "outputs": [],
   "source": [
    "GPT_prompted_results = GPT_prompted_results[GPT_prompted_results['label'].isin(['positive', 'negative'])]"
   ]
  },
  {
   "cell_type": "code",
   "execution_count": 161,
   "metadata": {},
   "outputs": [
    {
     "name": "stdout",
     "output_type": "stream",
     "text": [
      "              precision    recall  f1-score   support\n",
      "\n",
      "    negative       0.94      0.97      0.95       250\n",
      "    positive       0.97      0.93      0.95       235\n",
      "\n",
      "    accuracy                           0.95       485\n",
      "   macro avg       0.95      0.95      0.95       485\n",
      "weighted avg       0.95      0.95      0.95       485\n",
      "\n"
     ]
    }
   ],
   "source": [
    "print(classification_report(GPT_prompted_results['sentiment'], GPT_prompted_results['label']))"
   ]
  },
  {
   "cell_type": "code",
   "execution_count": 162,
   "metadata": {},
   "outputs": [
    {
     "data": {
      "text/html": [
       "<div>\n",
       "<style scoped>\n",
       "    .dataframe tbody tr th:only-of-type {\n",
       "        vertical-align: middle;\n",
       "    }\n",
       "\n",
       "    .dataframe tbody tr th {\n",
       "        vertical-align: top;\n",
       "    }\n",
       "\n",
       "    .dataframe thead th {\n",
       "        text-align: right;\n",
       "    }\n",
       "</style>\n",
       "<table border=\"1\" class=\"dataframe\">\n",
       "  <thead>\n",
       "    <tr style=\"text-align: right;\">\n",
       "      <th></th>\n",
       "      <th>Pred - Neg</th>\n",
       "      <th>Pred - Pos</th>\n",
       "    </tr>\n",
       "  </thead>\n",
       "  <tbody>\n",
       "    <tr>\n",
       "      <th>True - Neg</th>\n",
       "      <td>243</td>\n",
       "      <td>7</td>\n",
       "    </tr>\n",
       "    <tr>\n",
       "      <th>True - Pos</th>\n",
       "      <td>16</td>\n",
       "      <td>219</td>\n",
       "    </tr>\n",
       "  </tbody>\n",
       "</table>\n",
       "</div>"
      ],
      "text/plain": [
       "            Pred - Neg  Pred - Pos\n",
       "True - Neg         243           7\n",
       "True - Pos          16         219"
      ]
     },
     "execution_count": 162,
     "metadata": {},
     "output_type": "execute_result"
    }
   ],
   "source": [
    "pd.DataFrame(confusion_matrix(GPT_prompted_results['sentiment'], GPT_prompted_results['label'], labels = ['negative', 'positive']),\n",
    "             columns = ['Pred - Neg', 'Pred - Pos'], \n",
    "             index=['True - Neg', 'True - Pos'])"
   ]
  },
  {
   "attachments": {},
   "cell_type": "markdown",
   "metadata": {},
   "source": [
    "Same performance as unprompted model. Seems like scoring the sentiment of product reviews is pretty easy for ChatGPT. For numerical scoring, like 1-5, or -1 to +1, few shot prompting would definitely help"
   ]
  },
  {
   "cell_type": "code",
   "execution_count": null,
   "metadata": {},
   "outputs": [],
   "source": []
  },
  {
   "attachments": {},
   "cell_type": "markdown",
   "metadata": {},
   "source": [
    "### 5.1 Finetuning `GPT-ada` model for product review sentiment scoring\n",
    "\n",
    "Here I'm actually going to fine tune a GPT-3 model whose only job will be to decide product review's sentiment (positive or negative). This avoids long prompts, but finetuned models are more expensive for inference. This is experimental, GPT models should not be used for such basic tasks. Even tho they seem to outperform BERT models finetuned for exactly the same downstream tasks :D \n",
    "\n",
    "First, I'll finetune the smallest, fastest, least accurate `ada` model. Then I'll jump to `davinci`"
   ]
  },
  {
   "attachments": {},
   "cell_type": "markdown",
   "metadata": {},
   "source": [
    "Again, I'll be finetuning and inferencing on different datasets"
   ]
  },
  {
   "cell_type": "code",
   "execution_count": 11,
   "metadata": {},
   "outputs": [
    {
     "name": "stderr",
     "output_type": "stream",
     "text": [
      "Found cached dataset amazon_reviews_multi (C:/Users/Rabay_Kristof/.cache/huggingface/datasets/amazon_reviews_multi/en/1.0.0/724e94f4b0c6c405ce7e476a6c5ef4f87db30799ad49f765094cf9770e0f7609)\n"
     ]
    },
    {
     "name": "stdout",
     "output_type": "stream",
     "text": [
      "(500, 2)\n"
     ]
    },
    {
     "data": {
      "text/html": [
       "<div>\n",
       "<style scoped>\n",
       "    .dataframe tbody tr th:only-of-type {\n",
       "        vertical-align: middle;\n",
       "    }\n",
       "\n",
       "    .dataframe tbody tr th {\n",
       "        vertical-align: top;\n",
       "    }\n",
       "\n",
       "    .dataframe thead th {\n",
       "        text-align: right;\n",
       "    }\n",
       "</style>\n",
       "<table border=\"1\" class=\"dataframe\">\n",
       "  <thead>\n",
       "    <tr style=\"text-align: right;\">\n",
       "      <th></th>\n",
       "      <th>prompt</th>\n",
       "      <th>completion</th>\n",
       "    </tr>\n",
       "  </thead>\n",
       "  <tbody>\n",
       "    <tr>\n",
       "      <th>0</th>\n",
       "      <td>Don’t waste your time. Made very cheap!!!! you...</td>\n",
       "      <td>negative</td>\n",
       "    </tr>\n",
       "    <tr>\n",
       "      <th>1</th>\n",
       "      <td>Does not lay flat. Creased beyond usefulness.....</td>\n",
       "      <td>negative</td>\n",
       "    </tr>\n",
       "    <tr>\n",
       "      <th>2</th>\n",
       "      <td>Works as intended on 2006 Honda Accord sedan. ...</td>\n",
       "      <td>positive</td>\n",
       "    </tr>\n",
       "  </tbody>\n",
       "</table>\n",
       "</div>"
      ],
      "text/plain": [
       "                                              prompt completion\n",
       "0  Don’t waste your time. Made very cheap!!!! you...   negative\n",
       "1  Does not lay flat. Creased beyond usefulness.....   negative\n",
       "2  Works as intended on 2006 Honda Accord sedan. ...   positive"
      ]
     },
     "execution_count": 11,
     "metadata": {},
     "output_type": "execute_result"
    }
   ],
   "source": [
    "ft = load_dataset('amazon_reviews_multi', 'en', split = 'test',)\n",
    "ft = pd.DataFrame(ft)\n",
    "\n",
    "ft['review'] = ft.apply(lambda x: x['review_title'] + '. ' + x['review_body'], axis = 1)\n",
    "\n",
    "ft = ft[ft['stars'] != 3]\n",
    "ft['sentiment'] = ft['stars'].apply(lambda x: 'positive' if x >= 4 else 'negative')\n",
    "\n",
    "ft.drop(labels = ['review_id', 'product_id', 'reviewer_id', 'language', 'review_title', 'review_body', 'stars', 'product_category'], axis = 1, inplace = True)\n",
    "ft = ft.sample(n = 500, random_state=43)\n",
    "ft.reset_index(drop = True, inplace = True)\n",
    "\n",
    "ft.columns = ['prompt', 'completion']\n",
    "\n",
    "print(ft.shape)\n",
    "ft.head(3)"
   ]
  },
  {
   "attachments": {},
   "cell_type": "markdown",
   "metadata": {},
   "source": [
    "Save as `JSONL`"
   ]
  },
  {
   "cell_type": "code",
   "execution_count": 12,
   "metadata": {},
   "outputs": [],
   "source": [
    "ft.to_json(\"../docs/classification/all_training_data.jsonl\", orient='records', lines=True)"
   ]
  },
  {
   "cell_type": "code",
   "execution_count": null,
   "metadata": {},
   "outputs": [],
   "source": []
  },
  {
   "attachments": {},
   "cell_type": "markdown",
   "metadata": {},
   "source": [
    "Prepare training data with `openAI` CLI"
   ]
  },
  {
   "cell_type": "code",
   "execution_count": 13,
   "metadata": {},
   "outputs": [
    {
     "name": "stdout",
     "output_type": "stream",
     "text": [
      "Analyzing...\n",
      "\n",
      "- Your file contains 500 prompt-completion pairs\n",
      "- Based on your data it seems like you're trying to fine-tune a model for classification\n",
      "- For classification, we recommend you try one of the faster and cheaper models, such as `ada`\n",
      "- For classification, you can estimate the expected model performance by keeping a held out dataset, which is not used for training\n",
      "- Your data does not contain a common separator at the end of your prompts. Having a separator string appended to the end of the prompt makes it clearer to the fine-tuned model where the completion should begin. See https://platform.openai.com/docs/guides/fine-tuning/preparing-your-dataset for more detail and examples. If you intend to do open-ended generation, then you should leave the prompts empty\n",
      "- The completion should start with a whitespace character (` `). This tends to produce better results due to the tokenization we use. See https://platform.openai.com/docs/guides/fine-tuning/preparing-your-dataset for more details\n",
      "\n",
      "Based on the analysis we will perform the following actions:\n",
      "- [Recommended] Add a suffix separator ` ->` to all prompts [Y/n]: Y\n",
      "- [Recommended] Add a whitespace character to the beginning of the completion [Y/n]: Y\n",
      "- [Recommended] Would you like to split into training and validation set? [Y/n]: Y\n",
      "\n",
      "\n",
      "Your data will be written to a new JSONL file. Proceed [Y/n]: Y\n",
      "\n",
      "Wrote modified files to `../docs/classification/all_training_data_prepared_train.jsonl` and `../docs/classification/all_training_data_prepared_valid.jsonl`\n",
      "Feel free to take a look!\n",
      "\n",
      "Now use that file when fine-tuning:\n",
      "> openai api fine_tunes.create -t \"../docs/classification/all_training_data_prepared_train.jsonl\" -v \"../docs/classification/all_training_data_prepared_valid.jsonl\" --compute_classification_metrics --classification_positive_class \" negative\"\n",
      "\n",
      "After you’ve fine-tuned a model, remember that your prompt has to end with the indicator string ` ->` for the model to start generating completions, rather than continuing with the prompt. Make sure to include `stop=[\"tive\"]` so that the generated texts ends at the expected place.\n",
      "Once your model starts training, it'll approximately take 14.33 minutes to train a `curie` model, and less for `ada` and `babbage`. Queue will approximately take half an hour per job ahead of you.\n"
     ]
    }
   ],
   "source": [
    "!openai tools fine_tunes.prepare_data -f ../docs/classification/all_training_data.jsonl -q"
   ]
  },
  {
   "attachments": {},
   "cell_type": "markdown",
   "metadata": {},
   "source": [
    "There are 400 samples in the corrected train JSONL, and 100 in the valid, so OpenAI uses an 80-20% split ratio automatically"
   ]
  },
  {
   "cell_type": "code",
   "execution_count": null,
   "metadata": {},
   "outputs": [],
   "source": []
  },
  {
   "attachments": {},
   "cell_type": "markdown",
   "metadata": {},
   "source": [
    "Start fine-tuning job\n",
    "\n",
    "- will use `ada` model\n",
    "- will train for 3 epochs\n",
    "- will ask OpenAI to calculate classification metrics"
   ]
  },
  {
   "cell_type": "code",
   "execution_count": 14,
   "metadata": {},
   "outputs": [
    {
     "name": "stdout",
     "output_type": "stream",
     "text": [
      "Uploaded file from ../docs/classification/all_training_data_prepared_train.jsonl: file-cPbbANAArMg2DIxvrgjIu9RR\n",
      "Uploaded file from ../docs/classification/all_training_data_prepared_valid.jsonl: file-JYqiVJw13D2TmKzjKKFo1Xqc\n",
      "Created fine-tune: ft-v8f3alMpQEH6F3QVaxtyyn7M\n",
      "Streaming events until fine-tuning is complete...\n",
      "\n",
      "(Ctrl-C will interrupt the stream, but not cancel the fine-tune)\n",
      "[2023-05-10 22:56:44] Created fine-tune: ft-v8f3alMpQEH6F3QVaxtyyn7M\n",
      "[2023-05-10 22:56:58] Fine-tune costs $0.02\n",
      "[2023-05-10 22:56:58] Fine-tune enqueued. Queue number: 1\n",
      "\n"
     ]
    },
    {
     "name": "stderr",
     "output_type": "stream",
     "text": [
      "\n",
      "Upload progress:   0%|          | 0.00/93.3k [00:00<?, ?it/s]\n",
      "Upload progress: 100%|██████████| 93.3k/93.3k [00:00<00:00, 90.0Mit/s]\n",
      "\n",
      "Upload progress:   0%|          | 0.00/23.7k [00:00<?, ?it/s]\n",
      "Upload progress: 100%|██████████| 23.7k/23.7k [00:00<00:00, 23.6Mit/s]\n"
     ]
    }
   ],
   "source": [
    "!openai api fine_tunes.create \\\n",
    "--training_file ../docs/classification/all_training_data_prepared_train.jsonl \\\n",
    "--validation_file ../docs/classification/all_training_data_prepared_valid.jsonl \\\n",
    "--model ada \\\n",
    "--suffix \"SentimentScorer\" \\\n",
    "--n_epochs 3 \\\n",
    "--compute_classification_metrics \\\n",
    "--classification_positive_class \" positive\""
   ]
  },
  {
   "cell_type": "code",
   "execution_count": null,
   "metadata": {},
   "outputs": [],
   "source": []
  },
  {
   "cell_type": "code",
   "execution_count": 21,
   "metadata": {},
   "outputs": [
    {
     "name": "stdout",
     "output_type": "stream",
     "text": [
      "[2023-05-10 22:56:44] Created fine-tune: ft-v8f3alMpQEH6F3QVaxtyyn7M\n",
      "[2023-05-10 22:56:58] Fine-tune costs $0.02\n",
      "[2023-05-10 22:56:58] Fine-tune enqueued. Queue number: 1\n",
      "[2023-05-10 23:05:02] Fine-tune is in the queue. Queue number: 0\n",
      "[2023-05-10 23:07:34] Fine-tune started\n",
      "[2023-05-10 23:08:51] Completed epoch 1/3\n",
      "[2023-05-10 23:09:56] Completed epoch 2/3\n",
      "[2023-05-10 23:10:59] Completed epoch 3/3\n",
      "[2023-05-10 23:11:18] Uploaded model: ada:ft-hiflylabs-zrt:sentimentscorer-2023-05-10-21-11-18\n",
      "[2023-05-10 23:11:20] Uploaded result file: file-2PyDPgGiMNZwSls2BOY5Yrte\n",
      "[2023-05-10 23:11:20] Fine-tune succeeded\n",
      "\n",
      "Job complete! Status: succeeded 🎉\n",
      "Try out your fine-tuned model:\n",
      "\n",
      "openai api completions.create -m ada:ft-hiflylabs-zrt:sentimentscorer-2023-05-10-21-11-18 -p <YOUR_PROMPT>\n"
     ]
    }
   ],
   "source": [
    "!openai api fine_tunes.follow -i ft-v8f3alMpQEH6F3QVaxtyyn7M"
   ]
  },
  {
   "cell_type": "code",
   "execution_count": null,
   "metadata": {},
   "outputs": [],
   "source": []
  },
  {
   "attachments": {},
   "cell_type": "markdown",
   "metadata": {},
   "source": [
    "Download eval results"
   ]
  },
  {
   "cell_type": "code",
   "execution_count": 22,
   "metadata": {},
   "outputs": [],
   "source": [
    "!openai api fine_tunes.results -i ft-v8f3alMpQEH6F3QVaxtyyn7M > ../docs/classification/results.csv"
   ]
  },
  {
   "cell_type": "code",
   "execution_count": 24,
   "metadata": {},
   "outputs": [
    {
     "data": {
      "text/html": [
       "<div>\n",
       "<style scoped>\n",
       "    .dataframe tbody tr th:only-of-type {\n",
       "        vertical-align: middle;\n",
       "    }\n",
       "\n",
       "    .dataframe tbody tr th {\n",
       "        vertical-align: top;\n",
       "    }\n",
       "\n",
       "    .dataframe thead th {\n",
       "        text-align: right;\n",
       "    }\n",
       "</style>\n",
       "<table border=\"1\" class=\"dataframe\">\n",
       "  <thead>\n",
       "    <tr style=\"text-align: right;\">\n",
       "      <th></th>\n",
       "      <th>step</th>\n",
       "      <th>elapsed_tokens</th>\n",
       "      <th>elapsed_examples</th>\n",
       "      <th>training_loss</th>\n",
       "      <th>training_sequence_accuracy</th>\n",
       "      <th>training_token_accuracy</th>\n",
       "      <th>validation_loss</th>\n",
       "      <th>validation_sequence_accuracy</th>\n",
       "      <th>validation_token_accuracy</th>\n",
       "      <th>classification/accuracy</th>\n",
       "      <th>classification/precision</th>\n",
       "      <th>classification/recall</th>\n",
       "      <th>classification/auroc</th>\n",
       "      <th>classification/auprc</th>\n",
       "      <th>classification/f1.0</th>\n",
       "    </tr>\n",
       "  </thead>\n",
       "  <tbody>\n",
       "    <tr>\n",
       "      <th>1200</th>\n",
       "      <td>1201</td>\n",
       "      <td>58713</td>\n",
       "      <td>1201</td>\n",
       "      <td>0.031296</td>\n",
       "      <td>1.0</td>\n",
       "      <td>1.0</td>\n",
       "      <td>0.046186</td>\n",
       "      <td>1.0</td>\n",
       "      <td>1.0</td>\n",
       "      <td>0.96</td>\n",
       "      <td>0.979592</td>\n",
       "      <td>0.941176</td>\n",
       "      <td>0.988796</td>\n",
       "      <td>0.990172</td>\n",
       "      <td>0.96</td>\n",
       "    </tr>\n",
       "  </tbody>\n",
       "</table>\n",
       "</div>"
      ],
      "text/plain": [
       "      step  elapsed_tokens  elapsed_examples  training_loss   \n",
       "1200  1201           58713              1201       0.031296  \\\n",
       "\n",
       "      training_sequence_accuracy  training_token_accuracy  validation_loss   \n",
       "1200                         1.0                      1.0         0.046186  \\\n",
       "\n",
       "      validation_sequence_accuracy  validation_token_accuracy   \n",
       "1200                           1.0                        1.0  \\\n",
       "\n",
       "      classification/accuracy  classification/precision   \n",
       "1200                     0.96                  0.979592  \\\n",
       "\n",
       "      classification/recall  classification/auroc  classification/auprc   \n",
       "1200               0.941176              0.988796              0.990172  \\\n",
       "\n",
       "      classification/f1.0  \n",
       "1200                 0.96  "
      ]
     },
     "execution_count": 24,
     "metadata": {},
     "output_type": "execute_result"
    }
   ],
   "source": [
    "gpt_ft_results = pd.read_csv('../docs/classification/results.csv')\n",
    "gpt_ft_results.tail(1)"
   ]
  },
  {
   "cell_type": "code",
   "execution_count": 29,
   "metadata": {},
   "outputs": [
    {
     "data": {
      "text/plain": [
       "<Axes: >"
      ]
     },
     "execution_count": 29,
     "metadata": {},
     "output_type": "execute_result"
    },
    {
     "data": {
      "image/png": "[encoded data removed]",
      "text/plain": [
       "<Figure size 640x480 with 1 Axes>"
      ]
     },
     "metadata": {},
     "output_type": "display_data"
    }
   ],
   "source": [
    "gpt_ft_results[['step', 'training_loss', 'classification/accuracy']]['training_loss'].plot()"
   ]
  },
  {
   "cell_type": "code",
   "execution_count": 32,
   "metadata": {},
   "outputs": [
    {
     "data": {
      "text/plain": [
       "<Axes: >"
      ]
     },
     "execution_count": 32,
     "metadata": {},
     "output_type": "execute_result"
    },
    {
     "data": {
      "image/png": "[encoded data removed]",
      "text/plain": [
       "<Figure size 640x480 with 1 Axes>"
      ]
     },
     "metadata": {},
     "output_type": "display_data"
    }
   ],
   "source": [
    "gpt_ft_results[gpt_ft_results['classification/accuracy'].notnull()]['classification/accuracy'].plot()"
   ]
  },
  {
   "cell_type": "code",
   "execution_count": null,
   "metadata": {},
   "outputs": [],
   "source": []
  },
  {
   "attachments": {},
   "cell_type": "markdown",
   "metadata": {},
   "source": [
    "Try out model"
   ]
  },
  {
   "cell_type": "code",
   "execution_count": 37,
   "metadata": {},
   "outputs": [
    {
     "name": "stdout",
     "output_type": "stream",
     "text": [
      "I kind of liked it at the beginning but then realized this is not what I expected. -> negative\n"
     ]
    }
   ],
   "source": [
    "!openai api completions.create \\\n",
    "    -m ada:ft-hiflylabs-zrt:sentimentscorer-2023-05-10-21-11-18 \\\n",
    "    -p \"I kind of liked it at the beginning but then realized this is not what I expected. ->\" \\\n",
    "    --max-tokens 1 \\\n",
    "    --temperature 0.0"
   ]
  },
  {
   "cell_type": "code",
   "execution_count": null,
   "metadata": {},
   "outputs": [],
   "source": []
  },
  {
   "attachments": {},
   "cell_type": "markdown",
   "metadata": {},
   "source": [
    "Run on original 500-batch to compare against all previous models"
   ]
  },
  {
   "cell_type": "code",
   "execution_count": 54,
   "metadata": {},
   "outputs": [],
   "source": [
    "ft_model = 'ada:ft-hiflylabs-zrt:sentimentscorer-2023-05-10-21-11-18'\n",
    "\n",
    "def GPT_completion(prompt, model):\n",
    "    res = openai.Completion.create(model=ft_model, prompt=prompt + ' ->', max_tokens=1, temperature=0, logprobs=2)\n",
    "    output = res['choices'][0]\n",
    "    return output['text'].strip().lower(), np.exp(output['logprobs']['token_logprobs'][0])"
   ]
  },
  {
   "cell_type": "code",
   "execution_count": 64,
   "metadata": {},
   "outputs": [
    {
     "name": "stdout",
     "output_type": "stream",
     "text": [
      "CPU times: total: 1.55 s\n",
      "Wall time: 1min 49s\n"
     ]
    }
   ],
   "source": [
    "%%time\n",
    "GPT_ft_output = [GPT_completion(i) for i in sequence_to_classify]"
   ]
  },
  {
   "cell_type": "code",
   "execution_count": 68,
   "metadata": {},
   "outputs": [],
   "source": [
    "GPT_ft_output = pd.DataFrame(GPT_ft_output, columns = ['label', 'score'])"
   ]
  },
  {
   "cell_type": "code",
   "execution_count": 70,
   "metadata": {},
   "outputs": [
    {
     "data": {
      "text/html": [
       "<div>\n",
       "<style scoped>\n",
       "    .dataframe tbody tr th:only-of-type {\n",
       "        vertical-align: middle;\n",
       "    }\n",
       "\n",
       "    .dataframe tbody tr th {\n",
       "        vertical-align: top;\n",
       "    }\n",
       "\n",
       "    .dataframe thead th {\n",
       "        text-align: right;\n",
       "    }\n",
       "</style>\n",
       "<table border=\"1\" class=\"dataframe\">\n",
       "  <thead>\n",
       "    <tr style=\"text-align: right;\">\n",
       "      <th></th>\n",
       "      <th>review</th>\n",
       "      <th>sentiment</th>\n",
       "      <th>label</th>\n",
       "      <th>score</th>\n",
       "    </tr>\n",
       "  </thead>\n",
       "  <tbody>\n",
       "    <tr>\n",
       "      <th>0</th>\n",
       "      <td>Needed cupcake rings, ended up with breast mil...</td>\n",
       "      <td>negative</td>\n",
       "      <td>negative</td>\n",
       "      <td>0.999172</td>\n",
       "    </tr>\n",
       "    <tr>\n",
       "      <th>1</th>\n",
       "      <td>One Star. This is the band I received.</td>\n",
       "      <td>negative</td>\n",
       "      <td>negative</td>\n",
       "      <td>0.999494</td>\n",
       "    </tr>\n",
       "    <tr>\n",
       "      <th>2</th>\n",
       "      <td>Good washer. Great product especially if you l...</td>\n",
       "      <td>positive</td>\n",
       "      <td>positive</td>\n",
       "      <td>0.999855</td>\n",
       "    </tr>\n",
       "  </tbody>\n",
       "</table>\n",
       "</div>"
      ],
      "text/plain": [
       "                                              review sentiment     label   \n",
       "0  Needed cupcake rings, ended up with breast mil...  negative  negative  \\\n",
       "1             One Star. This is the band I received.  negative  negative   \n",
       "2  Good washer. Great product especially if you l...  positive  positive   \n",
       "\n",
       "      score  \n",
       "0  0.999172  \n",
       "1  0.999494  \n",
       "2  0.999855  "
      ]
     },
     "execution_count": 70,
     "metadata": {},
     "output_type": "execute_result"
    }
   ],
   "source": [
    "GPT_ft_results = pd.concat([data, GPT_ft_output], axis = 1)\n",
    "GPT_ft_results.head(3)"
   ]
  },
  {
   "cell_type": "code",
   "execution_count": 73,
   "metadata": {},
   "outputs": [
    {
     "data": {
      "text/plain": [
       "label\n",
       "positive    257\n",
       "negative    243\n",
       "Name: count, dtype: int64"
      ]
     },
     "execution_count": 73,
     "metadata": {},
     "output_type": "execute_result"
    }
   ],
   "source": [
    "GPT_ft_results['label'].value_counts()"
   ]
  },
  {
   "attachments": {},
   "cell_type": "markdown",
   "metadata": {},
   "source": [
    "Finally, only pos and neg labels, as we wanted"
   ]
  },
  {
   "cell_type": "code",
   "execution_count": 76,
   "metadata": {},
   "outputs": [
    {
     "name": "stdout",
     "output_type": "stream",
     "text": [
      "              precision    recall  f1-score   support\n",
      "\n",
      "    negative       0.94      0.90      0.92       253\n",
      "    positive       0.90      0.94      0.92       247\n",
      "\n",
      "    accuracy                           0.92       500\n",
      "   macro avg       0.92      0.92      0.92       500\n",
      "weighted avg       0.92      0.92      0.92       500\n",
      "\n"
     ]
    }
   ],
   "source": [
    "print(classification_report(GPT_ft_results['sentiment'], GPT_ft_results['label']))"
   ]
  },
  {
   "cell_type": "code",
   "execution_count": 77,
   "metadata": {},
   "outputs": [
    {
     "data": {
      "text/html": [
       "<div>\n",
       "<style scoped>\n",
       "    .dataframe tbody tr th:only-of-type {\n",
       "        vertical-align: middle;\n",
       "    }\n",
       "\n",
       "    .dataframe tbody tr th {\n",
       "        vertical-align: top;\n",
       "    }\n",
       "\n",
       "    .dataframe thead th {\n",
       "        text-align: right;\n",
       "    }\n",
       "</style>\n",
       "<table border=\"1\" class=\"dataframe\">\n",
       "  <thead>\n",
       "    <tr style=\"text-align: right;\">\n",
       "      <th></th>\n",
       "      <th>Pred - Neg</th>\n",
       "      <th>Pred - Pos</th>\n",
       "    </tr>\n",
       "  </thead>\n",
       "  <tbody>\n",
       "    <tr>\n",
       "      <th>True - Neg</th>\n",
       "      <td>228</td>\n",
       "      <td>25</td>\n",
       "    </tr>\n",
       "    <tr>\n",
       "      <th>True - Pos</th>\n",
       "      <td>15</td>\n",
       "      <td>232</td>\n",
       "    </tr>\n",
       "  </tbody>\n",
       "</table>\n",
       "</div>"
      ],
      "text/plain": [
       "            Pred - Neg  Pred - Pos\n",
       "True - Neg         228          25\n",
       "True - Pos          15         232"
      ]
     },
     "execution_count": 77,
     "metadata": {},
     "output_type": "execute_result"
    }
   ],
   "source": [
    "pd.DataFrame(confusion_matrix(GPT_ft_results['sentiment'], GPT_ft_results['label'], labels = ['negative', 'positive']),\n",
    "             columns = ['Pred - Neg', 'Pred - Pos'], \n",
    "             index=['True - Neg', 'True - Pos'])"
   ]
  },
  {
   "cell_type": "code",
   "execution_count": null,
   "metadata": {},
   "outputs": [],
   "source": []
  },
  {
   "attachments": {},
   "cell_type": "markdown",
   "metadata": {},
   "source": [
    "Check mistakes out of curiosity"
   ]
  },
  {
   "cell_type": "code",
   "execution_count": 85,
   "metadata": {},
   "outputs": [
    {
     "data": {
      "text/html": [
       "<div>\n",
       "<style scoped>\n",
       "    .dataframe tbody tr th:only-of-type {\n",
       "        vertical-align: middle;\n",
       "    }\n",
       "\n",
       "    .dataframe tbody tr th {\n",
       "        vertical-align: top;\n",
       "    }\n",
       "\n",
       "    .dataframe thead th {\n",
       "        text-align: right;\n",
       "    }\n",
       "</style>\n",
       "<table border=\"1\" class=\"dataframe\">\n",
       "  <thead>\n",
       "    <tr style=\"text-align: right;\">\n",
       "      <th></th>\n",
       "      <th>review</th>\n",
       "      <th>sentiment</th>\n",
       "      <th>label</th>\n",
       "      <th>score</th>\n",
       "    </tr>\n",
       "  </thead>\n",
       "  <tbody>\n",
       "    <tr>\n",
       "      <th>250</th>\n",
       "      <td>Brittle stems of Knight Visors.. Did not like ...</td>\n",
       "      <td>positive</td>\n",
       "      <td>negative</td>\n",
       "      <td>0.999668</td>\n",
       "    </tr>\n",
       "    <tr>\n",
       "      <th>448</th>\n",
       "      <td>Usage Info. Product arrived with no documentat...</td>\n",
       "      <td>negative</td>\n",
       "      <td>positive</td>\n",
       "      <td>0.742399</td>\n",
       "    </tr>\n",
       "    <tr>\n",
       "      <th>403</th>\n",
       "      <td>Solid Bluetooth Connection to Apple Watch, med...</td>\n",
       "      <td>positive</td>\n",
       "      <td>negative</td>\n",
       "      <td>0.520883</td>\n",
       "    </tr>\n",
       "    <tr>\n",
       "      <th>258</th>\n",
       "      <td>Simply does not work as described. Literally j...</td>\n",
       "      <td>negative</td>\n",
       "      <td>positive</td>\n",
       "      <td>0.521634</td>\n",
       "    </tr>\n",
       "  </tbody>\n",
       "</table>\n",
       "</div>"
      ],
      "text/plain": [
       "                                                review sentiment     label   \n",
       "250  Brittle stems of Knight Visors.. Did not like ...  positive  negative  \\\n",
       "448  Usage Info. Product arrived with no documentat...  negative  positive   \n",
       "403  Solid Bluetooth Connection to Apple Watch, med...  positive  negative   \n",
       "258  Simply does not work as described. Literally j...  negative  positive   \n",
       "\n",
       "        score  \n",
       "250  0.999668  \n",
       "448  0.742399  \n",
       "403  0.520883  \n",
       "258  0.521634  "
      ]
     },
     "execution_count": 85,
     "metadata": {},
     "output_type": "execute_result"
    }
   ],
   "source": [
    "GPT_ft_results[GPT_ft_results['sentiment'] != GPT_ft_results['label']].sample(4, random_state = 7)"
   ]
  },
  {
   "cell_type": "code",
   "execution_count": null,
   "metadata": {},
   "outputs": [],
   "source": []
  },
  {
   "attachments": {},
   "cell_type": "markdown",
   "metadata": {},
   "source": [
    "### 5.2 Finetuning `GPT-davinci` model\n",
    "\n",
    "We've seen how `ada` performed, and it was already very good. Now let's see how far can `davinci` go"
   ]
  },
  {
   "cell_type": "code",
   "execution_count": 96,
   "metadata": {},
   "outputs": [],
   "source": [
    "!openai api fine_tunes.create \\\n",
    "--training_file ../docs/classification/all_training_data_prepared_train.jsonl \\\n",
    "--validation_file ../docs/classification/all_training_data_prepared_valid.jsonl \\\n",
    "--model davinci \\\n",
    "--suffix \"SentimentScorer\" \\\n",
    "--n_epochs 3 \\\n",
    "--compute_classification_metrics \\\n",
    "--classification_positive_class \" positive\""
   ]
  },
  {
   "cell_type": "code",
   "execution_count": null,
   "metadata": {},
   "outputs": [],
   "source": [
    "!openai api fine_tunes.follow -i ft-v8f3alMpQEH6F3QVaxtyyn7M"
   ]
  },
  {
   "cell_type": "code",
   "execution_count": null,
   "metadata": {},
   "outputs": [],
   "source": [
    "!openai api fine_tunes.results -i ft-v8f3alMpQEH6F3QVaxtyyn7M > ../docs/classification/results_davinci.csv"
   ]
  },
  {
   "cell_type": "code",
   "execution_count": null,
   "metadata": {},
   "outputs": [],
   "source": [
    "gpt_ft_davinci_results = pd.read_csv('../docs/classification/results_davinci.csv')\n",
    "gpt_ft_davinci_results.tail(1)"
   ]
  },
  {
   "cell_type": "code",
   "execution_count": null,
   "metadata": {},
   "outputs": [],
   "source": [
    "gpt_ft_davinci_results[['step', 'training_loss', 'classification/accuracy']]['training_loss'].plot()"
   ]
  },
  {
   "cell_type": "code",
   "execution_count": null,
   "metadata": {},
   "outputs": [],
   "source": [
    "gpt_ft_davinci_results[gpt_ft_davinci_results['classification/accuracy'].notnull()]['classification/accuracy'].plot()"
   ]
  },
  {
   "cell_type": "code",
   "execution_count": null,
   "metadata": {},
   "outputs": [],
   "source": []
  },
  {
   "attachments": {},
   "cell_type": "markdown",
   "metadata": {},
   "source": [
    "Try `davinci` model"
   ]
  },
  {
   "cell_type": "code",
   "execution_count": null,
   "metadata": {},
   "outputs": [],
   "source": [
    "!openai api completions.create \\\n",
    "    -m ada:ft-hiflylabs-zrt:sentimentscorer-2023-05-10-21-11-18 \\\n",
    "    -p \"I kind of liked it at the beginning but then realized this is not what I expected. ->\" \\\n",
    "    --max-tokens 1 \\\n",
    "    --temperature 0.0"
   ]
  },
  {
   "attachments": {},
   "cell_type": "markdown",
   "metadata": {},
   "source": [
    "Batch run"
   ]
  },
  {
   "cell_type": "code",
   "execution_count": null,
   "metadata": {},
   "outputs": [],
   "source": [
    "ft_davinci_model = 'ada:ft-hiflylabs-zrt:sentimentscorer-2023-05-10-21-11-18'"
   ]
  },
  {
   "cell_type": "code",
   "execution_count": null,
   "metadata": {},
   "outputs": [],
   "source": [
    "GPT_completion('Liked it', ft_davinci_model) "
   ]
  },
  {
   "cell_type": "code",
   "execution_count": null,
   "metadata": {},
   "outputs": [],
   "source": [
    "%%time\n",
    "GPT_ft_davinci_output = [GPT_completion(i, ft_davinci_model) for i in sequence_to_classify]"
   ]
  },
  {
   "cell_type": "code",
   "execution_count": null,
   "metadata": {},
   "outputs": [],
   "source": [
    "GPT_ft_davinci_output"
   ]
  },
  {
   "cell_type": "code",
   "execution_count": null,
   "metadata": {},
   "outputs": [],
   "source": [
    "GPT_ft_davinci_output = pd.DataFrame(GPT_ft_davinci_output, columns = ['label', 'score'])"
   ]
  },
  {
   "cell_type": "code",
   "execution_count": null,
   "metadata": {},
   "outputs": [],
   "source": [
    "GPT_ft_davinci_results = pd.concat([data, GPT_ft_davinci_output], axis = 1)\n",
    "GPT_ft_davinci_results.head(3)"
   ]
  },
  {
   "cell_type": "code",
   "execution_count": null,
   "metadata": {},
   "outputs": [],
   "source": [
    "GPT_ft_davinci_results['label'].value_counts()"
   ]
  },
  {
   "cell_type": "code",
   "execution_count": null,
   "metadata": {},
   "outputs": [],
   "source": [
    "print(classification_report(GPT_ft_davinci_results['sentiment'], GPT_ft_davinci_results['label']))"
   ]
  },
  {
   "cell_type": "code",
   "execution_count": null,
   "metadata": {},
   "outputs": [],
   "source": [
    "pd.DataFrame(confusion_matrix(GPT_ft_davinci_results['sentiment'], GPT_ft_davinci_results['label'], labels = ['negative', 'positive']),\n",
    "             columns = ['Pred - Neg', 'Pred - Pos'], \n",
    "             index=['True - Neg', 'True - Pos'])"
   ]
  },
  {
   "cell_type": "code",
   "execution_count": null,
   "metadata": {},
   "outputs": [],
   "source": [
    "GPT_ft_davinci_results[GPT_ft_davinci_results['sentiment'] != GPT_ft_davinci_results['label']].sample(4, random_state = 7)"
   ]
  },
  {
   "cell_type": "code",
   "execution_count": null,
   "metadata": {},
   "outputs": [],
   "source": []
  }
 ],
 "metadata": {
  "kernelspec": {
   "display_name": "openAI_venv",
   "language": "python",
   "name": "python3"
  },
  "language_info": {
   "codemirror_mode": {
    "name": "ipython",
    "version": 3
   },
   "file_extension": ".py",
   "mimetype": "text/x-python",
   "name": "python",
   "nbconvert_exporter": "python",
   "pygments_lexer": "ipython3",
   "version": "3.9.7"
  },
  "orig_nbformat": 4
 },
 "nbformat": 4,
 "nbformat_minor": 2
}
